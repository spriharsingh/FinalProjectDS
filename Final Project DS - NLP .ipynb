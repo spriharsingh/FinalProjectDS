{
 "cells": [
  {
   "cell_type": "code",
   "execution_count": 83,
   "id": "19d913e5",
   "metadata": {},
   "outputs": [],
   "source": [
    "import pandas as pd\n",
    "import numpy as np\n",
    "import nltk\n",
    "from nltk import pos_tag\n",
    "from nltk import word_tokenize\n",
    "import re"
   ]
  },
  {
   "cell_type": "code",
   "execution_count": 84,
   "id": "d72eb29c",
   "metadata": {},
   "outputs": [],
   "source": [
    "from matplotlib import pyplot as plt\n",
    "import warnings\n",
    "warnings.filterwarnings('ignore')"
   ]
  },
  {
   "cell_type": "code",
   "execution_count": 85,
   "id": "9ef97787",
   "metadata": {},
   "outputs": [],
   "source": [
    "# A dataset collected from Kaggle (collection of Tweets)\n",
    "df = pd.read_csv('C:/Users/Spriha/OneDrive/Desktop/FinalBalancedDataset.csv')\n",
    "df = df[['Toxicity','Tweet']]"
   ]
  },
  {
   "cell_type": "code",
   "execution_count": 86,
   "id": "e91df23b",
   "metadata": {},
   "outputs": [
    {
     "data": {
      "text/html": [
       "<div>\n",
       "<style scoped>\n",
       "    .dataframe tbody tr th:only-of-type {\n",
       "        vertical-align: middle;\n",
       "    }\n",
       "\n",
       "    .dataframe tbody tr th {\n",
       "        vertical-align: top;\n",
       "    }\n",
       "\n",
       "    .dataframe thead th {\n",
       "        text-align: right;\n",
       "    }\n",
       "</style>\n",
       "<table border=\"1\" class=\"dataframe\">\n",
       "  <thead>\n",
       "    <tr style=\"text-align: right;\">\n",
       "      <th></th>\n",
       "      <th>Toxicity</th>\n",
       "      <th>Tweet</th>\n",
       "    </tr>\n",
       "  </thead>\n",
       "  <tbody>\n",
       "    <tr>\n",
       "      <th>0</th>\n",
       "      <td>0</td>\n",
       "      <td>@user when a father is dysfunctional and is s...</td>\n",
       "    </tr>\n",
       "    <tr>\n",
       "      <th>1</th>\n",
       "      <td>0</td>\n",
       "      <td>@user @user thanks for #lyft credit i can't us...</td>\n",
       "    </tr>\n",
       "    <tr>\n",
       "      <th>2</th>\n",
       "      <td>0</td>\n",
       "      <td>bihday your majesty</td>\n",
       "    </tr>\n",
       "    <tr>\n",
       "      <th>3</th>\n",
       "      <td>0</td>\n",
       "      <td>#model   i love u take with u all the time in ...</td>\n",
       "    </tr>\n",
       "    <tr>\n",
       "      <th>4</th>\n",
       "      <td>0</td>\n",
       "      <td>factsguide: society now    #motivation</td>\n",
       "    </tr>\n",
       "  </tbody>\n",
       "</table>\n",
       "</div>"
      ],
      "text/plain": [
       "   Toxicity                                              Tweet\n",
       "0         0   @user when a father is dysfunctional and is s...\n",
       "1         0  @user @user thanks for #lyft credit i can't us...\n",
       "2         0                                bihday your majesty\n",
       "3         0  #model   i love u take with u all the time in ...\n",
       "4         0             factsguide: society now    #motivation"
      ]
     },
     "execution_count": 86,
     "metadata": {},
     "output_type": "execute_result"
    }
   ],
   "source": [
    "df.head()"
   ]
  },
  {
   "cell_type": "code",
   "execution_count": 87,
   "id": "e027ab46",
   "metadata": {},
   "outputs": [
    {
     "data": {
      "text/plain": [
       "56745"
      ]
     },
     "execution_count": 87,
     "metadata": {},
     "output_type": "execute_result"
    }
   ],
   "source": [
    "len(df['Tweet'])"
   ]
  },
  {
   "cell_type": "code",
   "execution_count": 88,
   "id": "87202144",
   "metadata": {},
   "outputs": [
    {
     "data": {
      "text/plain": [
       "' @user when a father is dysfunctional and is so selfish he drags his kids into his dysfunction.   #run'"
      ]
     },
     "execution_count": 88,
     "metadata": {},
     "output_type": "execute_result"
    }
   ],
   "source": [
    "df['Tweet'][0]"
   ]
  },
  {
   "cell_type": "code",
   "execution_count": 89,
   "id": "c2139c78",
   "metadata": {},
   "outputs": [],
   "source": [
    "# Preprocess the text data\n",
    "for i in range(len(df['Tweet'])):\n",
    "    df['Tweet'][i] = df['Tweet'][i].lower()\n",
    "    df['Tweet'][i] = df['Tweet'][i].strip()\n",
    "    df['Tweet'][i] = re.sub(r'\\W', ' ', df['Tweet'][i])\n",
    "    df['Tweet'][i] = re.sub(r'\\s+', ' ', df['Tweet'][i])"
   ]
  },
  {
   "cell_type": "code",
   "execution_count": 90,
   "id": "16437e93",
   "metadata": {},
   "outputs": [],
   "source": [
    "l = list(range(0, df.shape[0]))\n",
    "np.random.shuffle(l)"
   ]
  },
  {
   "cell_type": "code",
   "execution_count": 91,
   "id": "7eeeb0f6",
   "metadata": {},
   "outputs": [],
   "source": [
    "dataset = df.loc[l[:10000],:]"
   ]
  },
  {
   "cell_type": "code",
   "execution_count": 92,
   "id": "9981e05c",
   "metadata": {},
   "outputs": [],
   "source": [
    "#Tokenise the text data\n",
    "\n",
    "tokenized_data = []\n",
    "for each in dataset['Tweet']:\n",
    "    tokenized_data.append(word_tokenize(each))"
   ]
  },
  {
   "cell_type": "code",
   "execution_count": 93,
   "id": "a479d1a5",
   "metadata": {},
   "outputs": [
    {
     "data": {
      "text/plain": [
       "['goodonedean',\n",
       " 'metoo',\n",
       " 'lol',\n",
       " 'trumpism',\n",
       " 'is',\n",
       " 'putinism',\n",
       " 'donaldtrump',\n",
       " 'is',\n",
       " 'a',\n",
       " 'traitor',\n",
       " 'committed',\n",
       " 'treason',\n",
       " 'â']"
      ]
     },
     "execution_count": 93,
     "metadata": {},
     "output_type": "execute_result"
    }
   ],
   "source": [
    "tokenized_data[0]"
   ]
  },
  {
   "cell_type": "code",
   "execution_count": 94,
   "id": "f5489417",
   "metadata": {},
   "outputs": [],
   "source": [
    "# Removing stopwords and stemming !!\n",
    "\n",
    "from nltk.corpus import stopwords\n",
    "sw = stopwords.words('english')\n",
    "\n",
    "from nltk.stem import SnowballStemmer\n",
    "sb = SnowballStemmer('english')\n",
    "\n",
    "stemmed_data =[]\n",
    "for each in tokenized_data:\n",
    "    ind_list_stemmed =[]\n",
    "    for each_word in each:\n",
    "        if each_word not in sw:\n",
    "            ind_list_stemmed.append(sb.stem(each_word))\n",
    "    stemmed_data.append(ind_list_stemmed)\n"
   ]
  },
  {
   "cell_type": "code",
   "execution_count": 95,
   "id": "3b0fb57c",
   "metadata": {},
   "outputs": [],
   "source": [
    "stemmed_strings = []\n",
    "for each in stemmed_data:\n",
    "    stemmed_strings.append(' '.join(each))"
   ]
  },
  {
   "cell_type": "code",
   "execution_count": 96,
   "id": "75354757",
   "metadata": {},
   "outputs": [
    {
     "data": {
      "text/plain": [
       "\"#Lemmatization\\n\\ndef get_pos_tag(word_net_tag):\\n    if word_net_tag[0] == 'J':\\n        pos_tag = 'a'\\n    elif word_net_tag[0] == 'V':\\n        pos_tag = 'v'\\n    elif word_net_tag[0] == 'R':\\n        pos_tag = 'r'\\n    else:\\n        pos_tag ='n'\\n    return pos_tag\\n\\n\\nfrom nltk import WordNetLemmatizer\\nlm = WordNetLemmatizer()\\n\\nlemmatized_data =[]\\nfor each in tokenized_data:\\n    ind_list_lemmatized =[]\\n    for each_word in each:\\n        if each_word not in sw:\\n            ind_list_lemmatized.append(lm.lemmatize(each_word, get_pos_tag(pos_tag([each_word])[0][1])))\\n    lemmatized_data.append(ind_list_lemmatized)\""
      ]
     },
     "execution_count": 96,
     "metadata": {},
     "output_type": "execute_result"
    }
   ],
   "source": [
    "'''#Lemmatization\n",
    "\n",
    "def get_pos_tag(word_net_tag):\n",
    "    if word_net_tag[0] == 'J':\n",
    "        pos_tag = 'a'\n",
    "    elif word_net_tag[0] == 'V':\n",
    "        pos_tag = 'v'\n",
    "    elif word_net_tag[0] == 'R':\n",
    "        pos_tag = 'r'\n",
    "    else:\n",
    "        pos_tag ='n'\n",
    "    return pos_tag\n",
    "\n",
    "\n",
    "from nltk import WordNetLemmatizer\n",
    "lm = WordNetLemmatizer()\n",
    "\n",
    "lemmatized_data =[]\n",
    "for each in tokenized_data:\n",
    "    ind_list_lemmatized =[]\n",
    "    for each_word in each:\n",
    "        if each_word not in sw:\n",
    "            ind_list_lemmatized.append(lm.lemmatize(each_word, get_pos_tag(pos_tag([each_word])[0][1])))\n",
    "    lemmatized_data.append(ind_list_lemmatized)'''"
   ]
  },
  {
   "cell_type": "code",
   "execution_count": 97,
   "id": "d7434397",
   "metadata": {},
   "outputs": [
    {
     "data": {
      "text/plain": [
       "\"lemmatized_strings = []\\nfor each in lemmatized_data:\\n    lemmatized_strings.append(' '.join(each))\""
      ]
     },
     "execution_count": 97,
     "metadata": {},
     "output_type": "execute_result"
    }
   ],
   "source": [
    "'''lemmatized_strings = []\n",
    "for each in lemmatized_data:\n",
    "    lemmatized_strings.append(' '.join(each))'''"
   ]
  },
  {
   "cell_type": "code",
   "execution_count": 98,
   "id": "1f6455a0",
   "metadata": {},
   "outputs": [
    {
     "data": {
      "text/plain": [
       "matrix([[0., 0., 0., ..., 0., 0., 0.],\n",
       "        [0., 0., 0., ..., 0., 0., 0.],\n",
       "        [0., 0., 0., ..., 0., 0., 0.],\n",
       "        ...,\n",
       "        [0., 0., 0., ..., 0., 0., 0.],\n",
       "        [0., 0., 0., ..., 0., 0., 0.],\n",
       "        [0., 0., 0., ..., 0., 0., 0.]])"
      ]
     },
     "execution_count": 98,
     "metadata": {},
     "output_type": "execute_result"
    }
   ],
   "source": [
    "# Applying TF-IDF to stemmed words\n",
    "\n",
    "from sklearn.feature_extraction.text import TfidfVectorizer\n",
    "tfidf = TfidfVectorizer()\n",
    "tfidf.fit_transform(stemmed_strings).todense()"
   ]
  },
  {
   "cell_type": "code",
   "execution_count": 99,
   "id": "cb2d9e9b",
   "metadata": {},
   "outputs": [
    {
     "data": {
      "text/plain": [
       "{'goodonedean': 6763,\n",
       " 'metoo': 10302,\n",
       " 'lol': 9621,\n",
       " 'trumpism': 16261,\n",
       " 'putin': 12763,\n",
       " 'donaldtrump': 4825,\n",
       " 'traitor': 16117,\n",
       " 'commit': 3794,\n",
       " 'treason': 16160,\n",
       " 'user': 16638,\n",
       " 'time': 15886,\n",
       " 'get': 6536,\n",
       " 'freelanc': 6205,\n",
       " 'hat': 7208,\n",
       " 'novel': 11338,\n",
       " 'write': 17623,\n",
       " 'later': 9224,\n",
       " 'writer': 17624,\n",
       " 'woke': 17513,\n",
       " 'amp': 1363,\n",
       " 'boy': 2682,\n",
       " 'got': 6797,\n",
       " 'right': 13322,\n",
       " 'kad': 8765,\n",
       " 'raya': 12973,\n",
       " 'still': 14940,\n",
       " 'relev': 13140,\n",
       " 'regardless': 13105,\n",
       " 'advanc': 1047,\n",
       " 'technolog': 15496,\n",
       " 'kan': 8778,\n",
       " 'tri': 16190,\n",
       " 'find': 5874,\n",
       " 'music': 10790,\n",
       " 'one': 11594,\n",
       " 'takda': 15354,\n",
       " 'dan': 4282,\n",
       " 'tak': 15352,\n",
       " 'banyak': 1962,\n",
       " 'pilihan': 12189,\n",
       " 'expand': 5534,\n",
       " 'pic': 12161,\n",
       " 'empti': 5298,\n",
       " 'tide': 15863,\n",
       " 'turn': 16321,\n",
       " 'wth': 17647,\n",
       " 'mexican': 10308,\n",
       " 'judg': 8680,\n",
       " 'believ': 2187,\n",
       " 'rt': 13512,\n",
       " 'anarchistrev': 1382,\n",
       " 'longer': 9644,\n",
       " 'will': 17422,\n",
       " 'claim': 3591,\n",
       " 'like': 9452,\n",
       " 'queer': 12816,\n",
       " 'ralli': 12908,\n",
       " 'cri': 4086,\n",
       " 'toni': 16003,\n",
       " 'todd': 15962,\n",
       " 'follow': 6070,\n",
       " 'back': 1857,\n",
       " 'psych': 12675,\n",
       " 'uk': 16455,\n",
       " '2016': 388,\n",
       " 'express': 5552,\n",
       " 'photo': 12143,\n",
       " 'euref': 5449,\n",
       " 'brexit': 2761,\n",
       " 'kick': 8926,\n",
       " 'door': 4848,\n",
       " 'smack': 14434,\n",
       " 'bitch': 2397,\n",
       " 'lowkei_': 9768,\n",
       " 'make': 9951,\n",
       " 'wan': 17021,\n",
       " 'na': 10879,\n",
       " 'ride': 13312,\n",
       " 'past': 11933,\n",
       " 'ya': 17746,\n",
       " 'hous': 7608,\n",
       " 'sit': 14305,\n",
       " 'yay': 17791,\n",
       " 'congrat': 3863,\n",
       " 'great': 6864,\n",
       " 'album': 1183,\n",
       " 'number1': 11384,\n",
       " 'rickastley50': 13304,\n",
       " 'end': 5310,\n",
       " 'know': 9040,\n",
       " 'weekend': 17181,\n",
       " 'friday': 6230,\n",
       " 'son': 14602,\n",
       " 'electron': 5226,\n",
       " 'bogota': 2575,\n",
       " 'colombia': 3750,\n",
       " 'puntohost': 12735,\n",
       " 'edm': 5163,\n",
       " 'dj': 4740,\n",
       " 'fashion': 5688,\n",
       " 'jeffgill24': 8462,\n",
       " 'hey': 7387,\n",
       " 'teabagg': 15456,\n",
       " 'bohner': 2578,\n",
       " 'said': 13622,\n",
       " '98': 730,\n",
       " 'want': 17033,\n",
       " 'sequest': 13957,\n",
       " 'sound': 14657,\n",
       " 'moron': 10649,\n",
       " 'everyon': 5483,\n",
       " 'lie': 9419,\n",
       " 'ryancruz_': 13569,\n",
       " 'stamp': 14833,\n",
       " 'say': 13736,\n",
       " 'anyth': 1489,\n",
       " '128564': 248,\n",
       " 'impress': 7940,\n",
       " 'i_am': 7731,\n",
       " 'posit': 12422,\n",
       " 'affirm': 1070,\n",
       " 'caseytu88662466': 3202,\n",
       " 'play': 12268,\n",
       " 'pussi': 12757,\n",
       " 'fuck': 6282,\n",
       " 'exhibitor': 5526,\n",
       " 'day': 4361,\n",
       " 'goldsmithsfair': 6723,\n",
       " 'weektwo': 17188,\n",
       " 'jennytripletit': 8486,\n",
       " 'also': 1285,\n",
       " 'bird': 2384,\n",
       " 'citi': 3575,\n",
       " 'math': 10118,\n",
       " 'theorem': 15693,\n",
       " 'assumpt': 1663,\n",
       " '8220': 686,\n",
       " 'weakass_drex': 17123,\n",
       " 'jennif': 8483,\n",
       " 'hudson': 7654,\n",
       " 'lose': 9687,\n",
       " 'weight': 17198,\n",
       " 'anybodi': 1484,\n",
       " 'fat': 5699,\n",
       " 'ass': 1645,\n",
       " 'hoe': 7470,\n",
       " '8221': 687,\n",
       " '128514': 207,\n",
       " 'grown': 6944,\n",
       " 'men': 10253,\n",
       " 'offend': 11489,\n",
       " 'hilari': 7419,\n",
       " 'yaboymj23': 17762,\n",
       " 'mj': 10500,\n",
       " 'fav': 5722,\n",
       " 'nigga': 11164,\n",
       " 'http': 7643,\n",
       " 'co': 3683,\n",
       " 'y4yic38qw': 17743,\n",
       " 'roll': 13436,\n",
       " 'royc': 13499,\n",
       " 'wed': 17159,\n",
       " 'weddingday': 17162,\n",
       " 'bride': 2771,\n",
       " 'love': 9708,\n",
       " 'weddinginspir': 17164,\n",
       " 'hmmm': 7462,\n",
       " 'amodu': 1356,\n",
       " 'dead': 4389,\n",
       " 'dis': 4671,\n",
       " 'mornin': 10642,\n",
       " '2hear': 447,\n",
       " 'diz': 4738,\n",
       " 'devast': 4574,\n",
       " 'news': 11084,\n",
       " 'may': 10145,\n",
       " 'god': 6690,\n",
       " 'grant': 6849,\n",
       " 'left': 9314,\n",
       " 'behind': 2170,\n",
       " 'foitud': 6064,\n",
       " '2bear': 439,\n",
       " 'loss': 9689,\n",
       " 'calvii': 3064,\n",
       " 'troncat1003': 16234,\n",
       " 'theyr': 15744,\n",
       " 'afraid': 1076,\n",
       " 'person': 12081,\n",
       " 'lexxinnn': 9388,\n",
       " 'broke': 2808,\n",
       " '8252': 690,\n",
       " '65039': 626,\n",
       " 'crazi': 4053,\n",
       " 'better': 2270,\n",
       " '128056': 144,\n",
       " '9749': 727,\n",
       " '11th': 91,\n",
       " 'year': 17806,\n",
       " 'anniversari': 1443,\n",
       " 'michael': 10328,\n",
       " 'jackson': 8345,\n",
       " 'vindic': 16831,\n",
       " 'hate': 7209,\n",
       " 'bigotri': 2334,\n",
       " 'greed': 6882,\n",
       " 'new': 11051,\n",
       " 'religion': 13144,\n",
       " 'makeamericagreatagain': 9952,\n",
       " 'trump': 16259,\n",
       " 'goppropaganda': 6781,\n",
       " '12': 93,\n",
       " 'thing': 15755,\n",
       " 'peopl': 12041,\n",
       " 'differ': 4624,\n",
       " 'infograph': 8028,\n",
       " 'inspir': 8068,\n",
       " 'gratitud': 6859,\n",
       " 'need': 10991,\n",
       " 'caption': 3146,\n",
       " 'mitwamol': 10493,\n",
       " 'funlov': 6335,\n",
       " 'respect': 13215,\n",
       " 'money': 10575,\n",
       " 'real': 13003,\n",
       " 'nicca': 11137,\n",
       " 'cool': 3922,\n",
       " 'yaar': 17756,\n",
       " 'thank': 15589,\n",
       " 'gps': 6822,\n",
       " 'unforgett': 16534,\n",
       " 'road': 13388,\n",
       " 'trip': 16213,\n",
       " 'life': 9420,\n",
       " 'weddinganniversaryâ': 17161,\n",
       " 'polit': 12349,\n",
       " 'pa': 11814,\n",
       " 'amaz': 1312,\n",
       " 'fetish': 5824,\n",
       " 'film': 5857,\n",
       " 'project': 12607,\n",
       " 'crowdfund': 4115,\n",
       " 'involv': 8164,\n",
       " 'creat': 4070,\n",
       " 'slipperi': 14409,\n",
       " 'slope': 14414,\n",
       " 'tho': 15784,\n",
       " 'player': 12271,\n",
       " 'gon': 6731,\n",
       " 'watch': 17072,\n",
       " 'mouth': 10680,\n",
       " 'toler': 15982,\n",
       " 'ignor': 7829,\n",
       " 'anymor': 1486,\n",
       " 'riparadis': 13343,\n",
       " 'innoc': 8054,\n",
       " 'fell': 5794,\n",
       " 'orlando': 11691,\n",
       " 'doe': 4777,\n",
       " 'everyday': 5481,\n",
       " 'sick': 14217,\n",
       " 'amazingxshow': 1318,\n",
       " 'eboni': 5125,\n",
       " 'go': 6678,\n",
       " 'far': 5673,\n",
       " 'whatev': 17295,\n",
       " 'take': 15355,\n",
       " 'care': 3157,\n",
       " 'laundri': 9247,\n",
       " 'call': 3052,\n",
       " '14': 277,\n",
       " 'hour': 7606,\n",
       " 'set': 13969,\n",
       " 'peak': 12002,\n",
       " 'nervous': 11022,\n",
       " 'determinedâ': 4566,\n",
       " 'jperez003': 8657,\n",
       " 'anti': 1464,\n",
       " 'american': 1335,\n",
       " 'how': 7619,\n",
       " 'feel': 5765,\n",
       " 'countri': 3989,\n",
       " 'bless': 2479,\n",
       " 'best': 2234,\n",
       " 'boyfriend': 2686,\n",
       " 'friend': 6237,\n",
       " 'could': 3979,\n",
       " 'ask': 1634,\n",
       " 'trade': 16101,\n",
       " 'mypeopl': 10853,\n",
       " 'wish': 17462,\n",
       " 'eddi': 5149,\n",
       " 'sing': 14273,\n",
       " 'lyric': 9846,\n",
       " 'tgif': 15574,\n",
       " 'livelif': 9547,\n",
       " 'today': 15959,\n",
       " 'well': 17216,\n",
       " 'yesterday': 17838,\n",
       " 'read': 12995,\n",
       " '106': 77,\n",
       " 'page': 11830,\n",
       " 'mind': 10414,\n",
       " 'sta': 14815,\n",
       " '45': 542,\n",
       " 'est': 5431,\n",
       " 'tometoppl': 15988,\n",
       " 'sure': 15205,\n",
       " 'tha': 15580,\n",
       " 'slump': 14427,\n",
       " 'guccilikesushi': 6979,\n",
       " 'thot': 15799,\n",
       " 'lb9i8rhtmv': 9267,\n",
       " 'millercoor': 10403,\n",
       " 'guy': 7023,\n",
       " 'enjoy': 5343,\n",
       " 'cold': 3726,\n",
       " 'yellow': 17823,\n",
       " 'belli': 2199,\n",
       " 'cue': 4161,\n",
       " 'violin': 16850,\n",
       " 'sososad': 14645,\n",
       " 'good': 6739,\n",
       " 'morn': 10641,\n",
       " 'sunshin': 15170,\n",
       " 'relax': 13134,\n",
       " 'feelfre': 5767,\n",
       " 'myfavoriteplac': 10833,\n",
       " 'sunday': 15143,\n",
       " 'sweeti': 15268,\n",
       " 'lucki': 9792,\n",
       " 'jersey': 8495,\n",
       " 'lot': 9692,\n",
       " 'bennettjam': 2215,\n",
       " 'defendtheland': 4445,\n",
       " 'allin216': 1248,\n",
       " 'aicl': 1131,\n",
       " 'truth': 16268,\n",
       " 'trc': 16156,\n",
       " 'comment': 3788,\n",
       " 'indignen': 7998,\n",
       " 'via': 16787,\n",
       " 'burnt': 2949,\n",
       " 'lip': 9510,\n",
       " 'eur': 5448,\n",
       " 'gbp': 6477,\n",
       " 'eras': 5396,\n",
       " 'recoveri': 13058,\n",
       " 'gain': 6404,\n",
       " '7840': 661,\n",
       " 'flat': 5972,\n",
       " 'around': 1579,\n",
       " '7800': 660,\n",
       " 'blog': 2500,\n",
       " 'silver': 14249,\n",
       " 'gold': 6713,\n",
       " 'forex': 6119,\n",
       " 'cancun': 3103,\n",
       " 'spring': 14780,\n",
       " 'breakð': 2736,\n",
       " 'yes': 17831,\n",
       " 'pleas': 12284,\n",
       " 'galsontour': 6416,\n",
       " 'jzolly23': 8755,\n",
       " 'jbilinovich': 8439,\n",
       " 'grow': 6941,\n",
       " 'mullet': 10759,\n",
       " 'togeth': 15973,\n",
       " 'hannahkubiak': 7140,\n",
       " 'us': 16624,\n",
       " 'kieffer_jason': 8935,\n",
       " 'made': 9894,\n",
       " 'drive': 4943,\n",
       " 'way': 17099,\n",
       " 'plano': 12254,\n",
       " 'fun': 6318,\n",
       " 'teas': 15490,\n",
       " 'laugh': 9238,\n",
       " 'enteain': 5358,\n",
       " 'funni': 6336,\n",
       " 'loveislov': 9723,\n",
       " 'prayfoheworld': 12489,\n",
       " 'found': 6150,\n",
       " 'someth': 14591,\n",
       " 'must': 10800,\n",
       " 'ist': 8255,\n",
       " 'meet': 10221,\n",
       " 'johnnyfootbali': 8606,\n",
       " 'yeah': 17802,\n",
       " 'kaepernick': 8768,\n",
       " 'might': 10359,\n",
       " 'bicep': 2302,\n",
       " 'greek': 6886,\n",
       " 'dude': 5006,\n",
       " 'look': 9659,\n",
       " 'conceiv': 3833,\n",
       " 'probosci': 12587,\n",
       " 'monkey': 10584,\n",
       " '8230': 689,\n",
       " 'swagner_813': 15241,\n",
       " 'hoser': 7585,\n",
       " 'hourglass': 7607,\n",
       " 'beauti': 2103,\n",
       " 'picoftheday': 12169,\n",
       " 'lovelovelov': 9728,\n",
       " 'travel': 16141,\n",
       " 'peaceâ': 11998,\n",
       " 'honey': 7532,\n",
       " 'noth': 11307,\n",
       " 'lt': 9785,\n",
       " 'sunset': 15169,\n",
       " 'skylin': 14358,\n",
       " 'beautifulday': 2105,\n",
       " 'befre': 2151,\n",
       " 'moneydriven': 10576,\n",
       " 'profan': 12594,\n",
       " 'word': 17554,\n",
       " 'bwahahahahahah': 2991,\n",
       " 'mad': 9885,\n",
       " 'gay': 6463,\n",
       " 'faggot': 5620,\n",
       " 'boi': 2579,\n",
       " 'everi': 5476,\n",
       " 'tryna': 16280,\n",
       " 'next': 11107,\n",
       " 'hello': 7333,\n",
       " 'melbourn': 10232,\n",
       " 'excit': 5513,\n",
       " 'omg': 11579,\n",
       " 'wow': 17608,\n",
       " 'sobeautifulhereâ': 14533,\n",
       " 'ho': 7465,\n",
       " 'nickiminaj': 11150,\n",
       " 'midnight_snacka': 10355,\n",
       " 'prove': 12651,\n",
       " 'point': 12332,\n",
       " 'speak': 14706,\n",
       " 'shit': 14118,\n",
       " 'studio': 15054,\n",
       " 'movi': 10684,\n",
       " 'grill': 6921,\n",
       " 'stfu': 14932,\n",
       " 'reason': 13027,\n",
       " 'singl': 14278,\n",
       " 'vsco': 16938,\n",
       " 'vscoph': 16944,\n",
       " 'coffe': 3716,\n",
       " 'hea': 7260,\n",
       " 'impoant': 7936,\n",
       " 'djceeloss': 4745,\n",
       " 'awwww': 1793,\n",
       " 'ill': 7856,\n",
       " 'show': 14173,\n",
       " 'turbo': 16316,\n",
       " 'colarbearr': 3725,\n",
       " 'hoeslovemytweet': 7474,\n",
       " 'realli': 13010,\n",
       " 'proud': 12645,\n",
       " 'mani': 10001,\n",
       " 'bring': 2783,\n",
       " 'dirti': 4669,\n",
       " 'home': 7502,\n",
       " 'saw': 13733,\n",
       " 'cant': 3120,\n",
       " 'wait': 16977,\n",
       " 'patricia': 11953,\n",
       " 'gem': 6500,\n",
       " 'pai': 11834,\n",
       " 'dontstop': 4842,\n",
       " 'brave': 2719,\n",
       " 'emoji': 5286,\n",
       " 'njoyhit40': 11208,\n",
       " '1hitmusicst': 348,\n",
       " 'join': 8611,\n",
       " 'nice': 11138,\n",
       " 'nyc': 11412,\n",
       " 'maliktend': 9975,\n",
       " 'gayer': 6465,\n",
       " 'bed': 2125,\n",
       " '128129': 167,\n",
       " 'abl': 939,\n",
       " 'rememb': 13153,\n",
       " 'let': 9358,\n",
       " 'gone': 6732,\n",
       " 'stuck': 15048,\n",
       " 'rock': 13412,\n",
       " 'nd': 10975,\n",
       " 'mufuckin': 10747,\n",
       " 'glock': 6652,\n",
       " 'bad': 1873,\n",
       " 'terribl': 15546,\n",
       " '128044': 139,\n",
       " 'freefaceridess': 6203,\n",
       " 'light': 9441,\n",
       " 'skin': 14337,\n",
       " 'respond': 13217,\n",
       " 'dm': 4758,\n",
       " 'lzlunyh5xo': 9849,\n",
       " 'lmao': 9576,\n",
       " 'blackbeauty515': 2435,\n",
       " '80sbaby4lif': 677,\n",
       " 'pound': 12446,\n",
       " 'cake': 3041,\n",
       " 'ufywcc9xci': 16439,\n",
       " 'kind': 8964,\n",
       " 'celebrain': 3286,\n",
       " 'rip': 13341,\n",
       " 'french': 6220,\n",
       " 'polic': 12345,\n",
       " 'man': 9987,\n",
       " 'wife': 17404,\n",
       " 'pari': 11902,\n",
       " 'finger': 5883,\n",
       " 'ta': 15320,\n",
       " 'break': 2731,\n",
       " 'mother': 10657,\n",
       " 'fucker': 6287,\n",
       " 'stop': 14976,\n",
       " 'damn': 4276,\n",
       " 'lighter': 9442,\n",
       " 'proseish': 12633,\n",
       " 'send': 13933,\n",
       " 'coward': 4013,\n",
       " 'old': 11559,\n",
       " 'sparki': 14702,\n",
       " 'smile': 14459,\n",
       " 'grate': 6857,\n",
       " 'zachsafteryou': 17986,\n",
       " 'freedomfray': 6199,\n",
       " 'littl': 9525,\n",
       " 'sissi': 14298,\n",
       " 'dramadough': 4904,\n",
       " 'narabprettyass': 10915,\n",
       " 'crip': 4093,\n",
       " 'dusti': 5038,\n",
       " 'asf': 1606,\n",
       " '128553': 240,\n",
       " 'trevso_electr': 16185,\n",
       " 'hot': 7591,\n",
       " 'bodi': 2565,\n",
       " 'bugatti': 2899,\n",
       " 'born': 2636,\n",
       " 'wealth': 17133,\n",
       " 'lmfao': 9585,\n",
       " 'didnt': 4617,\n",
       " 'ss4_fresh': 14811,\n",
       " 'vivelacourtney': 16880,\n",
       " 'cute': 4203,\n",
       " 'avi': 1765,\n",
       " 'color': 3755,\n",
       " 'contact': 3893,\n",
       " '128073': 150,\n",
       " '128064': 145,\n",
       " '128584': 257,\n",
       " 'yanke': 17775,\n",
       " 'complain': 3816,\n",
       " 'royal': 13495,\n",
       " 'win': 17434,\n",
       " 'game7': 6422,\n",
       " 'heart': 7289,\n",
       " 'al': 1169,\n",
       " 'die': 4618,\n",
       " 'flex': 5987,\n",
       " 'zone': 18043,\n",
       " 'earn': 5095,\n",
       " 'put': 12761,\n",
       " 'face': 5596,\n",
       " 'forward': 6138,\n",
       " 'madeintheusa': 9896,\n",
       " 'beautyblogg': 2111,\n",
       " 'skincar': 14338,\n",
       " 'antiag': 1465,\n",
       " 'selfi': 13907,\n",
       " 'ugli': 16444,\n",
       " 'itâ': 8301,\n",
       " 'somewhat': 14596,\n",
       " 'frighten': 6247,\n",
       " 'direct': 4662,\n",
       " 'least': 9298,\n",
       " 'mass': 10095,\n",
       " 'shoot': 14140,\n",
       " 'nightclub': 11176,\n",
       " 'yield': 17848,\n",
       " 'gop': 6780,\n",
       " 'prayer': 12483,\n",
       " 'statement': 14871,\n",
       " 'madisonmum_': 9900,\n",
       " 'told': 15981,\n",
       " 'never': 11043,\n",
       " 'fold': 6066,\n",
       " 'sell': 13916,\n",
       " 'sole': 14568,\n",
       " 'yu': 17938,\n",
       " 'stay': 14878,\n",
       " 'school': 13776,\n",
       " 'soul': 14650,\n",
       " 'autocorrect': 1752,\n",
       " 'model': 10535,\n",
       " 'urð': 16623,\n",
       " 'hear': 7286,\n",
       " 'summer': 15122,\n",
       " 'breez': 2745,\n",
       " 'fast': 5696,\n",
       " 'alon': 1273,\n",
       " 'midnight': 10354,\n",
       " 'think': 15762,\n",
       " 'tree': 16169,\n",
       " 'stump': 15061,\n",
       " 'becam': 2118,\n",
       " 'cycl': 4222,\n",
       " 'cx': 4219,\n",
       " 'bestfriend': 2245,\n",
       " 'bjayblast': 2419,\n",
       " 'famili': 5648,\n",
       " 'even': 5469,\n",
       " 'water': 17084,\n",
       " 'pop': 12389,\n",
       " 'red': 13062,\n",
       " 'pill': 12190,\n",
       " 'taken': 15357,\n",
       " 'swift': 15274,\n",
       " 'wtxeom': 17650,\n",
       " 'kitten': 9005,\n",
       " 'would': 17603,\n",
       " 'mail': 9937,\n",
       " 'uneduc': 16525,\n",
       " 'steph': 14910,\n",
       " 'curri': 4189,\n",
       " 'gettin': 6549,\n",
       " 'handl': 7125,\n",
       " 'rag': 12883,\n",
       " 'doll': 4799,\n",
       " 'lmfaooo': 9588,\n",
       " 'cat': 3218,\n",
       " 'kitti': 9006,\n",
       " 'kevin': 8896,\n",
       " '_kivnaaa': 845,\n",
       " 'vivalakash': 16877,\n",
       " 'nigguh': 11172,\n",
       " 'video': 16813,\n",
       " 'im': 7891,\n",
       " '128563': 247,\n",
       " 'famous': 5658,\n",
       " 'oss': 11716,\n",
       " 'mshomicide_': 10723,\n",
       " 'hella': 7330,\n",
       " '128520': 212,\n",
       " '128111': 161,\n",
       " 'asic': 1630,\n",
       " 'style': 15069,\n",
       " 'releas': 13137,\n",
       " 'fit': 5923,\n",
       " 'feet': 5783,\n",
       " 'mayb': 10148,\n",
       " 'hord': 7571,\n",
       " 'keep': 8847,\n",
       " 'workout': 17574,\n",
       " 'ankara': 1432,\n",
       " 'london': 9632,\n",
       " 'sew': 13981,\n",
       " 'servic': 13965,\n",
       " 'line': 9495,\n",
       " 'offici': 11495,\n",
       " 'underway': 16519,\n",
       " 'onomen': 11612,\n",
       " 'superwax': 15188,\n",
       " '99': 735,\n",
       " 'problem': 12585,\n",
       " 'johnydeep_': 8610,\n",
       " '20tolife_': 402,\n",
       " 'super': 15174,\n",
       " 'final': 5865,\n",
       " 'see': 13880,\n",
       " 'editori': 5161,\n",
       " 'print': 12571,\n",
       " 'youâ': 17928,\n",
       " 'interraci': 8135,\n",
       " 'coupl': 3993,\n",
       " 'tweet': 16344,\n",
       " 'republicantrash': 13192,\n",
       " 'cracker': 4032,\n",
       " 'whitepeopl': 17351,\n",
       " 'father': 5708,\n",
       " 'ªâ': 18067,\n",
       " 'ladi': 9147,\n",
       " 'ban': 1937,\n",
       " 'kentucki': 8880,\n",
       " 'mall': 9976,\n",
       " 'jcpenni': 8442,\n",
       " 'max': 10138,\n",
       " '1pm': 358,\n",
       " 'onward': 11621,\n",
       " 'tabledanc': 15325,\n",
       " 'rose': 13468,\n",
       " 'somthinboutsara': 14600,\n",
       " 'babi': 1838,\n",
       " 'restaur': 13220,\n",
       " 'liter': 9524,\n",
       " 'slam': 14368,\n",
       " 'close': 3643,\n",
       " 'throw': 15828,\n",
       " 'fish': 5916,\n",
       " 'daliasza': 4266,\n",
       " 'nochillpaz': 11225,\n",
       " 'somebodi': 14584,\n",
       " 'childish': 3447,\n",
       " 'gambino': 6418,\n",
       " 'trash': 16138,\n",
       " '8ejohdldd9': 703,\n",
       " 'wright_ontarget': 17621,\n",
       " 'western': 17252,\n",
       " 'jihadi': 8541,\n",
       " 'fanboy': 5661,\n",
       " 'use': 16635,\n",
       " 'languag': 9193,\n",
       " 'pepper': 12049,\n",
       " 'sentenc': 13948,\n",
       " 'arab': 1534,\n",
       " 'knowledg': 9042,\n",
       " 'comic': 3783,\n",
       " 'g2rca1xgh7': 6380,\n",
       " 'sorri': 14636,\n",
       " 'rest': 13219,\n",
       " 'peac': 11994,\n",
       " 'journey': 8645,\n",
       " 'begin': 2156,\n",
       " 'thejourneybegin': 15676,\n",
       " 'helloâ': 7340,\n",
       " 'porn': 12411,\n",
       " 'vid': 16811,\n",
       " 'wwwsmallgirlsexcom': 17667,\n",
       " 'world': 17579,\n",
       " 'human': 7664,\n",
       " 'happi': 7149,\n",
       " 'duncanidunno': 5026,\n",
       " 'smash': 14445,\n",
       " 'windshield': 17439,\n",
       " 'coorslightca': 3934,\n",
       " 'bee': 2131,\n",
       " 'coor': 3930,\n",
       " 'drinker': 4940,\n",
       " 'cancel': 3100,\n",
       " 'move': 10682,\n",
       " 'late': 9220,\n",
       " 'much': 10737,\n",
       " 'lost': 9690,\n",
       " 'big': 2312,\n",
       " 'wig': 17408,\n",
       " 'game': 6420,\n",
       " 'opi': 11654,\n",
       " 'gorilla': 6789,\n",
       " 'simul': 14263,\n",
       " 'adapt': 1018,\n",
       " 'environ': 5372,\n",
       " 'tear': 15488,\n",
       " 'materi': 10116,\n",
       " 'da': 4236,\n",
       " 'jonniesantana': 8624,\n",
       " 'fed': 5754,\n",
       " 'bro': 2799,\n",
       " 'geno': 6513,\n",
       " 'threw': 15818,\n",
       " 'yet': 17840,\n",
       " 'anoth': 1454,\n",
       " 'pick': 12163,\n",
       " 'smh': 14458,\n",
       " 'chaber': 3321,\n",
       " 'book': 2613,\n",
       " 'bragadayjah': 2704,\n",
       " '315': 485,\n",
       " 'qtr6lzcsdj': 12790,\n",
       " 'restrict': 13228,\n",
       " 'eat': 5111,\n",
       " 'certain': 3313,\n",
       " 'insect': 8061,\n",
       " 'present': 12524,\n",
       " 'gemma': 6502,\n",
       " 'announc': 1446,\n",
       " 'pair': 11842,\n",
       " 'christian': 3522,\n",
       " 'loyboutin': 9776,\n",
       " 'shoe': 14133,\n",
       " 'heaven': 7298,\n",
       " 'shoelov': 14135,\n",
       " 'classi': 3603,\n",
       " 'niggah': 11166,\n",
       " 'ratchet': 12959,\n",
       " 'lebronvuitton': 9306,\n",
       " 'annoy': 1447,\n",
       " 'start': 14863,\n",
       " 'talkin': 15372,\n",
       " 'bout': 2674,\n",
       " 'nevermind': 11048,\n",
       " 'readi': 12998,\n",
       " 'kolkata': 9061,\n",
       " 'pinkbal': 12201,\n",
       " 'edengarden': 5151,\n",
       " 'ovoxo_alamillo': 11788,\n",
       " 'talk': 15371,\n",
       " 'leav': 9300,\n",
       " 'kannywood': 8782,\n",
       " 'industri': 8007,\n",
       " 'act': 999,\n",
       " 'notif': 11314,\n",
       " 'abc': 926,\n",
       " 'complet': 3819,\n",
       " 'shock': 14132,\n",
       " 'addict': 1021,\n",
       " 'poppin': 12395,\n",
       " 'young': 17894,\n",
       " 'thug': 15838,\n",
       " 'twin': 16359,\n",
       " 'track': 16098,\n",
       " 'mean': 10194,\n",
       " 'definit': 4451,\n",
       " 'eye': 5565,\n",
       " 'rite': 13362,\n",
       " 'here': 7363,\n",
       " 'andymilonaki': 1410,\n",
       " 'give': 6617,\n",
       " 'amex': 1344,\n",
       " 'chilli': 3455,\n",
       " 'snob': 14512,\n",
       " 'cardigan': 3152,\n",
       " 'yepitstrey': 17828,\n",
       " '128663': 264,\n",
       " '_____________': 771,\n",
       " '128659': 263,\n",
       " 'come': 3771,\n",
       " '__': 765,\n",
       " '______': 770,\n",
       " '___': 767,\n",
       " '_____': 769,\n",
       " '____': 768,\n",
       " 'hope': 7566,\n",
       " 'safe': 13608,\n",
       " 'heasâ': 7293,\n",
       " 'memori': 10248,\n",
       " 'last': 9213,\n",
       " 'breakfast': 2732,\n",
       " 'parenthesebordeaux': 11900,\n",
       " 'moodoftheday': 10614,\n",
       " 'inloveâ': 8049,\n",
       " 'ou': 11729,\n",
       " 'tell': 15521,\n",
       " 'em': 5257,\n",
       " 'stilljohnca': 14944,\n",
       " 'knock': 9037,\n",
       " 'georg': 6522,\n",
       " 'zimmerman': 18024,\n",
       " 'oh': 11518,\n",
       " 'welcom': 17209,\n",
       " 'cell': 3293,\n",
       " 'block': 2497,\n",
       " 'ohsnapsitsshaq': 11529,\n",
       " 'matter': 10123,\n",
       " 'place': 12241,\n",
       " 'chang': 3342,\n",
       " '_hellmel': 822,\n",
       " 'hop': 7565,\n",
       " 'quicker': 12823,\n",
       " 'women': 17520,\n",
       " 'bugglepuff': 2903,\n",
       " 'awork': 1787,\n",
       " 'share': 14047,\n",
       " 'bugglekid': 2902,\n",
       " 'fan': 5660,\n",
       " 'awesom': 1776,\n",
       " 'there': 15705,\n",
       " 'bare': 1979,\n",
       " 'westro': 17261,\n",
       " 'celebr': 3285,\n",
       " 'gameofthron': 6425,\n",
       " 'season6': 13861,\n",
       " 'plz': 12305,\n",
       " 'sign': 14233,\n",
       " 'japan': 8398,\n",
       " 'bulli': 2918,\n",
       " 'tweet4taiji': 16345,\n",
       " 'conceit': 3832,\n",
       " 'cheefqueef': 3399,\n",
       " 'passdapiff': 11926,\n",
       " 'lilty4r': 9482,\n",
       " 'garbag': 6440,\n",
       " 'worldð': 17589,\n",
       " 'tahitiangay': 15346,\n",
       " 'tahitiangayproud': 15347,\n",
       " 'newcalboy': 11063,\n",
       " 'selfieâ': 13909,\n",
       " 'meandmygirl': 10195,\n",
       " 'mybabygirlâ': 10823,\n",
       " 'tabatha__b': 15322,\n",
       " 'worri': 17591,\n",
       " 'alway': 1300,\n",
       " 'worryin': 17592,\n",
       " 'meal': 10192,\n",
       " 'fuckin': 6292,\n",
       " '128525': 217,\n",
       " '128175': 190,\n",
       " 'choreographi': 3499,\n",
       " 'learnedð': 9293,\n",
       " 'dancer': 4286,\n",
       " 'beyoncã': 2281,\n",
       " 'snapbacktc': 14493,\n",
       " 'wake': 16985,\n",
       " 'starlavafox': 14862,\n",
       " 'orang': 11676,\n",
       " 'black': 2429,\n",
       " 'orangeisthenewblack': 11677,\n",
       " 'season4': 13860,\n",
       " 'kati': 8815,\n",
       " 'hopkin': 7567,\n",
       " 'wonâ': 17535,\n",
       " 'admit': 1034,\n",
       " 'islam': 8234,\n",
       " 'jealous': 8446,\n",
       " 'fact': 5608,\n",
       " 'fake': 5634,\n",
       " 'shadow': 14016,\n",
       " 'stick': 14935,\n",
       " 'brightest': 2780,\n",
       " 'moment': 10558,\n",
       " 'disappear': 4674,\n",
       " 'darkest': 4317,\n",
       " 'hai': 7076,\n",
       " 'goodby': 6745,\n",
       " 'temporari': 15530,\n",
       " 'facebook': 5597,\n",
       " 'disappoint': 4675,\n",
       " 'cop': 3936,\n",
       " 'uzi': 16661,\n",
       " 'bullet': 2916,\n",
       " 'happiest': 7151,\n",
       " 'iv': 8304,\n",
       " 'long': 9641,\n",
       " 'lift': 9439,\n",
       " 'drag': 4894,\n",
       " 'ºï': 18086,\n",
       " 'newbeggin': 11058,\n",
       " 'clurfogarti': 3665,\n",
       " 'hipster': 7441,\n",
       " 'hospit': 7588,\n",
       " 'beani': 2082,\n",
       " 'jamaica': 8377,\n",
       " 'attend': 1699,\n",
       " 'wild': 17413,\n",
       " 'dancehal': 4285,\n",
       " 'event': 5470,\n",
       " 'jus': 8721,\n",
       " 'five': 5941,\n",
       " 'star': 14851,\n",
       " 'frog': 6257,\n",
       " 'splash': 14742,\n",
       " 'wshh': 17637,\n",
       " 'child': 3444,\n",
       " 'open': 11648,\n",
       " 'parent': 11899,\n",
       " 'thursdaythought': 15850,\n",
       " 'tonto': 16009,\n",
       " 'dike': 4637,\n",
       " 'wishesâ': 17463,\n",
       " 'global_new': 6649,\n",
       " 'bihday': 2338,\n",
       " 'eah': 5085,\n",
       " 'goe': 6706,\n",
       " 'marri': 10068,\n",
       " 'robe': 13400,\n",
       " 'frost': 6262,\n",
       " 'mattchew81': 10122,\n",
       " 'ex': 5504,\n",
       " 'gift': 6583,\n",
       " 'breath': 2738,\n",
       " 'away': 1773,\n",
       " 'treadmil': 16158,\n",
       " 'miss': 10468,\n",
       " 'sunglass': 15157,\n",
       " '¼ð': 18092,\n",
       " 'sunni': 15161,\n",
       " 'makeup': 9960,\n",
       " 'urbandecay': 16611,\n",
       " 'sma': 14433,\n",
       " 'blond': 2508,\n",
       " 'brunetteâ': 2850,\n",
       " 'fill': 5855,\n",
       " 'joy': 8649,\n",
       " 'thinkbigsundaywithmarsha': 15764,\n",
       " 'mom': 10556,\n",
       " 'awesomeday': 1778,\n",
       " 'photooftheday': 12150,\n",
       " 'invit': 8162,\n",
       " 'test': 15557,\n",
       " 'free': 6192,\n",
       " 'app': 1511,\n",
       " 'train': 16115,\n",
       " 'appstor': 1526,\n",
       " 'stress': 15024,\n",
       " 'goodmorn': 6761,\n",
       " 'liveitupjersey': 9546,\n",
       " 'bellaafoxx': 2193,\n",
       " 'thought': 15805,\n",
       " 'smart': 14443,\n",
       " ...}"
      ]
     },
     "execution_count": 99,
     "metadata": {},
     "output_type": "execute_result"
    }
   ],
   "source": [
    "tfidf.vocabulary_"
   ]
  },
  {
   "cell_type": "code",
   "execution_count": 100,
   "id": "4fd1bea5",
   "metadata": {},
   "outputs": [],
   "source": [
    "tfidf_df = pd.DataFrame(tfidf.fit_transform(stemmed_strings).todense(), columns = sorted(tfidf.vocabulary_))"
   ]
  },
  {
   "cell_type": "code",
   "execution_count": 101,
   "id": "a3035085",
   "metadata": {},
   "outputs": [],
   "source": [
    "# Spliting the data into training and testing sets\n",
    "\n",
    "from sklearn.model_selection import train_test_split\n",
    "x_train, x_test, y_train, y_test = train_test_split(tfidf_df, dataset['Toxicity'], test_size = 0.3, random_state = 1)\n"
   ]
  },
  {
   "cell_type": "code",
   "execution_count": 186,
   "id": "38321486",
   "metadata": {},
   "outputs": [
    {
     "data": {
      "text/html": [
       "<style>#sk-container-id-10 {color: black;background-color: white;}#sk-container-id-10 pre{padding: 0;}#sk-container-id-10 div.sk-toggleable {background-color: white;}#sk-container-id-10 label.sk-toggleable__label {cursor: pointer;display: block;width: 100%;margin-bottom: 0;padding: 0.3em;box-sizing: border-box;text-align: center;}#sk-container-id-10 label.sk-toggleable__label-arrow:before {content: \"▸\";float: left;margin-right: 0.25em;color: #696969;}#sk-container-id-10 label.sk-toggleable__label-arrow:hover:before {color: black;}#sk-container-id-10 div.sk-estimator:hover label.sk-toggleable__label-arrow:before {color: black;}#sk-container-id-10 div.sk-toggleable__content {max-height: 0;max-width: 0;overflow: hidden;text-align: left;background-color: #f0f8ff;}#sk-container-id-10 div.sk-toggleable__content pre {margin: 0.2em;color: black;border-radius: 0.25em;background-color: #f0f8ff;}#sk-container-id-10 input.sk-toggleable__control:checked~div.sk-toggleable__content {max-height: 200px;max-width: 100%;overflow: auto;}#sk-container-id-10 input.sk-toggleable__control:checked~label.sk-toggleable__label-arrow:before {content: \"▾\";}#sk-container-id-10 div.sk-estimator input.sk-toggleable__control:checked~label.sk-toggleable__label {background-color: #d4ebff;}#sk-container-id-10 div.sk-label input.sk-toggleable__control:checked~label.sk-toggleable__label {background-color: #d4ebff;}#sk-container-id-10 input.sk-hidden--visually {border: 0;clip: rect(1px 1px 1px 1px);clip: rect(1px, 1px, 1px, 1px);height: 1px;margin: -1px;overflow: hidden;padding: 0;position: absolute;width: 1px;}#sk-container-id-10 div.sk-estimator {font-family: monospace;background-color: #f0f8ff;border: 1px dotted black;border-radius: 0.25em;box-sizing: border-box;margin-bottom: 0.5em;}#sk-container-id-10 div.sk-estimator:hover {background-color: #d4ebff;}#sk-container-id-10 div.sk-parallel-item::after {content: \"\";width: 100%;border-bottom: 1px solid gray;flex-grow: 1;}#sk-container-id-10 div.sk-label:hover label.sk-toggleable__label {background-color: #d4ebff;}#sk-container-id-10 div.sk-serial::before {content: \"\";position: absolute;border-left: 1px solid gray;box-sizing: border-box;top: 0;bottom: 0;left: 50%;z-index: 0;}#sk-container-id-10 div.sk-serial {display: flex;flex-direction: column;align-items: center;background-color: white;padding-right: 0.2em;padding-left: 0.2em;position: relative;}#sk-container-id-10 div.sk-item {position: relative;z-index: 1;}#sk-container-id-10 div.sk-parallel {display: flex;align-items: stretch;justify-content: center;background-color: white;position: relative;}#sk-container-id-10 div.sk-item::before, #sk-container-id-10 div.sk-parallel-item::before {content: \"\";position: absolute;border-left: 1px solid gray;box-sizing: border-box;top: 0;bottom: 0;left: 50%;z-index: -1;}#sk-container-id-10 div.sk-parallel-item {display: flex;flex-direction: column;z-index: 1;position: relative;background-color: white;}#sk-container-id-10 div.sk-parallel-item:first-child::after {align-self: flex-end;width: 50%;}#sk-container-id-10 div.sk-parallel-item:last-child::after {align-self: flex-start;width: 50%;}#sk-container-id-10 div.sk-parallel-item:only-child::after {width: 0;}#sk-container-id-10 div.sk-dashed-wrapped {border: 1px dashed gray;margin: 0 0.4em 0.5em 0.4em;box-sizing: border-box;padding-bottom: 0.4em;background-color: white;}#sk-container-id-10 div.sk-label label {font-family: monospace;font-weight: bold;display: inline-block;line-height: 1.2em;}#sk-container-id-10 div.sk-label-container {text-align: center;}#sk-container-id-10 div.sk-container {/* jupyter's `normalize.less` sets `[hidden] { display: none; }` but bootstrap.min.css set `[hidden] { display: none !important; }` so we also need the `!important` here to be able to override the default hidden behavior on the sphinx rendered scikit-learn.org. See: https://github.com/scikit-learn/scikit-learn/issues/21755 */display: inline-block !important;position: relative;}#sk-container-id-10 div.sk-text-repr-fallback {display: none;}</style><div id=\"sk-container-id-10\" class=\"sk-top-container\"><div class=\"sk-text-repr-fallback\"><pre>DecisionTreeClassifier()</pre><b>In a Jupyter environment, please rerun this cell to show the HTML representation or trust the notebook. <br />On GitHub, the HTML representation is unable to render, please try loading this page with nbviewer.org.</b></div><div class=\"sk-container\" hidden><div class=\"sk-item\"><div class=\"sk-estimator sk-toggleable\"><input class=\"sk-toggleable__control sk-hidden--visually\" id=\"sk-estimator-id-10\" type=\"checkbox\" checked><label for=\"sk-estimator-id-10\" class=\"sk-toggleable__label sk-toggleable__label-arrow\">DecisionTreeClassifier</label><div class=\"sk-toggleable__content\"><pre>DecisionTreeClassifier()</pre></div></div></div></div></div>"
      ],
      "text/plain": [
       "DecisionTreeClassifier()"
      ]
     },
     "execution_count": 186,
     "metadata": {},
     "output_type": "execute_result"
    }
   ],
   "source": [
    "# Decision Tree Classifier\n",
    "\n",
    "from sklearn.tree import DecisionTreeClassifier\n",
    "dt = DecisionTreeClassifier()\n",
    "dt.fit(x_train, y_train)"
   ]
  },
  {
   "cell_type": "code",
   "execution_count": 187,
   "id": "edc059d8",
   "metadata": {},
   "outputs": [],
   "source": [
    "dt_preds = dt.predict(x_test)"
   ]
  },
  {
   "cell_type": "code",
   "execution_count": 188,
   "id": "9a7ee639",
   "metadata": {},
   "outputs": [
    {
     "data": {
      "text/plain": [
       "0.9030023094688222"
      ]
     },
     "execution_count": 188,
     "metadata": {},
     "output_type": "execute_result"
    }
   ],
   "source": [
    "from sklearn.metrics import precision_score, recall_score, f1_score, confusion_matrix, roc_auc_score, ConfusionMatrixDisplay, RocCurveDisplay\n",
    "dt_precision = precision_score(y_test, dt_preds)\n",
    "dt_precision"
   ]
  },
  {
   "cell_type": "code",
   "execution_count": 189,
   "id": "47688f0b",
   "metadata": {},
   "outputs": [
    {
     "data": {
      "text/plain": [
       "0.9023076923076923"
      ]
     },
     "execution_count": 189,
     "metadata": {},
     "output_type": "execute_result"
    }
   ],
   "source": [
    "dt_recall = recall_score(y_test, dt_preds)\n",
    "dt_recall"
   ]
  },
  {
   "cell_type": "code",
   "execution_count": 190,
   "id": "077b32e7",
   "metadata": {},
   "outputs": [
    {
     "data": {
      "text/plain": [
       "0.9026548672566371"
      ]
     },
     "execution_count": 190,
     "metadata": {},
     "output_type": "execute_result"
    }
   ],
   "source": [
    "dt_f1 = f1_score(y_test, dt_preds)\n",
    "dt_f1"
   ]
  },
  {
   "cell_type": "code",
   "execution_count": 191,
   "id": "70e261d8",
   "metadata": {},
   "outputs": [
    {
     "data": {
      "text/plain": [
       "array([[1574,  126],\n",
       "       [ 127, 1173]], dtype=int64)"
      ]
     },
     "execution_count": 191,
     "metadata": {},
     "output_type": "execute_result"
    }
   ],
   "source": [
    "dt_confusion_matrix = confusion_matrix(y_test, dt_preds)\n",
    "dt_confusion_matrix"
   ]
  },
  {
   "cell_type": "code",
   "execution_count": 192,
   "id": "b43b150b",
   "metadata": {},
   "outputs": [
    {
     "data": {
      "text/plain": [
       "0.9140950226244344"
      ]
     },
     "execution_count": 192,
     "metadata": {},
     "output_type": "execute_result"
    }
   ],
   "source": [
    "dt_roc_auc_score = roc_auc_score(y_test, dt_preds)\n",
    "dt_roc_auc_score"
   ]
  },
  {
   "cell_type": "code",
   "execution_count": 193,
   "id": "50f0bb62",
   "metadata": {},
   "outputs": [],
   "source": [
    "dt_cm_disp = ConfusionMatrixDisplay(confusion_matrix = dt_confusion_matrix)"
   ]
  },
  {
   "cell_type": "code",
   "execution_count": 194,
   "id": "b7bbfea5",
   "metadata": {},
   "outputs": [
    {
     "data": {
      "text/plain": [
       "<sklearn.metrics._plot.confusion_matrix.ConfusionMatrixDisplay at 0x1aeec573df0>"
      ]
     },
     "execution_count": 194,
     "metadata": {},
     "output_type": "execute_result"
    },
    {
     "data": {
      "image/png": "[encoded data removed]",
      "text/plain": [
       "<Figure size 640x480 with 2 Axes>"
      ]
     },
     "metadata": {},
     "output_type": "display_data"
    }
   ],
   "source": [
    "dt_cm_disp.plot()"
   ]
  },
  {
   "cell_type": "code",
   "execution_count": 195,
   "id": "4ec68e61",
   "metadata": {},
   "outputs": [
    {
     "data": {
      "text/plain": [
       "<sklearn.metrics._plot.roc_curve.RocCurveDisplay at 0x1aee9c10130>"
      ]
     },
     "execution_count": 195,
     "metadata": {},
     "output_type": "execute_result"
    },
    {
     "data": {
      "image/png": "[encoded data removed]",
      "text/plain": [
       "<Figure size 640x480 with 1 Axes>"
      ]
     },
     "metadata": {},
     "output_type": "display_data"
    }
   ],
   "source": [
    "RocCurveDisplay.from_predictions(y_test, dt_preds)"
   ]
  },
  {
   "cell_type": "code",
   "execution_count": 204,
   "id": "181a3a74",
   "metadata": {},
   "outputs": [
    {
     "data": {
      "text/plain": [
       "0.9156666666666666"
      ]
     },
     "execution_count": 204,
     "metadata": {},
     "output_type": "execute_result"
    }
   ],
   "source": [
    "from sklearn.metrics import accuracy_score\n",
    "accuracy_score(y_test, dt_preds)"
   ]
  },
  {
   "cell_type": "code",
   "execution_count": 182,
   "id": "30e2a615",
   "metadata": {},
   "outputs": [
    {
     "data": {
      "text/html": [
       "<style>#sk-container-id-9 {color: black;background-color: white;}#sk-container-id-9 pre{padding: 0;}#sk-container-id-9 div.sk-toggleable {background-color: white;}#sk-container-id-9 label.sk-toggleable__label {cursor: pointer;display: block;width: 100%;margin-bottom: 0;padding: 0.3em;box-sizing: border-box;text-align: center;}#sk-container-id-9 label.sk-toggleable__label-arrow:before {content: \"▸\";float: left;margin-right: 0.25em;color: #696969;}#sk-container-id-9 label.sk-toggleable__label-arrow:hover:before {color: black;}#sk-container-id-9 div.sk-estimator:hover label.sk-toggleable__label-arrow:before {color: black;}#sk-container-id-9 div.sk-toggleable__content {max-height: 0;max-width: 0;overflow: hidden;text-align: left;background-color: #f0f8ff;}#sk-container-id-9 div.sk-toggleable__content pre {margin: 0.2em;color: black;border-radius: 0.25em;background-color: #f0f8ff;}#sk-container-id-9 input.sk-toggleable__control:checked~div.sk-toggleable__content {max-height: 200px;max-width: 100%;overflow: auto;}#sk-container-id-9 input.sk-toggleable__control:checked~label.sk-toggleable__label-arrow:before {content: \"▾\";}#sk-container-id-9 div.sk-estimator input.sk-toggleable__control:checked~label.sk-toggleable__label {background-color: #d4ebff;}#sk-container-id-9 div.sk-label input.sk-toggleable__control:checked~label.sk-toggleable__label {background-color: #d4ebff;}#sk-container-id-9 input.sk-hidden--visually {border: 0;clip: rect(1px 1px 1px 1px);clip: rect(1px, 1px, 1px, 1px);height: 1px;margin: -1px;overflow: hidden;padding: 0;position: absolute;width: 1px;}#sk-container-id-9 div.sk-estimator {font-family: monospace;background-color: #f0f8ff;border: 1px dotted black;border-radius: 0.25em;box-sizing: border-box;margin-bottom: 0.5em;}#sk-container-id-9 div.sk-estimator:hover {background-color: #d4ebff;}#sk-container-id-9 div.sk-parallel-item::after {content: \"\";width: 100%;border-bottom: 1px solid gray;flex-grow: 1;}#sk-container-id-9 div.sk-label:hover label.sk-toggleable__label {background-color: #d4ebff;}#sk-container-id-9 div.sk-serial::before {content: \"\";position: absolute;border-left: 1px solid gray;box-sizing: border-box;top: 0;bottom: 0;left: 50%;z-index: 0;}#sk-container-id-9 div.sk-serial {display: flex;flex-direction: column;align-items: center;background-color: white;padding-right: 0.2em;padding-left: 0.2em;position: relative;}#sk-container-id-9 div.sk-item {position: relative;z-index: 1;}#sk-container-id-9 div.sk-parallel {display: flex;align-items: stretch;justify-content: center;background-color: white;position: relative;}#sk-container-id-9 div.sk-item::before, #sk-container-id-9 div.sk-parallel-item::before {content: \"\";position: absolute;border-left: 1px solid gray;box-sizing: border-box;top: 0;bottom: 0;left: 50%;z-index: -1;}#sk-container-id-9 div.sk-parallel-item {display: flex;flex-direction: column;z-index: 1;position: relative;background-color: white;}#sk-container-id-9 div.sk-parallel-item:first-child::after {align-self: flex-end;width: 50%;}#sk-container-id-9 div.sk-parallel-item:last-child::after {align-self: flex-start;width: 50%;}#sk-container-id-9 div.sk-parallel-item:only-child::after {width: 0;}#sk-container-id-9 div.sk-dashed-wrapped {border: 1px dashed gray;margin: 0 0.4em 0.5em 0.4em;box-sizing: border-box;padding-bottom: 0.4em;background-color: white;}#sk-container-id-9 div.sk-label label {font-family: monospace;font-weight: bold;display: inline-block;line-height: 1.2em;}#sk-container-id-9 div.sk-label-container {text-align: center;}#sk-container-id-9 div.sk-container {/* jupyter's `normalize.less` sets `[hidden] { display: none; }` but bootstrap.min.css set `[hidden] { display: none !important; }` so we also need the `!important` here to be able to override the default hidden behavior on the sphinx rendered scikit-learn.org. See: https://github.com/scikit-learn/scikit-learn/issues/21755 */display: inline-block !important;position: relative;}#sk-container-id-9 div.sk-text-repr-fallback {display: none;}</style><div id=\"sk-container-id-9\" class=\"sk-top-container\"><div class=\"sk-text-repr-fallback\"><pre>RandomForestClassifier()</pre><b>In a Jupyter environment, please rerun this cell to show the HTML representation or trust the notebook. <br />On GitHub, the HTML representation is unable to render, please try loading this page with nbviewer.org.</b></div><div class=\"sk-container\" hidden><div class=\"sk-item\"><div class=\"sk-estimator sk-toggleable\"><input class=\"sk-toggleable__control sk-hidden--visually\" id=\"sk-estimator-id-9\" type=\"checkbox\" checked><label for=\"sk-estimator-id-9\" class=\"sk-toggleable__label sk-toggleable__label-arrow\">RandomForestClassifier</label><div class=\"sk-toggleable__content\"><pre>RandomForestClassifier()</pre></div></div></div></div></div>"
      ],
      "text/plain": [
       "RandomForestClassifier()"
      ]
     },
     "execution_count": 182,
     "metadata": {},
     "output_type": "execute_result"
    }
   ],
   "source": [
    "# Random Forest Classifier\n",
    "\n",
    "from sklearn.ensemble import RandomForestClassifier\n",
    "rf = RandomForestClassifier()\n",
    "rf.fit(x_train, y_train)"
   ]
  },
  {
   "cell_type": "code",
   "execution_count": 183,
   "id": "361879be",
   "metadata": {},
   "outputs": [],
   "source": [
    "rf_preds = rf.predict(x_test)"
   ]
  },
  {
   "cell_type": "code",
   "execution_count": 184,
   "id": "f98f2590",
   "metadata": {},
   "outputs": [
    {
     "data": {
      "text/plain": [
       "0.9137254901960784"
      ]
     },
     "execution_count": 184,
     "metadata": {},
     "output_type": "execute_result"
    }
   ],
   "source": [
    "rf_precision = precision_score(y_test, rf_preds)\n",
    "rf_precision"
   ]
  },
  {
   "cell_type": "code",
   "execution_count": 185,
   "id": "eb681bca",
   "metadata": {},
   "outputs": [
    {
     "data": {
      "text/plain": [
       "0.8961538461538462"
      ]
     },
     "execution_count": 185,
     "metadata": {},
     "output_type": "execute_result"
    }
   ],
   "source": [
    "rf_recall = recall_score(y_test, rf_preds)\n",
    "rf_recall"
   ]
  },
  {
   "cell_type": "code",
   "execution_count": 197,
   "id": "c50fb5fa",
   "metadata": {},
   "outputs": [
    {
     "data": {
      "text/plain": [
       "0.9048543689320389"
      ]
     },
     "execution_count": 197,
     "metadata": {},
     "output_type": "execute_result"
    }
   ],
   "source": [
    "rf_f1 = f1_score(y_test, rf_preds)\n",
    "rf_f1"
   ]
  },
  {
   "cell_type": "code",
   "execution_count": 198,
   "id": "b4726074",
   "metadata": {},
   "outputs": [
    {
     "data": {
      "text/plain": [
       "array([[1590,  110],\n",
       "       [ 135, 1165]], dtype=int64)"
      ]
     },
     "execution_count": 198,
     "metadata": {},
     "output_type": "execute_result"
    }
   ],
   "source": [
    "rf_confusion_matrix = confusion_matrix(y_test, rf_preds)\n",
    "rf_confusion_matrix"
   ]
  },
  {
   "cell_type": "code",
   "execution_count": 199,
   "id": "6731315e",
   "metadata": {},
   "outputs": [
    {
     "data": {
      "text/plain": [
       "0.9157239819004525"
      ]
     },
     "execution_count": 199,
     "metadata": {},
     "output_type": "execute_result"
    }
   ],
   "source": [
    "rf_roc_auc_score = roc_auc_score(y_test, rf_preds)\n",
    "rf_roc_auc_score"
   ]
  },
  {
   "cell_type": "code",
   "execution_count": 200,
   "id": "c84e5a2b",
   "metadata": {},
   "outputs": [],
   "source": [
    "rf_cm_disp = ConfusionMatrixDisplay(confusion_matrix = rf_confusion_matrix)"
   ]
  },
  {
   "cell_type": "code",
   "execution_count": 201,
   "id": "779413b5",
   "metadata": {},
   "outputs": [
    {
     "data": {
      "text/plain": [
       "<sklearn.metrics._plot.confusion_matrix.ConfusionMatrixDisplay at 0x1aee9a3a0b0>"
      ]
     },
     "execution_count": 201,
     "metadata": {},
     "output_type": "execute_result"
    },
    {
     "data": {
      "image/png": "[encoded data removed]",
      "text/plain": [
       "<Figure size 640x480 with 2 Axes>"
      ]
     },
     "metadata": {},
     "output_type": "display_data"
    }
   ],
   "source": [
    "rf_cm_disp.plot()"
   ]
  },
  {
   "cell_type": "code",
   "execution_count": 202,
   "id": "196e2b1f",
   "metadata": {},
   "outputs": [
    {
     "data": {
      "text/plain": [
       "<sklearn.metrics._plot.roc_curve.RocCurveDisplay at 0x1aee90c4880>"
      ]
     },
     "execution_count": 202,
     "metadata": {},
     "output_type": "execute_result"
    },
    {
     "data": {
      "image/png": "[encoded data removed]",
      "text/plain": [
       "<Figure size 640x480 with 1 Axes>"
      ]
     },
     "metadata": {},
     "output_type": "display_data"
    }
   ],
   "source": [
    "RocCurveDisplay.from_predictions(y_test, rf_preds)"
   ]
  },
  {
   "cell_type": "code",
   "execution_count": 215,
   "id": "a5b2c902",
   "metadata": {},
   "outputs": [
    {
     "data": {
      "text/plain": [
       "0.9183333333333333"
      ]
     },
     "execution_count": 215,
     "metadata": {},
     "output_type": "execute_result"
    }
   ],
   "source": [
    "accuracy_score(y_test, rf_preds)"
   ]
  },
  {
   "cell_type": "code",
   "execution_count": 203,
   "id": "316954bf",
   "metadata": {},
   "outputs": [
    {
     "data": {
      "text/html": [
       "<style>#sk-container-id-11 {color: black;background-color: white;}#sk-container-id-11 pre{padding: 0;}#sk-container-id-11 div.sk-toggleable {background-color: white;}#sk-container-id-11 label.sk-toggleable__label {cursor: pointer;display: block;width: 100%;margin-bottom: 0;padding: 0.3em;box-sizing: border-box;text-align: center;}#sk-container-id-11 label.sk-toggleable__label-arrow:before {content: \"▸\";float: left;margin-right: 0.25em;color: #696969;}#sk-container-id-11 label.sk-toggleable__label-arrow:hover:before {color: black;}#sk-container-id-11 div.sk-estimator:hover label.sk-toggleable__label-arrow:before {color: black;}#sk-container-id-11 div.sk-toggleable__content {max-height: 0;max-width: 0;overflow: hidden;text-align: left;background-color: #f0f8ff;}#sk-container-id-11 div.sk-toggleable__content pre {margin: 0.2em;color: black;border-radius: 0.25em;background-color: #f0f8ff;}#sk-container-id-11 input.sk-toggleable__control:checked~div.sk-toggleable__content {max-height: 200px;max-width: 100%;overflow: auto;}#sk-container-id-11 input.sk-toggleable__control:checked~label.sk-toggleable__label-arrow:before {content: \"▾\";}#sk-container-id-11 div.sk-estimator input.sk-toggleable__control:checked~label.sk-toggleable__label {background-color: #d4ebff;}#sk-container-id-11 div.sk-label input.sk-toggleable__control:checked~label.sk-toggleable__label {background-color: #d4ebff;}#sk-container-id-11 input.sk-hidden--visually {border: 0;clip: rect(1px 1px 1px 1px);clip: rect(1px, 1px, 1px, 1px);height: 1px;margin: -1px;overflow: hidden;padding: 0;position: absolute;width: 1px;}#sk-container-id-11 div.sk-estimator {font-family: monospace;background-color: #f0f8ff;border: 1px dotted black;border-radius: 0.25em;box-sizing: border-box;margin-bottom: 0.5em;}#sk-container-id-11 div.sk-estimator:hover {background-color: #d4ebff;}#sk-container-id-11 div.sk-parallel-item::after {content: \"\";width: 100%;border-bottom: 1px solid gray;flex-grow: 1;}#sk-container-id-11 div.sk-label:hover label.sk-toggleable__label {background-color: #d4ebff;}#sk-container-id-11 div.sk-serial::before {content: \"\";position: absolute;border-left: 1px solid gray;box-sizing: border-box;top: 0;bottom: 0;left: 50%;z-index: 0;}#sk-container-id-11 div.sk-serial {display: flex;flex-direction: column;align-items: center;background-color: white;padding-right: 0.2em;padding-left: 0.2em;position: relative;}#sk-container-id-11 div.sk-item {position: relative;z-index: 1;}#sk-container-id-11 div.sk-parallel {display: flex;align-items: stretch;justify-content: center;background-color: white;position: relative;}#sk-container-id-11 div.sk-item::before, #sk-container-id-11 div.sk-parallel-item::before {content: \"\";position: absolute;border-left: 1px solid gray;box-sizing: border-box;top: 0;bottom: 0;left: 50%;z-index: -1;}#sk-container-id-11 div.sk-parallel-item {display: flex;flex-direction: column;z-index: 1;position: relative;background-color: white;}#sk-container-id-11 div.sk-parallel-item:first-child::after {align-self: flex-end;width: 50%;}#sk-container-id-11 div.sk-parallel-item:last-child::after {align-self: flex-start;width: 50%;}#sk-container-id-11 div.sk-parallel-item:only-child::after {width: 0;}#sk-container-id-11 div.sk-dashed-wrapped {border: 1px dashed gray;margin: 0 0.4em 0.5em 0.4em;box-sizing: border-box;padding-bottom: 0.4em;background-color: white;}#sk-container-id-11 div.sk-label label {font-family: monospace;font-weight: bold;display: inline-block;line-height: 1.2em;}#sk-container-id-11 div.sk-label-container {text-align: center;}#sk-container-id-11 div.sk-container {/* jupyter's `normalize.less` sets `[hidden] { display: none; }` but bootstrap.min.css set `[hidden] { display: none !important; }` so we also need the `!important` here to be able to override the default hidden behavior on the sphinx rendered scikit-learn.org. See: https://github.com/scikit-learn/scikit-learn/issues/21755 */display: inline-block !important;position: relative;}#sk-container-id-11 div.sk-text-repr-fallback {display: none;}</style><div id=\"sk-container-id-11\" class=\"sk-top-container\"><div class=\"sk-text-repr-fallback\"><pre>GaussianNB()</pre><b>In a Jupyter environment, please rerun this cell to show the HTML representation or trust the notebook. <br />On GitHub, the HTML representation is unable to render, please try loading this page with nbviewer.org.</b></div><div class=\"sk-container\" hidden><div class=\"sk-item\"><div class=\"sk-estimator sk-toggleable\"><input class=\"sk-toggleable__control sk-hidden--visually\" id=\"sk-estimator-id-11\" type=\"checkbox\" checked><label for=\"sk-estimator-id-11\" class=\"sk-toggleable__label sk-toggleable__label-arrow\">GaussianNB</label><div class=\"sk-toggleable__content\"><pre>GaussianNB()</pre></div></div></div></div></div>"
      ],
      "text/plain": [
       "GaussianNB()"
      ]
     },
     "execution_count": 203,
     "metadata": {},
     "output_type": "execute_result"
    }
   ],
   "source": [
    "# Naive Bayes Model\n",
    "\n",
    "from sklearn.naive_bayes import GaussianNB\n",
    "gnb = GaussianNB()\n",
    "gnb.fit(x_train, y_train)"
   ]
  },
  {
   "cell_type": "code",
   "execution_count": 205,
   "id": "18d8c1be",
   "metadata": {},
   "outputs": [],
   "source": [
    "gnb_preds = gnb.predict(x_test)"
   ]
  },
  {
   "cell_type": "code",
   "execution_count": 206,
   "id": "c758b27b",
   "metadata": {},
   "outputs": [
    {
     "data": {
      "text/plain": [
       "0.623779437105112"
      ]
     },
     "execution_count": 206,
     "metadata": {},
     "output_type": "execute_result"
    }
   ],
   "source": [
    "gnb_precision = precision_score(y_test, gnb_preds)\n",
    "gnb_precision"
   ]
  },
  {
   "cell_type": "code",
   "execution_count": 207,
   "id": "d48f7a7d",
   "metadata": {},
   "outputs": [
    {
     "data": {
      "text/plain": [
       "0.8353846153846154"
      ]
     },
     "execution_count": 207,
     "metadata": {},
     "output_type": "execute_result"
    }
   ],
   "source": [
    "gnb_recall = recall_score(y_test, gnb_preds)\n",
    "gnb_recall"
   ]
  },
  {
   "cell_type": "code",
   "execution_count": 208,
   "id": "0fad95bf",
   "metadata": {},
   "outputs": [
    {
     "data": {
      "text/plain": [
       "0.7142387372574811"
      ]
     },
     "execution_count": 208,
     "metadata": {},
     "output_type": "execute_result"
    }
   ],
   "source": [
    "gnb_f1 = f1_score(y_test, gnb_preds)\n",
    "gnb_f1"
   ]
  },
  {
   "cell_type": "code",
   "execution_count": 209,
   "id": "77f36463",
   "metadata": {},
   "outputs": [
    {
     "data": {
      "text/plain": [
       "array([[1045,  655],\n",
       "       [ 214, 1086]], dtype=int64)"
      ]
     },
     "execution_count": 209,
     "metadata": {},
     "output_type": "execute_result"
    }
   ],
   "source": [
    "gnb_confusion_matrix = confusion_matrix(y_test, gnb_preds)\n",
    "gnb_confusion_matrix"
   ]
  },
  {
   "cell_type": "code",
   "execution_count": 210,
   "id": "7216a180",
   "metadata": {},
   "outputs": [
    {
     "data": {
      "text/plain": [
       "0.7250452488687783"
      ]
     },
     "execution_count": 210,
     "metadata": {},
     "output_type": "execute_result"
    }
   ],
   "source": [
    "gnb_roc_auc_score = roc_auc_score(y_test, gnb_preds)\n",
    "gnb_roc_auc_score"
   ]
  },
  {
   "cell_type": "code",
   "execution_count": 211,
   "id": "7b0ba33f",
   "metadata": {},
   "outputs": [],
   "source": [
    "gnb_cm_disp = ConfusionMatrixDisplay(confusion_matrix = gnb_confusion_matrix)"
   ]
  },
  {
   "cell_type": "code",
   "execution_count": 212,
   "id": "29960171",
   "metadata": {},
   "outputs": [
    {
     "data": {
      "text/plain": [
       "<sklearn.metrics._plot.confusion_matrix.ConfusionMatrixDisplay at 0x1aeec6a2a10>"
      ]
     },
     "execution_count": 212,
     "metadata": {},
     "output_type": "execute_result"
    },
    {
     "data": {
      "image/png": "[encoded data removed]",
      "text/plain": [
       "<Figure size 640x480 with 2 Axes>"
      ]
     },
     "metadata": {},
     "output_type": "display_data"
    }
   ],
   "source": [
    "gnb_cm_disp.plot()"
   ]
  },
  {
   "cell_type": "code",
   "execution_count": 213,
   "id": "4fe45adf",
   "metadata": {},
   "outputs": [
    {
     "data": {
      "text/plain": [
       "<sklearn.metrics._plot.roc_curve.RocCurveDisplay at 0x1aeec6550c0>"
      ]
     },
     "execution_count": 213,
     "metadata": {},
     "output_type": "execute_result"
    },
    {
     "data": {
      "image/png": "[encoded data removed]",
      "text/plain": [
       "<Figure size 640x480 with 1 Axes>"
      ]
     },
     "metadata": {},
     "output_type": "display_data"
    }
   ],
   "source": [
    "RocCurveDisplay.from_predictions(y_test, gnb_preds)"
   ]
  },
  {
   "cell_type": "code",
   "execution_count": 214,
   "id": "70015e62",
   "metadata": {},
   "outputs": [
    {
     "data": {
      "text/plain": [
       "0.7103333333333334"
      ]
     },
     "execution_count": 214,
     "metadata": {},
     "output_type": "execute_result"
    }
   ],
   "source": [
    "accuracy_score(y_test, gnb_preds)"
   ]
  },
  {
   "cell_type": "code",
   "execution_count": 222,
   "id": "9824f411",
   "metadata": {},
   "outputs": [
    {
     "data": {
      "text/html": [
       "<style>#sk-container-id-13 {color: black;background-color: white;}#sk-container-id-13 pre{padding: 0;}#sk-container-id-13 div.sk-toggleable {background-color: white;}#sk-container-id-13 label.sk-toggleable__label {cursor: pointer;display: block;width: 100%;margin-bottom: 0;padding: 0.3em;box-sizing: border-box;text-align: center;}#sk-container-id-13 label.sk-toggleable__label-arrow:before {content: \"▸\";float: left;margin-right: 0.25em;color: #696969;}#sk-container-id-13 label.sk-toggleable__label-arrow:hover:before {color: black;}#sk-container-id-13 div.sk-estimator:hover label.sk-toggleable__label-arrow:before {color: black;}#sk-container-id-13 div.sk-toggleable__content {max-height: 0;max-width: 0;overflow: hidden;text-align: left;background-color: #f0f8ff;}#sk-container-id-13 div.sk-toggleable__content pre {margin: 0.2em;color: black;border-radius: 0.25em;background-color: #f0f8ff;}#sk-container-id-13 input.sk-toggleable__control:checked~div.sk-toggleable__content {max-height: 200px;max-width: 100%;overflow: auto;}#sk-container-id-13 input.sk-toggleable__control:checked~label.sk-toggleable__label-arrow:before {content: \"▾\";}#sk-container-id-13 div.sk-estimator input.sk-toggleable__control:checked~label.sk-toggleable__label {background-color: #d4ebff;}#sk-container-id-13 div.sk-label input.sk-toggleable__control:checked~label.sk-toggleable__label {background-color: #d4ebff;}#sk-container-id-13 input.sk-hidden--visually {border: 0;clip: rect(1px 1px 1px 1px);clip: rect(1px, 1px, 1px, 1px);height: 1px;margin: -1px;overflow: hidden;padding: 0;position: absolute;width: 1px;}#sk-container-id-13 div.sk-estimator {font-family: monospace;background-color: #f0f8ff;border: 1px dotted black;border-radius: 0.25em;box-sizing: border-box;margin-bottom: 0.5em;}#sk-container-id-13 div.sk-estimator:hover {background-color: #d4ebff;}#sk-container-id-13 div.sk-parallel-item::after {content: \"\";width: 100%;border-bottom: 1px solid gray;flex-grow: 1;}#sk-container-id-13 div.sk-label:hover label.sk-toggleable__label {background-color: #d4ebff;}#sk-container-id-13 div.sk-serial::before {content: \"\";position: absolute;border-left: 1px solid gray;box-sizing: border-box;top: 0;bottom: 0;left: 50%;z-index: 0;}#sk-container-id-13 div.sk-serial {display: flex;flex-direction: column;align-items: center;background-color: white;padding-right: 0.2em;padding-left: 0.2em;position: relative;}#sk-container-id-13 div.sk-item {position: relative;z-index: 1;}#sk-container-id-13 div.sk-parallel {display: flex;align-items: stretch;justify-content: center;background-color: white;position: relative;}#sk-container-id-13 div.sk-item::before, #sk-container-id-13 div.sk-parallel-item::before {content: \"\";position: absolute;border-left: 1px solid gray;box-sizing: border-box;top: 0;bottom: 0;left: 50%;z-index: -1;}#sk-container-id-13 div.sk-parallel-item {display: flex;flex-direction: column;z-index: 1;position: relative;background-color: white;}#sk-container-id-13 div.sk-parallel-item:first-child::after {align-self: flex-end;width: 50%;}#sk-container-id-13 div.sk-parallel-item:last-child::after {align-self: flex-start;width: 50%;}#sk-container-id-13 div.sk-parallel-item:only-child::after {width: 0;}#sk-container-id-13 div.sk-dashed-wrapped {border: 1px dashed gray;margin: 0 0.4em 0.5em 0.4em;box-sizing: border-box;padding-bottom: 0.4em;background-color: white;}#sk-container-id-13 div.sk-label label {font-family: monospace;font-weight: bold;display: inline-block;line-height: 1.2em;}#sk-container-id-13 div.sk-label-container {text-align: center;}#sk-container-id-13 div.sk-container {/* jupyter's `normalize.less` sets `[hidden] { display: none; }` but bootstrap.min.css set `[hidden] { display: none !important; }` so we also need the `!important` here to be able to override the default hidden behavior on the sphinx rendered scikit-learn.org. See: https://github.com/scikit-learn/scikit-learn/issues/21755 */display: inline-block !important;position: relative;}#sk-container-id-13 div.sk-text-repr-fallback {display: none;}</style><div id=\"sk-container-id-13\" class=\"sk-top-container\"><div class=\"sk-text-repr-fallback\"><pre>KNeighborsClassifier()</pre><b>In a Jupyter environment, please rerun this cell to show the HTML representation or trust the notebook. <br />On GitHub, the HTML representation is unable to render, please try loading this page with nbviewer.org.</b></div><div class=\"sk-container\" hidden><div class=\"sk-item\"><div class=\"sk-estimator sk-toggleable\"><input class=\"sk-toggleable__control sk-hidden--visually\" id=\"sk-estimator-id-13\" type=\"checkbox\" checked><label for=\"sk-estimator-id-13\" class=\"sk-toggleable__label sk-toggleable__label-arrow\">KNeighborsClassifier</label><div class=\"sk-toggleable__content\"><pre>KNeighborsClassifier()</pre></div></div></div></div></div>"
      ],
      "text/plain": [
       "KNeighborsClassifier()"
      ]
     },
     "execution_count": 222,
     "metadata": {},
     "output_type": "execute_result"
    }
   ],
   "source": [
    "# K - NN\n",
    "\n",
    "from sklearn.preprocessing import MinMaxScaler\n",
    "mm = MinMaxScaler()\n",
    "mm.fit(x_train)\n",
    "tr_xtrain = mm.transform(x_train)\n",
    "tr_xtest = mm.transform(x_test)\n",
    "\n",
    "\n",
    "from sklearn.neighbors import KNeighborsClassifier\n",
    "knn = KNeighborsClassifier()\n",
    "knn.fit(tr_xtrain, y_train)"
   ]
  },
  {
   "cell_type": "code",
   "execution_count": 226,
   "id": "b7c4694b",
   "metadata": {},
   "outputs": [],
   "source": [
    "knn_preds = knn.predict(tr_xtest)"
   ]
  },
  {
   "cell_type": "code",
   "execution_count": 227,
   "id": "78fc7d8a",
   "metadata": {},
   "outputs": [
    {
     "data": {
      "text/plain": [
       "0.9096045197740112"
      ]
     },
     "execution_count": 227,
     "metadata": {},
     "output_type": "execute_result"
    }
   ],
   "source": [
    "knn_precision = precision_score(y_test, knn_preds)\n",
    "knn_precision"
   ]
  },
  {
   "cell_type": "code",
   "execution_count": 228,
   "id": "696ef6fd",
   "metadata": {},
   "outputs": [
    {
     "data": {
      "text/plain": [
       "0.49538461538461537"
      ]
     },
     "execution_count": 228,
     "metadata": {},
     "output_type": "execute_result"
    }
   ],
   "source": [
    "knn_recall = recall_score(y_test, knn_preds)\n",
    "knn_recall"
   ]
  },
  {
   "cell_type": "code",
   "execution_count": 229,
   "id": "bd5d3516",
   "metadata": {},
   "outputs": [
    {
     "data": {
      "text/plain": [
       "0.6414342629482072"
      ]
     },
     "execution_count": 229,
     "metadata": {},
     "output_type": "execute_result"
    }
   ],
   "source": [
    "knn_f1 = f1_score(y_test, knn_preds)\n",
    "knn_f1"
   ]
  },
  {
   "cell_type": "code",
   "execution_count": 230,
   "id": "f74c5845",
   "metadata": {},
   "outputs": [
    {
     "data": {
      "text/plain": [
       "array([[1636,   64],\n",
       "       [ 656,  644]], dtype=int64)"
      ]
     },
     "execution_count": 230,
     "metadata": {},
     "output_type": "execute_result"
    }
   ],
   "source": [
    "knn_confusion_matrix = confusion_matrix(y_test, knn_preds)\n",
    "knn_confusion_matrix"
   ]
  },
  {
   "cell_type": "code",
   "execution_count": 231,
   "id": "635466ff",
   "metadata": {},
   "outputs": [
    {
     "data": {
      "text/plain": [
       "0.728868778280543"
      ]
     },
     "execution_count": 231,
     "metadata": {},
     "output_type": "execute_result"
    }
   ],
   "source": [
    "knn_roc_auc_score = roc_auc_score(y_test, knn_preds)\n",
    "knn_roc_auc_score"
   ]
  },
  {
   "cell_type": "code",
   "execution_count": 232,
   "id": "b62efc6d",
   "metadata": {},
   "outputs": [],
   "source": [
    "knn_cm_disp = ConfusionMatrixDisplay(confusion_matrix = knn_confusion_matrix)"
   ]
  },
  {
   "cell_type": "code",
   "execution_count": 233,
   "id": "73832b32",
   "metadata": {},
   "outputs": [
    {
     "data": {
      "text/plain": [
       "<sklearn.metrics._plot.confusion_matrix.ConfusionMatrixDisplay at 0x1aeee7cae90>"
      ]
     },
     "execution_count": 233,
     "metadata": {},
     "output_type": "execute_result"
    },
    {
     "data": {
      "image/png": "[encoded data removed]",
      "text/plain": [
       "<Figure size 640x480 with 2 Axes>"
      ]
     },
     "metadata": {},
     "output_type": "display_data"
    }
   ],
   "source": [
    "knn_cm_disp.plot()"
   ]
  },
  {
   "cell_type": "code",
   "execution_count": 234,
   "id": "fd17bba3",
   "metadata": {},
   "outputs": [
    {
     "data": {
      "text/plain": [
       "<sklearn.metrics._plot.roc_curve.RocCurveDisplay at 0x1aeec6b85b0>"
      ]
     },
     "execution_count": 234,
     "metadata": {},
     "output_type": "execute_result"
    },
    {
     "data": {
      "image/png": "[encoded data removed]",
      "text/plain": [
       "<Figure size 640x480 with 1 Axes>"
      ]
     },
     "metadata": {},
     "output_type": "display_data"
    }
   ],
   "source": [
    "RocCurveDisplay.from_predictions(y_test, knn_preds)"
   ]
  },
  {
   "cell_type": "code",
   "execution_count": 235,
   "id": "42906ed2",
   "metadata": {},
   "outputs": [
    {
     "data": {
      "text/plain": [
       "0.76"
      ]
     },
     "execution_count": 235,
     "metadata": {},
     "output_type": "execute_result"
    }
   ],
   "source": [
    "accuracy_score(y_test, knn_preds)"
   ]
  },
  {
   "cell_type": "code",
   "execution_count": 236,
   "id": "8e706838",
   "metadata": {},
   "outputs": [
    {
     "data": {
      "text/html": [
       "<style>#sk-container-id-14 {color: black;background-color: white;}#sk-container-id-14 pre{padding: 0;}#sk-container-id-14 div.sk-toggleable {background-color: white;}#sk-container-id-14 label.sk-toggleable__label {cursor: pointer;display: block;width: 100%;margin-bottom: 0;padding: 0.3em;box-sizing: border-box;text-align: center;}#sk-container-id-14 label.sk-toggleable__label-arrow:before {content: \"▸\";float: left;margin-right: 0.25em;color: #696969;}#sk-container-id-14 label.sk-toggleable__label-arrow:hover:before {color: black;}#sk-container-id-14 div.sk-estimator:hover label.sk-toggleable__label-arrow:before {color: black;}#sk-container-id-14 div.sk-toggleable__content {max-height: 0;max-width: 0;overflow: hidden;text-align: left;background-color: #f0f8ff;}#sk-container-id-14 div.sk-toggleable__content pre {margin: 0.2em;color: black;border-radius: 0.25em;background-color: #f0f8ff;}#sk-container-id-14 input.sk-toggleable__control:checked~div.sk-toggleable__content {max-height: 200px;max-width: 100%;overflow: auto;}#sk-container-id-14 input.sk-toggleable__control:checked~label.sk-toggleable__label-arrow:before {content: \"▾\";}#sk-container-id-14 div.sk-estimator input.sk-toggleable__control:checked~label.sk-toggleable__label {background-color: #d4ebff;}#sk-container-id-14 div.sk-label input.sk-toggleable__control:checked~label.sk-toggleable__label {background-color: #d4ebff;}#sk-container-id-14 input.sk-hidden--visually {border: 0;clip: rect(1px 1px 1px 1px);clip: rect(1px, 1px, 1px, 1px);height: 1px;margin: -1px;overflow: hidden;padding: 0;position: absolute;width: 1px;}#sk-container-id-14 div.sk-estimator {font-family: monospace;background-color: #f0f8ff;border: 1px dotted black;border-radius: 0.25em;box-sizing: border-box;margin-bottom: 0.5em;}#sk-container-id-14 div.sk-estimator:hover {background-color: #d4ebff;}#sk-container-id-14 div.sk-parallel-item::after {content: \"\";width: 100%;border-bottom: 1px solid gray;flex-grow: 1;}#sk-container-id-14 div.sk-label:hover label.sk-toggleable__label {background-color: #d4ebff;}#sk-container-id-14 div.sk-serial::before {content: \"\";position: absolute;border-left: 1px solid gray;box-sizing: border-box;top: 0;bottom: 0;left: 50%;z-index: 0;}#sk-container-id-14 div.sk-serial {display: flex;flex-direction: column;align-items: center;background-color: white;padding-right: 0.2em;padding-left: 0.2em;position: relative;}#sk-container-id-14 div.sk-item {position: relative;z-index: 1;}#sk-container-id-14 div.sk-parallel {display: flex;align-items: stretch;justify-content: center;background-color: white;position: relative;}#sk-container-id-14 div.sk-item::before, #sk-container-id-14 div.sk-parallel-item::before {content: \"\";position: absolute;border-left: 1px solid gray;box-sizing: border-box;top: 0;bottom: 0;left: 50%;z-index: -1;}#sk-container-id-14 div.sk-parallel-item {display: flex;flex-direction: column;z-index: 1;position: relative;background-color: white;}#sk-container-id-14 div.sk-parallel-item:first-child::after {align-self: flex-end;width: 50%;}#sk-container-id-14 div.sk-parallel-item:last-child::after {align-self: flex-start;width: 50%;}#sk-container-id-14 div.sk-parallel-item:only-child::after {width: 0;}#sk-container-id-14 div.sk-dashed-wrapped {border: 1px dashed gray;margin: 0 0.4em 0.5em 0.4em;box-sizing: border-box;padding-bottom: 0.4em;background-color: white;}#sk-container-id-14 div.sk-label label {font-family: monospace;font-weight: bold;display: inline-block;line-height: 1.2em;}#sk-container-id-14 div.sk-label-container {text-align: center;}#sk-container-id-14 div.sk-container {/* jupyter's `normalize.less` sets `[hidden] { display: none; }` but bootstrap.min.css set `[hidden] { display: none !important; }` so we also need the `!important` here to be able to override the default hidden behavior on the sphinx rendered scikit-learn.org. See: https://github.com/scikit-learn/scikit-learn/issues/21755 */display: inline-block !important;position: relative;}#sk-container-id-14 div.sk-text-repr-fallback {display: none;}</style><div id=\"sk-container-id-14\" class=\"sk-top-container\"><div class=\"sk-text-repr-fallback\"><pre>SVC()</pre><b>In a Jupyter environment, please rerun this cell to show the HTML representation or trust the notebook. <br />On GitHub, the HTML representation is unable to render, please try loading this page with nbviewer.org.</b></div><div class=\"sk-container\" hidden><div class=\"sk-item\"><div class=\"sk-estimator sk-toggleable\"><input class=\"sk-toggleable__control sk-hidden--visually\" id=\"sk-estimator-id-14\" type=\"checkbox\" checked><label for=\"sk-estimator-id-14\" class=\"sk-toggleable__label sk-toggleable__label-arrow\">SVC</label><div class=\"sk-toggleable__content\"><pre>SVC()</pre></div></div></div></div></div>"
      ],
      "text/plain": [
       "SVC()"
      ]
     },
     "execution_count": 236,
     "metadata": {},
     "output_type": "execute_result"
    }
   ],
   "source": [
    "# SVM\n",
    "\n",
    "from sklearn.preprocessing import MinMaxScaler\n",
    "mm = MinMaxScaler()\n",
    "mm.fit(x_train)\n",
    "tr_xtrain = mm.transform(x_train)\n",
    "tr_xtest = mm.transform(x_test)\n",
    "\n",
    "from sklearn.svm import SVC\n",
    "sv = SVC()\n",
    "sv.fit(tr_xtrain, y_train)"
   ]
  },
  {
   "cell_type": "code",
   "execution_count": 237,
   "id": "abe7d52c",
   "metadata": {},
   "outputs": [],
   "source": [
    "sv_preds = sv.predict(tr_xtest)"
   ]
  },
  {
   "cell_type": "code",
   "execution_count": 238,
   "id": "124e2cf4",
   "metadata": {},
   "outputs": [
    {
     "data": {
      "text/plain": [
       "0.9245122985581001"
      ]
     },
     "execution_count": 238,
     "metadata": {},
     "output_type": "execute_result"
    }
   ],
   "source": [
    "sv_precision = precision_score(y_test, sv_preds)\n",
    "sv_precision"
   ]
  },
  {
   "cell_type": "code",
   "execution_count": 239,
   "id": "a43a1b00",
   "metadata": {},
   "outputs": [
    {
     "data": {
      "text/plain": [
       "0.8384615384615385"
      ]
     },
     "execution_count": 239,
     "metadata": {},
     "output_type": "execute_result"
    }
   ],
   "source": [
    "sv_recall = recall_score(y_test, sv_preds)\n",
    "sv_recall"
   ]
  },
  {
   "cell_type": "code",
   "execution_count": 240,
   "id": "262628f2",
   "metadata": {},
   "outputs": [
    {
     "data": {
      "text/plain": [
       "0.8793868495361032"
      ]
     },
     "execution_count": 240,
     "metadata": {},
     "output_type": "execute_result"
    }
   ],
   "source": [
    "sv_f1 = f1_score(y_test, sv_preds)\n",
    "sv_f1"
   ]
  },
  {
   "cell_type": "code",
   "execution_count": 241,
   "id": "86be5b4b",
   "metadata": {},
   "outputs": [
    {
     "data": {
      "text/plain": [
       "array([[1611,   89],\n",
       "       [ 210, 1090]], dtype=int64)"
      ]
     },
     "execution_count": 241,
     "metadata": {},
     "output_type": "execute_result"
    }
   ],
   "source": [
    "sv_confusion_matrix = confusion_matrix(y_test, sv_preds)\n",
    "sv_confusion_matrix"
   ]
  },
  {
   "cell_type": "code",
   "execution_count": 242,
   "id": "b33408ec",
   "metadata": {},
   "outputs": [
    {
     "data": {
      "text/plain": [
       "0.893054298642534"
      ]
     },
     "execution_count": 242,
     "metadata": {},
     "output_type": "execute_result"
    }
   ],
   "source": [
    "sv_roc_auc_score = roc_auc_score(y_test, sv_preds)\n",
    "sv_roc_auc_score"
   ]
  },
  {
   "cell_type": "code",
   "execution_count": 243,
   "id": "ff988bf3",
   "metadata": {},
   "outputs": [],
   "source": [
    "sv_cm_disp = ConfusionMatrixDisplay(confusion_matrix = sv_confusion_matrix)"
   ]
  },
  {
   "cell_type": "code",
   "execution_count": 244,
   "id": "d69cc545",
   "metadata": {},
   "outputs": [
    {
     "data": {
      "text/plain": [
       "<sklearn.metrics._plot.confusion_matrix.ConfusionMatrixDisplay at 0x1aeee7cb310>"
      ]
     },
     "execution_count": 244,
     "metadata": {},
     "output_type": "execute_result"
    },
    {
     "data": {
      "image/png": "[encoded data removed]",
      "text/plain": [
       "<Figure size 640x480 with 2 Axes>"
      ]
     },
     "metadata": {},
     "output_type": "display_data"
    }
   ],
   "source": [
    "sv_cm_disp.plot()"
   ]
  },
  {
   "cell_type": "code",
   "execution_count": 245,
   "id": "35b74d65",
   "metadata": {},
   "outputs": [
    {
     "data": {
      "text/plain": [
       "<sklearn.metrics._plot.roc_curve.RocCurveDisplay at 0x1aedfdf1b10>"
      ]
     },
     "execution_count": 245,
     "metadata": {},
     "output_type": "execute_result"
    },
    {
     "data": {
      "image/png": "[encoded data removed]",
      "text/plain": [
       "<Figure size 640x480 with 1 Axes>"
      ]
     },
     "metadata": {},
     "output_type": "display_data"
    }
   ],
   "source": [
    "RocCurveDisplay.from_predictions(y_test, sv_preds)"
   ]
  },
  {
   "cell_type": "code",
   "execution_count": 246,
   "id": "bb87d667",
   "metadata": {},
   "outputs": [
    {
     "data": {
      "text/plain": [
       "0.9003333333333333"
      ]
     },
     "execution_count": 246,
     "metadata": {},
     "output_type": "execute_result"
    }
   ],
   "source": [
    "accuracy_score(y_test, sv_preds)"
   ]
  }
 ],
 "metadata": {
  "kernelspec": {
   "display_name": "Python 3 (ipykernel)",
   "language": "python",
   "name": "python3"
  },
  "language_info": {
   "codemirror_mode": {
    "name": "ipython",
    "version": 3
   },
   "file_extension": ".py",
   "mimetype": "text/x-python",
   "name": "python",
   "nbconvert_exporter": "python",
   "pygments_lexer": "ipython3",
   "version": "3.10.9"
  }
 },
 "nbformat": 4,
 "nbformat_minor": 5
}
