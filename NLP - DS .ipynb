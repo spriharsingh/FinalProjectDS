{
 "cells": [
  {
   "cell_type": "code",
   "execution_count": 1,
   "id": "dc4364bd",
   "metadata": {},
   "outputs": [],
   "source": [
    "import pandas as pd\n",
    "import numpy as np\n",
    "import nltk\n",
    "from nltk import pos_tag\n",
    "from nltk import word_tokenize\n",
    "import re"
   ]
  },
  {
   "cell_type": "code",
   "execution_count": 2,
   "id": "82090de0",
   "metadata": {},
   "outputs": [],
   "source": [
    "from matplotlib import pyplot as plt\n",
    "import warnings\n",
    "warnings.filterwarnings('ignore')"
   ]
  },
  {
   "cell_type": "code",
   "execution_count": 3,
   "id": "1cdab14b",
   "metadata": {},
   "outputs": [],
   "source": [
    "# A dataset collected from Kaggle (collection of Tweets)\n",
    "# ---> Toxic - 1, Non toxic - 0\n",
    "\n",
    "df = pd.read_csv('C:/Users/Spriha/OneDrive/Desktop/FinalBalancedDataset.csv')\n",
    "df = df[['Toxicity','Tweet']]"
   ]
  },
  {
   "cell_type": "code",
   "execution_count": 4,
   "id": "6ed29ef5",
   "metadata": {},
   "outputs": [
    {
     "data": {
      "text/html": [
       "<div>\n",
       "<style scoped>\n",
       "    .dataframe tbody tr th:only-of-type {\n",
       "        vertical-align: middle;\n",
       "    }\n",
       "\n",
       "    .dataframe tbody tr th {\n",
       "        vertical-align: top;\n",
       "    }\n",
       "\n",
       "    .dataframe thead th {\n",
       "        text-align: right;\n",
       "    }\n",
       "</style>\n",
       "<table border=\"1\" class=\"dataframe\">\n",
       "  <thead>\n",
       "    <tr style=\"text-align: right;\">\n",
       "      <th></th>\n",
       "      <th>Toxicity</th>\n",
       "      <th>Tweet</th>\n",
       "    </tr>\n",
       "  </thead>\n",
       "  <tbody>\n",
       "    <tr>\n",
       "      <th>0</th>\n",
       "      <td>0</td>\n",
       "      <td>@user when a father is dysfunctional and is s...</td>\n",
       "    </tr>\n",
       "    <tr>\n",
       "      <th>1</th>\n",
       "      <td>0</td>\n",
       "      <td>@user @user thanks for #lyft credit i can't us...</td>\n",
       "    </tr>\n",
       "    <tr>\n",
       "      <th>2</th>\n",
       "      <td>0</td>\n",
       "      <td>bihday your majesty</td>\n",
       "    </tr>\n",
       "    <tr>\n",
       "      <th>3</th>\n",
       "      <td>0</td>\n",
       "      <td>#model   i love u take with u all the time in ...</td>\n",
       "    </tr>\n",
       "    <tr>\n",
       "      <th>4</th>\n",
       "      <td>0</td>\n",
       "      <td>factsguide: society now    #motivation</td>\n",
       "    </tr>\n",
       "  </tbody>\n",
       "</table>\n",
       "</div>"
      ],
      "text/plain": [
       "   Toxicity                                              Tweet\n",
       "0         0   @user when a father is dysfunctional and is s...\n",
       "1         0  @user @user thanks for #lyft credit i can't us...\n",
       "2         0                                bihday your majesty\n",
       "3         0  #model   i love u take with u all the time in ...\n",
       "4         0             factsguide: society now    #motivation"
      ]
     },
     "execution_count": 4,
     "metadata": {},
     "output_type": "execute_result"
    }
   ],
   "source": [
    "df.head()"
   ]
  },
  {
   "cell_type": "code",
   "execution_count": 5,
   "id": "20259bb9",
   "metadata": {},
   "outputs": [
    {
     "data": {
      "text/plain": [
       "(56745, 2)"
      ]
     },
     "execution_count": 5,
     "metadata": {},
     "output_type": "execute_result"
    }
   ],
   "source": [
    "df.shape"
   ]
  },
  {
   "cell_type": "code",
   "execution_count": 6,
   "id": "ec1f68e1",
   "metadata": {},
   "outputs": [
    {
     "data": {
      "text/plain": [
       "(array([0, 1], dtype=int64), array([32592, 24153], dtype=int64))"
      ]
     },
     "execution_count": 6,
     "metadata": {},
     "output_type": "execute_result"
    }
   ],
   "source": [
    "np.unique(df['Toxicity'], return_counts = True)"
   ]
  },
  {
   "cell_type": "code",
   "execution_count": 7,
   "id": "3acdf68f",
   "metadata": {},
   "outputs": [
    {
     "data": {
      "text/plain": [
       "' @user when a father is dysfunctional and is so selfish he drags his kids into his dysfunction.   #run'"
      ]
     },
     "execution_count": 7,
     "metadata": {},
     "output_type": "execute_result"
    }
   ],
   "source": [
    "df['Tweet'][0]"
   ]
  },
  {
   "cell_type": "code",
   "execution_count": 9,
   "id": "2050750f",
   "metadata": {},
   "outputs": [],
   "source": [
    "# Preprocess the text data\n",
    "# --- > Removing non-words and extra white spaces\n",
    "\n",
    "\n",
    "for i in range(len(df['Tweet'])):\n",
    "    df['Tweet'][i] = df['Tweet'][i].lower()\n",
    "    df['Tweet'][i] = df['Tweet'][i].strip()\n",
    "    df['Tweet'][i] = re.sub(r'\\W', ' ', df['Tweet'][i])\n",
    "    df['Tweet'][i] = re.sub(r'\\d+', ' ', df['Tweet'][i])\n",
    "    df['Tweet'][i] = re.sub(r'\\s+', ' ', df['Tweet'][i])"
   ]
  },
  {
   "cell_type": "code",
   "execution_count": 23,
   "id": "b88bf1ef",
   "metadata": {},
   "outputs": [],
   "source": [
    "l = list(range(0, df.shape[0]))\n",
    "\n",
    "np.random.seed(1)\n",
    "np.random.shuffle(l)"
   ]
  },
  {
   "cell_type": "code",
   "execution_count": 24,
   "id": "dbdabf21",
   "metadata": {},
   "outputs": [],
   "source": [
    "dataset = df.loc[l[:10000],:]"
   ]
  },
  {
   "cell_type": "code",
   "execution_count": 25,
   "id": "c0d0b216",
   "metadata": {},
   "outputs": [
    {
     "data": {
      "text/plain": [
       "(10000, 2)"
      ]
     },
     "execution_count": 25,
     "metadata": {},
     "output_type": "execute_result"
    }
   ],
   "source": [
    "dataset.shape"
   ]
  },
  {
   "cell_type": "code",
   "execution_count": 26,
   "id": "47cb47d5",
   "metadata": {},
   "outputs": [
    {
     "data": {
      "text/plain": [
       "(array([0, 1], dtype=int64), array([5821, 4179], dtype=int64))"
      ]
     },
     "execution_count": 26,
     "metadata": {},
     "output_type": "execute_result"
    }
   ],
   "source": [
    "np.unique(dataset['Toxicity'], return_counts = True)"
   ]
  },
  {
   "cell_type": "code",
   "execution_count": 27,
   "id": "18a404c4",
   "metadata": {},
   "outputs": [],
   "source": [
    "#Tokenise the text data to create Bag-Of-Words\n",
    "\n",
    "tokenized_data = []\n",
    "for each in dataset['Tweet']:\n",
    "    tokenized_data.append(word_tokenize(each))"
   ]
  },
  {
   "cell_type": "code",
   "execution_count": 28,
   "id": "817ab539",
   "metadata": {},
   "outputs": [
    {
     "data": {
      "text/plain": [
       "['i',\n",
       " 'think',\n",
       " 'i',\n",
       " 'may',\n",
       " 'have',\n",
       " 'just',\n",
       " 'sent',\n",
       " 'my',\n",
       " 'first',\n",
       " 'tweet',\n",
       " 'fathers',\n",
       " 'day']"
      ]
     },
     "execution_count": 28,
     "metadata": {},
     "output_type": "execute_result"
    }
   ],
   "source": [
    "tokenized_data[0]"
   ]
  },
  {
   "cell_type": "code",
   "execution_count": 29,
   "id": "537bab0c",
   "metadata": {},
   "outputs": [],
   "source": [
    "# Removing stopwords and stemming !!\n",
    "\n",
    "from nltk.corpus import stopwords\n",
    "sw = stopwords.words('english')\n",
    "\n",
    "from nltk.stem import SnowballStemmer\n",
    "sb = SnowballStemmer('english')\n",
    "\n",
    "stemmed_data =[]\n",
    "for each in tokenized_data:\n",
    "    ind_list_stemmed =[]\n",
    "    for each_word in each:\n",
    "        if each_word not in sw:\n",
    "            ind_list_stemmed.append(sb.stem(each_word))\n",
    "    stemmed_data.append(ind_list_stemmed)"
   ]
  },
  {
   "cell_type": "code",
   "execution_count": 30,
   "id": "3f7b95eb",
   "metadata": {},
   "outputs": [],
   "source": [
    "stemmed_strings = []\n",
    "for each in stemmed_data:\n",
    "    stemmed_strings.append(' '.join(each))"
   ]
  },
  {
   "cell_type": "code",
   "execution_count": 31,
   "id": "0f3d9689",
   "metadata": {},
   "outputs": [
    {
     "data": {
      "text/plain": [
       "'think may sent first tweet father day'"
      ]
     },
     "execution_count": 31,
     "metadata": {},
     "output_type": "execute_result"
    }
   ],
   "source": [
    "stemmed_strings[0]"
   ]
  },
  {
   "cell_type": "code",
   "execution_count": 32,
   "id": "f0e4eee0",
   "metadata": {},
   "outputs": [
    {
     "data": {
      "text/plain": [
       "matrix([[0., 0., 0., ..., 0., 0., 0.],\n",
       "        [0., 0., 0., ..., 0., 0., 0.],\n",
       "        [0., 0., 0., ..., 0., 0., 0.],\n",
       "        ...,\n",
       "        [0., 0., 0., ..., 0., 0., 0.],\n",
       "        [0., 0., 0., ..., 0., 0., 0.],\n",
       "        [0., 0., 0., ..., 0., 0., 0.]])"
      ]
     },
     "execution_count": 32,
     "metadata": {},
     "output_type": "execute_result"
    }
   ],
   "source": [
    "# Applying TF-IDF to stemmed words\n",
    "\n",
    "from sklearn.feature_extraction.text import TfidfVectorizer\n",
    "tfidf = TfidfVectorizer()\n",
    "tfidf.fit_transform(stemmed_strings).todense()"
   ]
  },
  {
   "cell_type": "code",
   "execution_count": 33,
   "id": "35468b2b",
   "metadata": {},
   "outputs": [
    {
     "data": {
      "text/plain": [
       "{'think': 15330,\n",
       " 'may': 9640,\n",
       " 'sent': 13516,\n",
       " 'first': 5223,\n",
       " 'tweet': 15915,\n",
       " 'father': 5027,\n",
       " 'day': 3645,\n",
       " 'sweet': 14834,\n",
       " 'power': 12052,\n",
       " 'phone': 11712,\n",
       " 'verg': 16336,\n",
       " 'death': 3698,\n",
       " 'like': 8902,\n",
       " 'got': 6116,\n",
       " 'back': 987,\n",
       " 'danc': 3553,\n",
       " 'problem': 12176,\n",
       " 'year': 17384,\n",
       " 'pass': 11501,\n",
       " 'memori': 9751,\n",
       " 'live': 8998,\n",
       " 'hea': 6579,\n",
       " 'mind': 9939,\n",
       " 'love': 9174,\n",
       " 'ohvixen': 11067,\n",
       " 'lay': 8693,\n",
       " 'bed': 1263,\n",
       " 'twin': 15932,\n",
       " 'size': 13890,\n",
       " 'bitch': 1534,\n",
       " 'takin': 14922,\n",
       " 'havin': 6550,\n",
       " 'dis': 3988,\n",
       " 'nicca': 10642,\n",
       " 'still': 14501,\n",
       " 'rap': 12518,\n",
       " 'dare': 3583,\n",
       " 'key': 8303,\n",
       " 'truck': 15800,\n",
       " 'wait': 16567,\n",
       " 'see': 13460,\n",
       " 'beauti': 1243,\n",
       " 'botswana': 1792,\n",
       " 'travel': 15709,\n",
       " 'rt': 13087,\n",
       " 'desean': 3841,\n",
       " 'bookieg': 1740,\n",
       " 'fuck': 5572,\n",
       " 'life': 8861,\n",
       " 'cant': 2304,\n",
       " 'stop': 14542,\n",
       " 'smile': 14025,\n",
       " 'twitter': 15945,\n",
       " 'guy': 6343,\n",
       " 'sohappi': 14132,\n",
       " 'freakinghappi': 5477,\n",
       " 'ohy': 11068,\n",
       " 'lamessican': 8613,\n",
       " 'throw': 15402,\n",
       " 'shade': 13602,\n",
       " 'confirm': 3080,\n",
       " 'someth': 14156,\n",
       " 'right': 12889,\n",
       " 'heissarcast': 6644,\n",
       " 'nicer': 10646,\n",
       " 'easier': 4421,\n",
       " 'hurt': 7043,\n",
       " 'play': 11848,\n",
       " 'oskar': 11260,\n",
       " 'schuster': 13363,\n",
       " 'comatos': 2975,\n",
       " 'melancholi': 9732,\n",
       " 'melancholymus': 9733,\n",
       " 'user': 16220,\n",
       " 'alway': 420,\n",
       " 'agre': 220,\n",
       " 'drink': 4274,\n",
       " 'dos': 4191,\n",
       " 'equi': 4708,\n",
       " 'stay': 14443,\n",
       " 'friend': 5528,\n",
       " 'friendship': 5530,\n",
       " 'never': 10549,\n",
       " 'end': 4628,\n",
       " 'ever': 4803,\n",
       " 'togeth': 15541,\n",
       " 'happi': 6460,\n",
       " 'vscomâ': 16539,\n",
       " 'yanke': 17347,\n",
       " 'went': 16802,\n",
       " 'gold': 6033,\n",
       " 'cruz': 3377,\n",
       " 'sound': 14217,\n",
       " 'upper': 16183,\n",
       " 'lower': 9246,\n",
       " 'bodi': 1690,\n",
       " 'strength': 14582,\n",
       " 'hmm': 6804,\n",
       " 'hr': 6976,\n",
       " 'hitter': 6792,\n",
       " 'say': 13314,\n",
       " 'word': 17131,\n",
       " 'williamfbraski': 16989,\n",
       " 'therandombon': 15278,\n",
       " 'feel': 5081,\n",
       " 'warm': 16625,\n",
       " 'fuzzi': 5666,\n",
       " 'yall': 17343,\n",
       " 'fake': 4957,\n",
       " 'wan': 16607,\n",
       " 'na': 10394,\n",
       " 'get': 5846,\n",
       " 'pleas': 11860,\n",
       " 'dnt': 4086,\n",
       " 'take': 14916,\n",
       " 'pictur': 11750,\n",
       " 'especi': 4745,\n",
       " 'jewelri': 7896,\n",
       " 'man': 9465,\n",
       " 'hoe': 6816,\n",
       " 'vicious': 16380,\n",
       " 'damn': 3544,\n",
       " 'serious': 13538,\n",
       " 'great': 6191,\n",
       " 'amp': 491,\n",
       " 'late': 8655,\n",
       " 'khuda': 8326,\n",
       " 'bux': 2178,\n",
       " 'mengal': 9759,\n",
       " 'miss': 9977,\n",
       " 'baba': 971,\n",
       " 'pop': 11981,\n",
       " 'dad': 3501,\n",
       " 'world': 17154,\n",
       " 'thank': 15161,\n",
       " 'yourâ': 17502,\n",
       " 'lauramartyy': 8680,\n",
       " 'nick': 10650,\n",
       " 'mick': 9848,\n",
       " 'jco': 7825,\n",
       " 'pussi': 12327,\n",
       " 'show': 13766,\n",
       " 'bro': 1959,\n",
       " 'ex': 4831,\n",
       " 'work': 17139,\n",
       " 'tri': 15753,\n",
       " 'yoga': 17459,\n",
       " 'vigilfororlando': 16404,\n",
       " 'harp': 6506,\n",
       " 'clonakilti': 2844,\n",
       " 'rip': 12910,\n",
       " 'via': 16370,\n",
       " 'one': 11132,\n",
       " 'week': 16755,\n",
       " 'left': 8745,\n",
       " 'break': 1872,\n",
       " 'bit': 1533,\n",
       " 'skill': 13908,\n",
       " 'shoag': 13729,\n",
       " 'sad': 13168,\n",
       " 'draw': 4245,\n",
       " 'sketch': 13902,\n",
       " 'characterdesign': 2550,\n",
       " 'nerd': 10525,\n",
       " 'geek': 5791,\n",
       " 'friday': 5520,\n",
       " 'flower': 5326,\n",
       " 'dead': 3680,\n",
       " 'caoonsâ': 2324,\n",
       " 'dustincart': 4368,\n",
       " 'dea': 3679,\n",
       " 'ass': 781,\n",
       " 'sleep': 13948,\n",
       " 'straight': 14561,\n",
       " 'chaser': 2569,\n",
       " 'music': 10314,\n",
       " 'video': 16393,\n",
       " 'nazario': 10465,\n",
       " 'noth': 10857,\n",
       " 'wrong': 17201,\n",
       " 'gta': 6283,\n",
       " 'kill': 8353,\n",
       " 'bc': 1192,\n",
       " 'sole': 14139,\n",
       " 'purpos': 12318,\n",
       " 'game': 5714,\n",
       " 'lost': 9154,\n",
       " 'interest': 7514,\n",
       " 'alreadi': 401,\n",
       " 'yo': 17453,\n",
       " 'rohingya': 13001,\n",
       " 'fear': 5063,\n",
       " 'forc': 5394,\n",
       " 'marriag': 9561,\n",
       " 'traffick': 15666,\n",
       " 'heabreak': 6581,\n",
       " 'new': 10560,\n",
       " 'york': 17474,\n",
       " 'time': 15464,\n",
       " 'wisconsin': 17026,\n",
       " 'bull': 2101,\n",
       " 'hill': 6758,\n",
       " 'climb': 2832,\n",
       " 'reach': 12570,\n",
       " 'target': 14962,\n",
       " 'complet': 3036,\n",
       " 'task': 14970,\n",
       " 'surviv': 14795,\n",
       " 'strong': 14600,\n",
       " 'exci': 4841,\n",
       " 'ppl': 12060,\n",
       " 'nut': 10940,\n",
       " 'none': 10801,\n",
       " 'us': 16210,\n",
       " 'know': 8454,\n",
       " 'someon': 14153,\n",
       " 'might': 9868,\n",
       " 'attack': 832,\n",
       " 'let': 8789,\n",
       " 'win': 17000,\n",
       " 'realli': 12597,\n",
       " 'piss': 11802,\n",
       " 'angri': 534,\n",
       " 'goe': 6024,\n",
       " 'valu': 16273,\n",
       " 'utter': 16239,\n",
       " 'moron': 10149,\n",
       " 'quit': 12401,\n",
       " 'frank': 5462,\n",
       " 'better': 1385,\n",
       " 'count': 3223,\n",
       " 'bless': 1609,\n",
       " 'grate': 6176,\n",
       " 'job': 7959,\n",
       " 'could': 3215,\n",
       " 'boss': 1781,\n",
       " 'team': 15024,\n",
       " 'taymaegotem': 14992,\n",
       " 'suck': 14665,\n",
       " 'dick': 3921,\n",
       " 'chill': 2653,\n",
       " 'song': 14169,\n",
       " 'also': 405,\n",
       " 'anyon': 610,\n",
       " 'want': 16615,\n",
       " 'price': 12139,\n",
       " 'disney': 4014,\n",
       " 'need': 10493,\n",
       " 'check': 2583,\n",
       " 'next': 10615,\n",
       " 'dollywood': 4131,\n",
       " 'http': 6991,\n",
       " 'co': 2879,\n",
       " 'jllkzbhyoy': 7950,\n",
       " 'resist': 12792,\n",
       " 'good': 6059,\n",
       " 'food': 5370,\n",
       " 'monk': 10101,\n",
       " 'road': 12968,\n",
       " 'lincoln': 8943,\n",
       " 'coupl': 3233,\n",
       " 'header': 6586,\n",
       " 'ioeno': 7554,\n",
       " 'em': 4579,\n",
       " 'come': 2979,\n",
       " 'around': 721,\n",
       " 'whatev': 16850,\n",
       " 'make': 9415,\n",
       " 'dril': 4272,\n",
       " 'ah': 224,\n",
       " 'smell': 14020,\n",
       " 'readi': 12576,\n",
       " 'open': 11192,\n",
       " 'oven': 11323,\n",
       " 'pull': 12285,\n",
       " 'sshitti': 14375,\n",
       " 'burnt': 2135,\n",
       " 'ritz': 12937,\n",
       " 'cracker': 3270,\n",
       " 'perfect': 11619,\n",
       " 'boy': 1820,\n",
       " 'lu': 9265,\n",
       " 'anyth': 611,\n",
       " 'run': 13113,\n",
       " 'liber': 8842,\n",
       " 'polic': 11939,\n",
       " 'big': 1429,\n",
       " 'gov': 6127,\n",
       " 'fewer': 5145,\n",
       " 'libei': 8840,\n",
       " 'charlesbarrkley': 2556,\n",
       " 'hey': 6707,\n",
       " 'sir': 13870,\n",
       " 'hous': 6950,\n",
       " 'nigger': 10685,\n",
       " 'uncl': 16075,\n",
       " 'tom': 15550,\n",
       " 'grand': 6158,\n",
       " 'ole': 11099,\n",
       " 'mississippi': 9984,\n",
       " 'rest': 12802,\n",
       " 'case': 2387,\n",
       " 'sob': 14100,\n",
       " 'cat': 2400,\n",
       " 'downtown': 4219,\n",
       " 'design': 3847,\n",
       " 'belt': 1327,\n",
       " 'trash': 15705,\n",
       " 'fit': 5235,\n",
       " 'haveto': 6547,\n",
       " 'lock': 9073,\n",
       " 'bathroom': 1159,\n",
       " 'getaway': 5850,\n",
       " 'constant': 3111,\n",
       " 'nag': 10405,\n",
       " 'whine': 16895,\n",
       " 'complain': 3033,\n",
       " 'arod': 720,\n",
       " 'shorti': 13753,\n",
       " 'dont': 4160,\n",
       " 'hit': 6789,\n",
       " 'manni': 9487,\n",
       " 'map': 9505,\n",
       " 'shi': 13686,\n",
       " 'order': 11224,\n",
       " 'buzz': 2181,\n",
       " 'hype': 7064,\n",
       " 'purchas': 12310,\n",
       " 'bugzi': 2088,\n",
       " 'ªð': 17663,\n",
       " 'fathersday': 5030,\n",
       " 'rock': 12983,\n",
       " 'church': 2730,\n",
       " 'ride': 12882,\n",
       " 'wit': 17035,\n",
       " 'old': 11092,\n",
       " 'dude': 4332,\n",
       " 'bangin': 1084,\n",
       " 'freshprinc': 5512,\n",
       " 'summertim': 14707,\n",
       " 'antzinherpantz': 603,\n",
       " 'https': 6992,\n",
       " 'tagju': 14905,\n",
       " 'mr': 10221,\n",
       " 'yeah': 17381,\n",
       " 'guess': 6298,\n",
       " 'slut': 13990,\n",
       " 'model': 10046,\n",
       " 'urð': 16209,\n",
       " 'foot': 5389,\n",
       " 'lbs': 8699,\n",
       " 'buy': 2179,\n",
       " 'caus': 2426,\n",
       " 'scrawni': 13395,\n",
       " 'countri': 3229,\n",
       " 'clicquotsuav': 2827,\n",
       " 'lmaooooooooooo': 9041,\n",
       " 'nigga': 10678,\n",
       " 'krillznuhcar': 8505,\n",
       " 'aanpsujmyi': 8,\n",
       " 'lt': 9264,\n",
       " 'depress': 3815,\n",
       " 'shit': 13710,\n",
       " 'foh': 5349,\n",
       " 'rate': 12541,\n",
       " 'sooner': 14179,\n",
       " 'later': 8660,\n",
       " 'somalia': 14149,\n",
       " 'repatri': 12761,\n",
       " 'kenyan': 8280,\n",
       " 'refuge': 12680,\n",
       " 'war': 16621,\n",
       " 'torn': 15610,\n",
       " 'ribo': 12864,\n",
       " 'secupp': 13455,\n",
       " 'retard': 12814,\n",
       " 'prob': 12172,\n",
       " 'shave': 13650,\n",
       " 'spic': 14287,\n",
       " 'stash': 14430,\n",
       " 'soon': 14178,\n",
       " 'kinda': 8376,\n",
       " 'hand': 6436,\n",
       " 'oh': 11052,\n",
       " 'dear': 3696,\n",
       " 'donald': 4147,\n",
       " 'bad': 1005,\n",
       " 'campaign': 2269,\n",
       " 'hair': 6397,\n",
       " 'mani': 9479,\n",
       " 'peopl': 11602,\n",
       " 'boost': 1755,\n",
       " 'go': 5998,\n",
       " 'chanc': 2528,\n",
       " 'summer': 14698,\n",
       " 'stellatex': 14470,\n",
       " 'zero': 17603,\n",
       " 'mansplain': 9497,\n",
       " 'adio': 131,\n",
       " 'stfu': 14494,\n",
       " 'wyattnuckel': 17236,\n",
       " 'grizzboadam': 6246,\n",
       " 'shut': 13792,\n",
       " 'fag': 4942,\n",
       " 'ill': 7207,\n",
       " 'beat': 1231,\n",
       " 'outta': 11313,\n",
       " 'leeluca': 8742,\n",
       " 'burn': 2129,\n",
       " 'bumbl': 2112,\n",
       " 'bee': 1268,\n",
       " 'real': 12582,\n",
       " 'grandma': 6163,\n",
       " 'bliss': 1624,\n",
       " 'fridayfeel': 5521,\n",
       " 'everybodi': 4808,\n",
       " 'famili': 4971,\n",
       " 'ootd': 11182,\n",
       " 'ya': 17323,\n",
       " 'basic': 1142,\n",
       " 'trippin': 15778,\n",
       " 'social': 14107,\n",
       " 'network': 10544,\n",
       " 'profil': 12190,\n",
       " 'yfli': 17432,\n",
       " 'mock': 10042,\n",
       " 'draft': 4225,\n",
       " 'methnotwe': 9805,\n",
       " 'look': 9131,\n",
       " 'homeless': 6860,\n",
       " 'meth': 9804,\n",
       " 'weed': 16752,\n",
       " 'ur': 16193,\n",
       " 'discrimin': 4002,\n",
       " 'american': 463,\n",
       " 'enough': 4663,\n",
       " 'fuk': 5606,\n",
       " 'talk': 14929,\n",
       " 'optimist': 11211,\n",
       " 'iam': 7076,\n",
       " 'posit': 12008,\n",
       " 'affirm': 182,\n",
       " 'bruh': 2007,\n",
       " 'retweet': 12826,\n",
       " 'front': 5549,\n",
       " 'put': 12330,\n",
       " 'huge': 7001,\n",
       " 'face': 4925,\n",
       " 'humbl': 7016,\n",
       " 'honor': 6888,\n",
       " 'gt': 6282,\n",
       " 'hali': 6416,\n",
       " 'packabl': 11387,\n",
       " 'boston': 1787,\n",
       " 'bag': 1028,\n",
       " 'hellolulu': 6656,\n",
       " 'carryhappi': 2376,\n",
       " 'fashion': 5009,\n",
       " 'urbanlif': 16196,\n",
       " 'style': 14633,\n",
       " 'oasi': 10977,\n",
       " 'parkð': 11489,\n",
       " 'bbq': 1188,\n",
       " 'canvasâ': 2320,\n",
       " '³â': 17668,\n",
       " 'µâ': 17674,\n",
       " '³ð': 17671,\n",
       " '¼ð': 17691,\n",
       " '½ð': 17694,\n",
       " '¹ð': 17682,\n",
       " 'µð': 17677,\n",
       " 'japan': 7788,\n",
       " 'gifu': 5895,\n",
       " 'dayoff': 3651,\n",
       " 'loveâ': 9239,\n",
       " 'soul': 14210,\n",
       " 'owlashop': 11355,\n",
       " 'quot': 12404,\n",
       " 'giftidea': 5894,\n",
       " 'offici': 11034,\n",
       " 'soar': 14099,\n",
       " 'forget': 5409,\n",
       " 'reward': 12845,\n",
       " 'hard': 6483,\n",
       " 'achiev': 79,\n",
       " 'goal': 6000,\n",
       " 'success': 14660,\n",
       " 'motiv': 10178,\n",
       " 'friggen': 5536,\n",
       " 'wed': 16736,\n",
       " 'sorrynotsorri': 14198,\n",
       " 'plymouth': 11886,\n",
       " 'locat': 9072,\n",
       " 'traverwood': 15720,\n",
       " 'replac': 12764,\n",
       " 'green': 6207,\n",
       " 'store': 14550,\n",
       " 'eat': 4435,\n",
       " 'cheat': 2580,\n",
       " 'woman': 17085,\n",
       " 'differ': 3939,\n",
       " 'artist': 732,\n",
       " 'much': 10262,\n",
       " 'stvtch': 14631,\n",
       " 'iambjrap': 7079,\n",
       " 'cheffincurri': 2603,\n",
       " 'girltimeusa': 5928,\n",
       " 'lilbthebasedgod': 8917,\n",
       " 'shamu': 13621,\n",
       " 'seaword': 13446,\n",
       " 'awesom': 918,\n",
       " 'definit': 3741,\n",
       " 'bright': 1929,\n",
       " 'arcdent': 679,\n",
       " 'celebr': 2469,\n",
       " 'weekend': 16757,\n",
       " 'fun': 5621,\n",
       " 'pier': 11756,\n",
       " 'saturday': 13287,\n",
       " 'nyc': 10955,\n",
       " 'hellskitchen': 6661,\n",
       " 'cute': 3452,\n",
       " 'photo': 11716,\n",
       " 'give': 5935,\n",
       " 'inch': 7325,\n",
       " 'rather': 12543,\n",
       " 'tiathegawd': 15432,\n",
       " 'even': 4798,\n",
       " 'amitchelll': 476,\n",
       " 'longdong': 9118,\n",
       " 'uni': 16117,\n",
       " 'suuuuck': 14806,\n",
       " 'lolol': 9098,\n",
       " 'alcohol': 307,\n",
       " 'factor': 4938,\n",
       " 'funni': 5636,\n",
       " 'beatl': 1235,\n",
       " 'romanc': 13011,\n",
       " 'furrystoat': 5651,\n",
       " 'record': 12636,\n",
       " 'nohomo': 10786,\n",
       " 'care': 2344,\n",
       " 'unless': 16137,\n",
       " 'ta': 14890,\n",
       " 'everi': 4806,\n",
       " 'sexual': 13580,\n",
       " 'bird': 1516,\n",
       " 'dog': 4107,\n",
       " 'edc': 4472,\n",
       " 'harri': 6508,\n",
       " 'tiesto': 15445,\n",
       " 'armin': 716,\n",
       " 'van': 16277,\n",
       " 'buurren': 2177,\n",
       " 'dimitrivega': 3957,\n",
       " 'likemik': 8907,\n",
       " 'hardwel': 6492,\n",
       " 'enteain': 4669,\n",
       " 'lildickytweet': 8919,\n",
       " 'eugen': 4777,\n",
       " 'watch': 16655,\n",
       " 'circl': 2751,\n",
       " 'round': 13054,\n",
       " 'name': 10418,\n",
       " 'chip': 2669,\n",
       " 'kelli': 8260,\n",
       " 'kjzh': 8424,\n",
       " 'usz': 16230,\n",
       " 'kid': 8339,\n",
       " 'independenceday': 7343,\n",
       " 'fitnessâ': 5244,\n",
       " 'townhom': 15639,\n",
       " 'monday': 10083,\n",
       " 'ocharley': 11006,\n",
       " 'bae': 1023,\n",
       " 'besti': 1367,\n",
       " 'andretti': 520,\n",
       " 'colleg': 2951,\n",
       " 'night': 10689,\n",
       " 'die': 3932,\n",
       " 'pulseshoot': 12292,\n",
       " 'bullshit': 2109,\n",
       " 'best': 1355,\n",
       " 'nerissaloren': 10529,\n",
       " 'robertend': 12977,\n",
       " 'nsngq': 10913,\n",
       " 'dress': 4259,\n",
       " 'race': 12419,\n",
       " 'fab': 4920,\n",
       " 'bloodofjupit': 1642,\n",
       " 'nisha': 10735,\n",
       " 'hate': 6532,\n",
       " 'keep': 8237,\n",
       " 'chase': 2567,\n",
       " 'treat': 15731,\n",
       " 'disappear': 3991,\n",
       " 'bernieorbust': 1349,\n",
       " 'sander': 13239,\n",
       " 'inevit': 7372,\n",
       " 'fall': 4963,\n",
       " 'line': 8947,\n",
       " 'suppo': 14768,\n",
       " 'clinton': 2838,\n",
       " 'middl': 9860,\n",
       " 'eastern': 4428,\n",
       " 'indonesian': 7362,\n",
       " 'women': 17088,\n",
       " 'seen': 13468,\n",
       " 'ugli': 16009,\n",
       " 'bollywood': 1712,\n",
       " 'film': 5179,\n",
       " 'turkey': 15876,\n",
       " 'croatia': 3345,\n",
       " 'volley': 16503,\n",
       " 'modric': 10051,\n",
       " 'luka': 9289,\n",
       " 'struck': 14604,\n",
       " 'unbeliev': 16063,\n",
       " 'earn': 4416,\n",
       " 'archeri': 681,\n",
       " 'josephdburn': 8022,\n",
       " 'girl': 5915,\n",
       " 'heard': 6608,\n",
       " 'commit': 3008,\n",
       " 'sin': 13847,\n",
       " 'chipotl': 2670,\n",
       " 'mightyy': 9870,\n",
       " 'fw': 5670,\n",
       " 'harrypotterâ': 6512,\n",
       " 'tooð': 15597,\n",
       " 'harrypotterweekendð': 6511,\n",
       " 'swift': 14850,\n",
       " 'uncomfut': 16079,\n",
       " 'meet': 9722,\n",
       " 'semi': 13500,\n",
       " 'finalist': 5188,\n",
       " 'casfactor': 2390,\n",
       " 'vdnufgj': 16300,\n",
       " 'feedback': 5079,\n",
       " 'charli': 2559,\n",
       " 'crist': 3338,\n",
       " 'fl': 5258,\n",
       " 'rumor': 13111,\n",
       " 'demand': 3776,\n",
       " 'recount': 12637,\n",
       " 'sayfi': 13316,\n",
       " 'longbongchri': 9117,\n",
       " 'ud': 15988,\n",
       " 'vakil': 16266,\n",
       " 'faggot': 4944,\n",
       " 'ras': 12531,\n",
       " 'album': 302,\n",
       " 'fell': 5109,\n",
       " 'cont': 3117,\n",
       " 'nrmc': 10906,\n",
       " 'goð': 6136,\n",
       " 'countdown': 3224,\n",
       " 'weaker': 16704,\n",
       " 'small': 14003,\n",
       " 'frustrat': 5561,\n",
       " 'loser': 9150,\n",
       " 'pathet': 11514,\n",
       " 'weakdonaldtrump': 16703,\n",
       " 'boringdonald': 1771,\n",
       " 'scrappi': 13393,\n",
       " 'mom': 10070,\n",
       " 'away': 916,\n",
       " 'jersey': 7875,\n",
       " 'anoth': 572,\n",
       " 'yearð': 17387,\n",
       " 'anothernationaltitel': 575,\n",
       " 'nr': 10902,\n",
       " 'thought': 15374,\n",
       " 'factori': 4939,\n",
       " 'polaris': 11931,\n",
       " 'trump': 15810,\n",
       " 'uselect': 16218,\n",
       " 'leadership': 8708,\n",
       " 'polit': 11945,\n",
       " 'brexit': 1905,\n",
       " 'blm': 1627,\n",
       " 'born': 1773,\n",
       " 'salut': 13214,\n",
       " 'freddi': 5483,\n",
       " 'gibb': 5890,\n",
       " 'bihday': 1464,\n",
       " 'freddiegibb': 5484,\n",
       " 'mzkimberz': 10392,\n",
       " 'call': 2239,\n",
       " 'lol': 9092,\n",
       " 'way': 16677,\n",
       " 'ruin': 13101,\n",
       " 'integr': 7503,\n",
       " 'spo': 14315,\n",
       " 'bopfail': 1764,\n",
       " 'alt': 406,\n",
       " 'movement': 10201,\n",
       " 'mustfal': 10332,\n",
       " 'sesh': 13551,\n",
       " 'bike': 1487,\n",
       " 'health': 6593,\n",
       " 'fresh': 5509,\n",
       " 'allahsoil': 351,\n",
       " 'cultur': 3417,\n",
       " 'separ': 13525,\n",
       " 'distinct': 4036,\n",
       " 'whoop': 16943,\n",
       " 'neontreezz': 10521,\n",
       " 'pocbeauti': 11904,\n",
       " 'white': 16907,\n",
       " 'sell': 13494,\n",
       " 'african': 190,\n",
       " 'art': 729,\n",
       " 'cool': 3149,\n",
       " 'okay': 11081,\n",
       " 'blackish': 1575,\n",
       " 'redskin': 12663,\n",
       " 'doublestandard': 4200,\n",
       " 'st': 14376,\n",
       " 'mark': 9543,\n",
       " 'cathedr': 2412,\n",
       " 'racism': 12433,\n",
       " 'anti': 587,\n",
       " 'semit': 13505,\n",
       " 'xenophobia': 17257,\n",
       " 'komo': 8474,\n",
       " 'news': 10595,\n",
       " 'mission': 9983,\n",
       " 'accomplish': 65,\n",
       " 'squatrack': 14363,\n",
       " 'gym': 6356,\n",
       " 'diy': 4051,\n",
       " 'busi': 2148,\n",
       " 'studio': 14616,\n",
       " 'personaltrainerâ': 11644,\n",
       " 'girbuad': 5914,\n",
       " 'strap': 14566,\n",
       " 'would': 17179,\n",
       " 'raw': 12549,\n",
       " 'hell': 6648,\n",
       " 'graham': 6151,\n",
       " 'marshmallow': 9567,\n",
       " 'littl': 8988,\n",
       " 'chocol': 2684,\n",
       " 'bar': 1102,\n",
       " 'more': 10131,\n",
       " 'thing': 15326,\n",
       " 'millionmil': 9926,\n",
       " 'infograph': 7389,\n",
       " 'inspir': 7441,\n",
       " 'gratitud': 6177,\n",
       " 'tonight': 15571,\n",
       " 'met': 9799,\n",
       " 'ebreload': 4449,\n",
       " 'wdnick': 16700,\n",
       " 'kinghov': 8392,\n",
       " 'swear': 14826,\n",
       " 'god': 6008,\n",
       " 'bouta': 1808,\n",
       " 'delet': 3762,\n",
       " 'account': 67,\n",
       " 'ypi': 17520,\n",
       " 'dtc': 4317,\n",
       " 'scum': 13409,\n",
       " 'baggeri': 1030,\n",
       " 'begin': 1284,\n",
       " 'hopeless': 6911,\n",
       " 'sneak': 14064,\n",
       " 'peek': 11586,\n",
       " 'issu': 7634,\n",
       " 'sale': 13200,\n",
       " 'tomorrow': 15561,\n",
       " 'worldoceansday': 17157,\n",
       " 'chang': 2536,\n",
       " 'turnin': 15884,\n",
       " 'à¹': 17699,\n",
       " '²à': 17665,\n",
       " 'sea': 13423,\n",
       " 'three': 15386,\n",
       " 'æµ': 17704,\n",
       " 'è¾¹': 17706,\n",
       " 'quaer': 12370,\n",
       " 'gross': 6254,\n",
       " 'domest': 4136,\n",
       " 'product': 12183,\n",
       " 'declin': 3713,\n",
       " 'previous': 12136,\n",
       " 'blog': 1633,\n",
       " 'silver': 13829,\n",
       " 'fâ': 5677,\n",
       " 'dream': 4253,\n",
       " 'ski': 13905,\n",
       " 'made': 9362,\n",
       " 'lodg': 9077,\n",
       " 'woke': 17080,\n",
       " 'realiz': 12594,\n",
       " 'june': 8095,\n",
       " 'month': 10113,\n",
       " 'enjoy': 4656,\n",
       " 'destroy': 3862,\n",
       " 'brother': 1991,\n",
       " 'brand': 1852,\n",
       " 'secret': 13451,\n",
       " 'wast': 16648,\n",
       " 'tuningout': 15869,\n",
       " 'shainarakia': 13607,\n",
       " 'offer': 11031,\n",
       " 'andrewtaran': 522,\n",
       " 'nice': 10644,\n",
       " 'color': 2965,\n",
       " 'combo': 2978,\n",
       " 'blue': 1648,\n",
       " 'yellow': 17404,\n",
       " 'stephanieschal': 14474,\n",
       " 'reinhard': 12709,\n",
       " 'ooo': 11174,\n",
       " 'logan': 9080,\n",
       " 'jihadi': 7921,\n",
       " 'claim': 2780,\n",
       " 'king': 8382,\n",
       " 'saudi': 13293,\n",
       " 'arabia': 674,\n",
       " 'two': 15949,\n",
       " 'ago': 216,\n",
       " 'must': 10326,\n",
       " 'bomb': 1715,\n",
       " 'hallucin': 6425,\n",
       " 'itsdlow': 7657,\n",
       " 'ask': 766,\n",
       " 'nude': 10927,\n",
       " 'facebook': 4926,\n",
       " 'wish': 17031,\n",
       " 'forward': 5422,\n",
       " 'today': 15527,\n",
       " 'surf': 14779,\n",
       " 'turf': 15874,\n",
       " 'special': 14266,\n",
       " 'laker': 8597,\n",
       " 'focus': 5346,\n",
       " 'trenttruc': 15744,\n",
       " 'photographi': 11720,\n",
       " 'patricko': 11525,\n",
       " 'steim': 14467,\n",
       " 'emot': 4606,\n",
       " 'needi': 10496,\n",
       " 'troll': 15785,\n",
       " 'clone': 2845,\n",
       " 'pal': 11415,\n",
       " 'desper': 3854,\n",
       " 'lifestyl': 8881,\n",
       " 'valid': 16271,\n",
       " 'oct': 11009,\n",
       " 'throwback': 15403,\n",
       " 'graduat': 6149,\n",
       " 'jakaa': 7750,\n",
       " 'conventionâ': 3136,\n",
       " 'machado': 9347,\n",
       " 'hero': 6694,\n",
       " 'clueless': 2866,\n",
       " 'idiot': 7137,\n",
       " 'disturb': 4039,\n",
       " 'hope': 6909,\n",
       " 'pray': 12076,\n",
       " 'lovelyaumeri': 9213,\n",
       " 'talm': 14935,\n",
       " 'bout': 1807,\n",
       " 'school': 13355,\n",
       " 'wifi': 16973,\n",
       " 'gon': 6047,\n",
       " 'client': 2828,\n",
       " 'treatment': 15733,\n",
       " 'broke': 1968,\n",
       " 'stunt': 14626,\n",
       " 'dub': 4322,\n",
       " 'nation': 10444,\n",
       " 'splash': 14307,\n",
       " 'shock': 13730,\n",
       " 'consid': 3108,\n",
       " 'racist': 12435,\n",
       " 'babi': 975,\n",
       " 'bigappl': 1430,\n",
       " 'sweetescap': 14836,\n",
       " 'travelblog': 15710,\n",
       " 'homefohenextfewday': 6856,\n",
       " 'morn': 10143,\n",
       " 'view': 16399,\n",
       " 'leav': 8728,\n",
       " 'hotel': 6936,\n",
       " 'bigboat': 1433,\n",
       " 'motomoto': 10184,\n",
       " 'period': 11626,\n",
       " 'heh': 6634,\n",
       " 'regga': 12687,\n",
       " 'sumfest': 14692,\n",
       " 'launch': 8677,\n",
       " 'adahzeh': 107,\n",
       " 'perform': 11624,\n",
       " 'reggaeâ': 12690,\n",
       " 'hot': 6933,\n",
       " 'wear': 16708,\n",
       " 'brief': 1927,\n",
       " 'visit': 16452,\n",
       " 'field': 5162,\n",
       " 'longer': 9119,\n",
       " 'batter': 1162,\n",
       " 'yankeestadium': 17350,\n",
       " 'lick': 8854,\n",
       " 'finger': 5203,\n",
       " 'yeeesss': 17390,\n",
       " 'euro': 4782,\n",
       " 'sta': 14377,\n",
       " '½ï': 17693,\n",
       " 'selfi': 13486,\n",
       " 'david': 3632,\n",
       " 'ha': 6369,\n",
       " 'charleston': 2558,\n",
       " 'vfw': 16363,\n",
       " 'post': 12024,\n",
       " 'titti': 15491,\n",
       " 'twerkin': 15926,\n",
       " 'cc': 2440,\n",
       " 'gu': 6288,\n",
       " 'xdsmooth': 17254,\n",
       " 'sayin': 13317,\n",
       " 'sinc': 13848,\n",
       " 'bulli': 2105,\n",
       " 'send': 13507,\n",
       " 'town': 15638,\n",
       " 'cooki': 3148,\n",
       " 'mic': 9833,\n",
       " 'bring': 1938,\n",
       " 'vocal': 16488,\n",
       " 'palett': 11420,\n",
       " 'shoe': 13731,\n",
       " 'beer': 1275,\n",
       " 'drinkloc': 4276,\n",
       " 'craftbeer': 3273,\n",
       " 'swfl': 14848,\n",
       " 'wednesdaymotiv': 16747,\n",
       " 'drakeandjosh': 4237,\n",
       " 'buffalo': 2081,\n",
       " 'simul': 13845,\n",
       " 'vicin': 16379,\n",
       " 'home': 6850,\n",
       " 'wa': 16551,\n",
       " 'tech': 15054,\n",
       " 'bitcoin': 1542,\n",
       " 'postcard': 12025,\n",
       " 'fellow': 5111,\n",
       " 'twaynesback': 15911,\n",
       " 'well': 16786,\n",
       " 'hop': 6908,\n",
       " 'shower': 13769,\n",
       " 'quick': 12397,\n",
       " 'nig': 10671,\n",
       " 'mfs': 9821,\n",
       " 'abt': 50,\n",
       " 'amaz': 441,\n",
       " 'remylacroix': 12747,\n",
       " 'uniform': 16120,\n",
       " 'schoolgirl': 13360,\n",
       " 'buddi': 2073,\n",
       " 'drug': 4296,\n",
       " 'whole': 16936,\n",
       " 'train': 15674,\n",
       " 'lmao': 9034,\n",
       " 'extra': 4892,\n",
       " 'tuesday': 15851,\n",
       " 'bitesblog': 1546,\n",
       " 'pat': 11510,\n",
       " 'martin': 9571,\n",
       " 'jame': 7766,\n",
       " 'beard': 1226,\n",
       " 'crwi': 3378,\n",
       " 'eq': 4703,\n",
       " 'sure': 14777,\n",
       " 'shilopug': 13695,\n",
       " 'pug': 12281,\n",
       " 'pugsofinstagram': 12283,\n",
       " 'baender': 1025,\n",
       " 'industri': 7366,\n",
       " 'va': 16254,\n",
       " 'doubl': 4198,\n",
       " 'actor': 98,\n",
       " 'actorlif': 99,\n",
       " 'everyth': 4816,\n",
       " 'cross': 3355,\n",
       " 'luck': 9273,\n",
       " 'nervous': 10533,\n",
       " 'proud': 12229,\n",
       " 'xxx': 17318,\n",
       " 'des': 3834,\n",
       " 'wishi': 17032,\n",
       " 'washi': 16636,\n",
       " 'fulli': 5617,\n",
       " 'slytherin': 13995,\n",
       " 'hiphiphurray': 6775,\n",
       " 'overweight': 11342,\n",
       " 'long': 9115,\n",
       " 'holiday': 6833,\n",
       " ...}"
      ]
     },
     "execution_count": 33,
     "metadata": {},
     "output_type": "execute_result"
    }
   ],
   "source": [
    "tfidf.vocabulary_"
   ]
  },
  {
   "cell_type": "code",
   "execution_count": 34,
   "id": "57bcc926",
   "metadata": {},
   "outputs": [],
   "source": [
    "tfidf_df = pd.DataFrame(tfidf.fit_transform(stemmed_strings).todense(), columns = sorted(tfidf.vocabulary_))"
   ]
  },
  {
   "cell_type": "code",
   "execution_count": 35,
   "id": "bcc9e10a",
   "metadata": {},
   "outputs": [],
   "source": [
    "# Spliting the data into training and testing sets\n",
    "\n",
    "from sklearn.model_selection import train_test_split\n",
    "x_train, x_test, y_train, y_test = train_test_split(tfidf_df, dataset['Toxicity'], test_size = 0.3, random_state = 1)"
   ]
  },
  {
   "cell_type": "code",
   "execution_count": 42,
   "id": "a3a9dba0",
   "metadata": {},
   "outputs": [
    {
     "data": {
      "text/html": [
       "<style>#sk-container-id-2 {color: black;background-color: white;}#sk-container-id-2 pre{padding: 0;}#sk-container-id-2 div.sk-toggleable {background-color: white;}#sk-container-id-2 label.sk-toggleable__label {cursor: pointer;display: block;width: 100%;margin-bottom: 0;padding: 0.3em;box-sizing: border-box;text-align: center;}#sk-container-id-2 label.sk-toggleable__label-arrow:before {content: \"▸\";float: left;margin-right: 0.25em;color: #696969;}#sk-container-id-2 label.sk-toggleable__label-arrow:hover:before {color: black;}#sk-container-id-2 div.sk-estimator:hover label.sk-toggleable__label-arrow:before {color: black;}#sk-container-id-2 div.sk-toggleable__content {max-height: 0;max-width: 0;overflow: hidden;text-align: left;background-color: #f0f8ff;}#sk-container-id-2 div.sk-toggleable__content pre {margin: 0.2em;color: black;border-radius: 0.25em;background-color: #f0f8ff;}#sk-container-id-2 input.sk-toggleable__control:checked~div.sk-toggleable__content {max-height: 200px;max-width: 100%;overflow: auto;}#sk-container-id-2 input.sk-toggleable__control:checked~label.sk-toggleable__label-arrow:before {content: \"▾\";}#sk-container-id-2 div.sk-estimator input.sk-toggleable__control:checked~label.sk-toggleable__label {background-color: #d4ebff;}#sk-container-id-2 div.sk-label input.sk-toggleable__control:checked~label.sk-toggleable__label {background-color: #d4ebff;}#sk-container-id-2 input.sk-hidden--visually {border: 0;clip: rect(1px 1px 1px 1px);clip: rect(1px, 1px, 1px, 1px);height: 1px;margin: -1px;overflow: hidden;padding: 0;position: absolute;width: 1px;}#sk-container-id-2 div.sk-estimator {font-family: monospace;background-color: #f0f8ff;border: 1px dotted black;border-radius: 0.25em;box-sizing: border-box;margin-bottom: 0.5em;}#sk-container-id-2 div.sk-estimator:hover {background-color: #d4ebff;}#sk-container-id-2 div.sk-parallel-item::after {content: \"\";width: 100%;border-bottom: 1px solid gray;flex-grow: 1;}#sk-container-id-2 div.sk-label:hover label.sk-toggleable__label {background-color: #d4ebff;}#sk-container-id-2 div.sk-serial::before {content: \"\";position: absolute;border-left: 1px solid gray;box-sizing: border-box;top: 0;bottom: 0;left: 50%;z-index: 0;}#sk-container-id-2 div.sk-serial {display: flex;flex-direction: column;align-items: center;background-color: white;padding-right: 0.2em;padding-left: 0.2em;position: relative;}#sk-container-id-2 div.sk-item {position: relative;z-index: 1;}#sk-container-id-2 div.sk-parallel {display: flex;align-items: stretch;justify-content: center;background-color: white;position: relative;}#sk-container-id-2 div.sk-item::before, #sk-container-id-2 div.sk-parallel-item::before {content: \"\";position: absolute;border-left: 1px solid gray;box-sizing: border-box;top: 0;bottom: 0;left: 50%;z-index: -1;}#sk-container-id-2 div.sk-parallel-item {display: flex;flex-direction: column;z-index: 1;position: relative;background-color: white;}#sk-container-id-2 div.sk-parallel-item:first-child::after {align-self: flex-end;width: 50%;}#sk-container-id-2 div.sk-parallel-item:last-child::after {align-self: flex-start;width: 50%;}#sk-container-id-2 div.sk-parallel-item:only-child::after {width: 0;}#sk-container-id-2 div.sk-dashed-wrapped {border: 1px dashed gray;margin: 0 0.4em 0.5em 0.4em;box-sizing: border-box;padding-bottom: 0.4em;background-color: white;}#sk-container-id-2 div.sk-label label {font-family: monospace;font-weight: bold;display: inline-block;line-height: 1.2em;}#sk-container-id-2 div.sk-label-container {text-align: center;}#sk-container-id-2 div.sk-container {/* jupyter's `normalize.less` sets `[hidden] { display: none; }` but bootstrap.min.css set `[hidden] { display: none !important; }` so we also need the `!important` here to be able to override the default hidden behavior on the sphinx rendered scikit-learn.org. See: https://github.com/scikit-learn/scikit-learn/issues/21755 */display: inline-block !important;position: relative;}#sk-container-id-2 div.sk-text-repr-fallback {display: none;}</style><div id=\"sk-container-id-2\" class=\"sk-top-container\"><div class=\"sk-text-repr-fallback\"><pre>DecisionTreeClassifier()</pre><b>In a Jupyter environment, please rerun this cell to show the HTML representation or trust the notebook. <br />On GitHub, the HTML representation is unable to render, please try loading this page with nbviewer.org.</b></div><div class=\"sk-container\" hidden><div class=\"sk-item\"><div class=\"sk-estimator sk-toggleable\"><input class=\"sk-toggleable__control sk-hidden--visually\" id=\"sk-estimator-id-2\" type=\"checkbox\" checked><label for=\"sk-estimator-id-2\" class=\"sk-toggleable__label sk-toggleable__label-arrow\">DecisionTreeClassifier</label><div class=\"sk-toggleable__content\"><pre>DecisionTreeClassifier()</pre></div></div></div></div></div>"
      ],
      "text/plain": [
       "DecisionTreeClassifier()"
      ]
     },
     "execution_count": 42,
     "metadata": {},
     "output_type": "execute_result"
    }
   ],
   "source": [
    "# Decision Tree Classifier\n",
    "\n",
    "from sklearn.tree import DecisionTreeClassifier\n",
    "dt = DecisionTreeClassifier()\n",
    "dt.fit(x_train, y_train)"
   ]
  },
  {
   "cell_type": "code",
   "execution_count": 43,
   "id": "5a2a1269",
   "metadata": {},
   "outputs": [],
   "source": [
    "dt_preds = dt.predict(x_test)"
   ]
  },
  {
   "cell_type": "code",
   "execution_count": 47,
   "id": "cbe7c651",
   "metadata": {},
   "outputs": [
    {
     "data": {
      "text/plain": [
       "0.919"
      ]
     },
     "execution_count": 47,
     "metadata": {},
     "output_type": "execute_result"
    }
   ],
   "source": [
    "from sklearn.metrics import accuracy_score\n",
    "accuracy_score(y_test, dt_preds)"
   ]
  },
  {
   "cell_type": "code",
   "execution_count": 48,
   "id": "46215465",
   "metadata": {},
   "outputs": [
    {
     "name": "stdout",
     "output_type": "stream",
     "text": [
      "              precision    recall  f1-score   support\n",
      "\n",
      "           0       0.93      0.93      0.93      1748\n",
      "           1       0.90      0.91      0.90      1252\n",
      "\n",
      "    accuracy                           0.92      3000\n",
      "   macro avg       0.92      0.92      0.92      3000\n",
      "weighted avg       0.92      0.92      0.92      3000\n",
      "\n"
     ]
    }
   ],
   "source": [
    "from sklearn.metrics import classification_report, precision_score, recall_score, f1_score, confusion_matrix, roc_auc_score, ConfusionMatrixDisplay, RocCurveDisplay\n",
    "print(classification_report(y_test, dt_preds))"
   ]
  },
  {
   "cell_type": "code",
   "execution_count": 49,
   "id": "064f94c9",
   "metadata": {},
   "outputs": [
    {
     "data": {
      "text/plain": [
       "0.9000793021411578"
      ]
     },
     "execution_count": 49,
     "metadata": {},
     "output_type": "execute_result"
    }
   ],
   "source": [
    "dt_precision = precision_score(y_test, dt_preds)\n",
    "dt_precision"
   ]
  },
  {
   "cell_type": "code",
   "execution_count": 51,
   "id": "119200a5",
   "metadata": {},
   "outputs": [
    {
     "data": {
      "text/plain": [
       "0.9065495207667732"
      ]
     },
     "execution_count": 51,
     "metadata": {},
     "output_type": "execute_result"
    }
   ],
   "source": [
    "dt_recall = recall_score(y_test, dt_preds)\n",
    "dt_recall"
   ]
  },
  {
   "cell_type": "code",
   "execution_count": 52,
   "id": "36ffc740",
   "metadata": {},
   "outputs": [
    {
     "data": {
      "text/plain": [
       "0.9033028253083963"
      ]
     },
     "execution_count": 52,
     "metadata": {},
     "output_type": "execute_result"
    }
   ],
   "source": [
    "dt_f1 = f1_score(y_test, dt_preds)\n",
    "dt_f1"
   ]
  },
  {
   "cell_type": "code",
   "execution_count": 53,
   "id": "6317fed8",
   "metadata": {},
   "outputs": [
    {
     "data": {
      "text/plain": [
       "array([[1622,  126],\n",
       "       [ 117, 1135]], dtype=int64)"
      ]
     },
     "execution_count": 53,
     "metadata": {},
     "output_type": "execute_result"
    }
   ],
   "source": [
    "dt_confusion_matrix = confusion_matrix(y_test, dt_preds)\n",
    "dt_confusion_matrix"
   ]
  },
  {
   "cell_type": "code",
   "execution_count": 55,
   "id": "f3e082a4",
   "metadata": {},
   "outputs": [
    {
     "data": {
      "text/plain": [
       "<sklearn.metrics._plot.confusion_matrix.ConfusionMatrixDisplay at 0x29d945a3490>"
      ]
     },
     "execution_count": 55,
     "metadata": {},
     "output_type": "execute_result"
    },
    {
     "data": {
      "image/png": "[encoded data removed]",
      "text/plain": [
       "<Figure size 640x480 with 2 Axes>"
      ]
     },
     "metadata": {},
     "output_type": "display_data"
    }
   ],
   "source": [
    "dt_cm_disp = ConfusionMatrixDisplay(confusion_matrix = dt_confusion_matrix)\n",
    "dt_cm_disp.plot()"
   ]
  },
  {
   "cell_type": "code",
   "execution_count": 56,
   "id": "7c44704f",
   "metadata": {},
   "outputs": [
    {
     "data": {
      "text/plain": [
       "<sklearn.metrics._plot.roc_curve.RocCurveDisplay at 0x29d979a0640>"
      ]
     },
     "execution_count": 56,
     "metadata": {},
     "output_type": "execute_result"
    },
    {
     "data": {
      "image/png": "[encoded data removed]",
      "text/plain": [
       "<Figure size 640x480 with 1 Axes>"
      ]
     },
     "metadata": {},
     "output_type": "display_data"
    }
   ],
   "source": [
    "RocCurveDisplay.from_predictions(y_test, dt_preds)"
   ]
  },
  {
   "cell_type": "code",
   "execution_count": 100,
   "id": "92ce019e",
   "metadata": {},
   "outputs": [
    {
     "data": {
      "text/plain": [
       "0.9172335704520366"
      ]
     },
     "execution_count": 100,
     "metadata": {},
     "output_type": "execute_result"
    }
   ],
   "source": [
    "dt_roc_auc_score = roc_auc_score(y_test, dt_preds)\n",
    "dt_roc_auc_score"
   ]
  },
  {
   "cell_type": "code",
   "execution_count": 57,
   "id": "4f03f915",
   "metadata": {},
   "outputs": [
    {
     "data": {
      "text/html": [
       "<style>#sk-container-id-3 {color: black;background-color: white;}#sk-container-id-3 pre{padding: 0;}#sk-container-id-3 div.sk-toggleable {background-color: white;}#sk-container-id-3 label.sk-toggleable__label {cursor: pointer;display: block;width: 100%;margin-bottom: 0;padding: 0.3em;box-sizing: border-box;text-align: center;}#sk-container-id-3 label.sk-toggleable__label-arrow:before {content: \"▸\";float: left;margin-right: 0.25em;color: #696969;}#sk-container-id-3 label.sk-toggleable__label-arrow:hover:before {color: black;}#sk-container-id-3 div.sk-estimator:hover label.sk-toggleable__label-arrow:before {color: black;}#sk-container-id-3 div.sk-toggleable__content {max-height: 0;max-width: 0;overflow: hidden;text-align: left;background-color: #f0f8ff;}#sk-container-id-3 div.sk-toggleable__content pre {margin: 0.2em;color: black;border-radius: 0.25em;background-color: #f0f8ff;}#sk-container-id-3 input.sk-toggleable__control:checked~div.sk-toggleable__content {max-height: 200px;max-width: 100%;overflow: auto;}#sk-container-id-3 input.sk-toggleable__control:checked~label.sk-toggleable__label-arrow:before {content: \"▾\";}#sk-container-id-3 div.sk-estimator input.sk-toggleable__control:checked~label.sk-toggleable__label {background-color: #d4ebff;}#sk-container-id-3 div.sk-label input.sk-toggleable__control:checked~label.sk-toggleable__label {background-color: #d4ebff;}#sk-container-id-3 input.sk-hidden--visually {border: 0;clip: rect(1px 1px 1px 1px);clip: rect(1px, 1px, 1px, 1px);height: 1px;margin: -1px;overflow: hidden;padding: 0;position: absolute;width: 1px;}#sk-container-id-3 div.sk-estimator {font-family: monospace;background-color: #f0f8ff;border: 1px dotted black;border-radius: 0.25em;box-sizing: border-box;margin-bottom: 0.5em;}#sk-container-id-3 div.sk-estimator:hover {background-color: #d4ebff;}#sk-container-id-3 div.sk-parallel-item::after {content: \"\";width: 100%;border-bottom: 1px solid gray;flex-grow: 1;}#sk-container-id-3 div.sk-label:hover label.sk-toggleable__label {background-color: #d4ebff;}#sk-container-id-3 div.sk-serial::before {content: \"\";position: absolute;border-left: 1px solid gray;box-sizing: border-box;top: 0;bottom: 0;left: 50%;z-index: 0;}#sk-container-id-3 div.sk-serial {display: flex;flex-direction: column;align-items: center;background-color: white;padding-right: 0.2em;padding-left: 0.2em;position: relative;}#sk-container-id-3 div.sk-item {position: relative;z-index: 1;}#sk-container-id-3 div.sk-parallel {display: flex;align-items: stretch;justify-content: center;background-color: white;position: relative;}#sk-container-id-3 div.sk-item::before, #sk-container-id-3 div.sk-parallel-item::before {content: \"\";position: absolute;border-left: 1px solid gray;box-sizing: border-box;top: 0;bottom: 0;left: 50%;z-index: -1;}#sk-container-id-3 div.sk-parallel-item {display: flex;flex-direction: column;z-index: 1;position: relative;background-color: white;}#sk-container-id-3 div.sk-parallel-item:first-child::after {align-self: flex-end;width: 50%;}#sk-container-id-3 div.sk-parallel-item:last-child::after {align-self: flex-start;width: 50%;}#sk-container-id-3 div.sk-parallel-item:only-child::after {width: 0;}#sk-container-id-3 div.sk-dashed-wrapped {border: 1px dashed gray;margin: 0 0.4em 0.5em 0.4em;box-sizing: border-box;padding-bottom: 0.4em;background-color: white;}#sk-container-id-3 div.sk-label label {font-family: monospace;font-weight: bold;display: inline-block;line-height: 1.2em;}#sk-container-id-3 div.sk-label-container {text-align: center;}#sk-container-id-3 div.sk-container {/* jupyter's `normalize.less` sets `[hidden] { display: none; }` but bootstrap.min.css set `[hidden] { display: none !important; }` so we also need the `!important` here to be able to override the default hidden behavior on the sphinx rendered scikit-learn.org. See: https://github.com/scikit-learn/scikit-learn/issues/21755 */display: inline-block !important;position: relative;}#sk-container-id-3 div.sk-text-repr-fallback {display: none;}</style><div id=\"sk-container-id-3\" class=\"sk-top-container\"><div class=\"sk-text-repr-fallback\"><pre>RandomForestClassifier()</pre><b>In a Jupyter environment, please rerun this cell to show the HTML representation or trust the notebook. <br />On GitHub, the HTML representation is unable to render, please try loading this page with nbviewer.org.</b></div><div class=\"sk-container\" hidden><div class=\"sk-item\"><div class=\"sk-estimator sk-toggleable\"><input class=\"sk-toggleable__control sk-hidden--visually\" id=\"sk-estimator-id-3\" type=\"checkbox\" checked><label for=\"sk-estimator-id-3\" class=\"sk-toggleable__label sk-toggleable__label-arrow\">RandomForestClassifier</label><div class=\"sk-toggleable__content\"><pre>RandomForestClassifier()</pre></div></div></div></div></div>"
      ],
      "text/plain": [
       "RandomForestClassifier()"
      ]
     },
     "execution_count": 57,
     "metadata": {},
     "output_type": "execute_result"
    }
   ],
   "source": [
    "# Random Forest Classifier\n",
    "\n",
    "from sklearn.ensemble import RandomForestClassifier\n",
    "rf = RandomForestClassifier()\n",
    "rf.fit(x_train, y_train)"
   ]
  },
  {
   "cell_type": "code",
   "execution_count": 58,
   "id": "0ae94e1f",
   "metadata": {},
   "outputs": [],
   "source": [
    "rf_preds = rf.predict(x_test)"
   ]
  },
  {
   "cell_type": "code",
   "execution_count": 59,
   "id": "d89ddb0c",
   "metadata": {},
   "outputs": [
    {
     "data": {
      "text/plain": [
       "0.9206666666666666"
      ]
     },
     "execution_count": 59,
     "metadata": {},
     "output_type": "execute_result"
    }
   ],
   "source": [
    "accuracy_score(y_test, rf_preds)"
   ]
  },
  {
   "cell_type": "code",
   "execution_count": 60,
   "id": "82dc7152",
   "metadata": {},
   "outputs": [
    {
     "name": "stdout",
     "output_type": "stream",
     "text": [
      "              precision    recall  f1-score   support\n",
      "\n",
      "           0       0.91      0.95      0.93      1748\n",
      "           1       0.93      0.88      0.90      1252\n",
      "\n",
      "    accuracy                           0.92      3000\n",
      "   macro avg       0.92      0.91      0.92      3000\n",
      "weighted avg       0.92      0.92      0.92      3000\n",
      "\n"
     ]
    }
   ],
   "source": [
    "print(classification_report(y_test, rf_preds))"
   ]
  },
  {
   "cell_type": "code",
   "execution_count": 61,
   "id": "0f687ba7",
   "metadata": {},
   "outputs": [
    {
     "data": {
      "text/plain": [
       "0.9303904923599321"
      ]
     },
     "execution_count": 61,
     "metadata": {},
     "output_type": "execute_result"
    }
   ],
   "source": [
    "rf_precision = precision_score(y_test, rf_preds)\n",
    "rf_precision"
   ]
  },
  {
   "cell_type": "code",
   "execution_count": 62,
   "id": "877eb980",
   "metadata": {},
   "outputs": [
    {
     "data": {
      "text/plain": [
       "0.8753993610223643"
      ]
     },
     "execution_count": 62,
     "metadata": {},
     "output_type": "execute_result"
    }
   ],
   "source": [
    "rf_recall = recall_score(y_test, rf_preds)\n",
    "rf_recall"
   ]
  },
  {
   "cell_type": "code",
   "execution_count": 63,
   "id": "afa13236",
   "metadata": {},
   "outputs": [
    {
     "data": {
      "text/plain": [
       "0.9020576131687245"
      ]
     },
     "execution_count": 63,
     "metadata": {},
     "output_type": "execute_result"
    }
   ],
   "source": [
    "rf_f1 = f1_score(y_test, rf_preds)\n",
    "rf_f1"
   ]
  },
  {
   "cell_type": "code",
   "execution_count": 64,
   "id": "8204afad",
   "metadata": {},
   "outputs": [
    {
     "data": {
      "text/plain": [
       "array([[1666,   82],\n",
       "       [ 156, 1096]], dtype=int64)"
      ]
     },
     "execution_count": 64,
     "metadata": {},
     "output_type": "execute_result"
    }
   ],
   "source": [
    "rf_confusion_matrix = confusion_matrix(y_test, rf_preds)\n",
    "rf_confusion_matrix"
   ]
  },
  {
   "cell_type": "code",
   "execution_count": 65,
   "id": "44c35c7b",
   "metadata": {},
   "outputs": [
    {
     "data": {
      "text/plain": [
       "<sklearn.metrics._plot.confusion_matrix.ConfusionMatrixDisplay at 0x29e95d615a0>"
      ]
     },
     "execution_count": 65,
     "metadata": {},
     "output_type": "execute_result"
    },
    {
     "data": {
      "image/png": "[encoded data removed]",
      "text/plain": [
       "<Figure size 640x480 with 2 Axes>"
      ]
     },
     "metadata": {},
     "output_type": "display_data"
    }
   ],
   "source": [
    "rf_cm_disp = ConfusionMatrixDisplay(confusion_matrix = rf_confusion_matrix)\n",
    "rf_cm_disp.plot()"
   ]
  },
  {
   "cell_type": "code",
   "execution_count": 66,
   "id": "4d6e9abd",
   "metadata": {},
   "outputs": [
    {
     "data": {
      "text/plain": [
       "<sklearn.metrics._plot.roc_curve.RocCurveDisplay at 0x29d978f29e0>"
      ]
     },
     "execution_count": 66,
     "metadata": {},
     "output_type": "execute_result"
    },
    {
     "data": {
      "image/png": "[encoded data removed]",
      "text/plain": [
       "<Figure size 640x480 with 1 Axes>"
      ]
     },
     "metadata": {},
     "output_type": "display_data"
    }
   ],
   "source": [
    "RocCurveDisplay.from_predictions(y_test, rf_preds)"
   ]
  },
  {
   "cell_type": "code",
   "execution_count": 101,
   "id": "f76381ff",
   "metadata": {},
   "outputs": [
    {
     "data": {
      "text/plain": [
       "0.9142443029368114"
      ]
     },
     "execution_count": 101,
     "metadata": {},
     "output_type": "execute_result"
    }
   ],
   "source": [
    "rf_roc_auc_score = roc_auc_score(y_test, rf_preds)\n",
    "rf_roc_auc_score"
   ]
  },
  {
   "cell_type": "code",
   "execution_count": 67,
   "id": "6f2cdd84",
   "metadata": {},
   "outputs": [
    {
     "data": {
      "text/html": [
       "<style>#sk-container-id-4 {color: black;background-color: white;}#sk-container-id-4 pre{padding: 0;}#sk-container-id-4 div.sk-toggleable {background-color: white;}#sk-container-id-4 label.sk-toggleable__label {cursor: pointer;display: block;width: 100%;margin-bottom: 0;padding: 0.3em;box-sizing: border-box;text-align: center;}#sk-container-id-4 label.sk-toggleable__label-arrow:before {content: \"▸\";float: left;margin-right: 0.25em;color: #696969;}#sk-container-id-4 label.sk-toggleable__label-arrow:hover:before {color: black;}#sk-container-id-4 div.sk-estimator:hover label.sk-toggleable__label-arrow:before {color: black;}#sk-container-id-4 div.sk-toggleable__content {max-height: 0;max-width: 0;overflow: hidden;text-align: left;background-color: #f0f8ff;}#sk-container-id-4 div.sk-toggleable__content pre {margin: 0.2em;color: black;border-radius: 0.25em;background-color: #f0f8ff;}#sk-container-id-4 input.sk-toggleable__control:checked~div.sk-toggleable__content {max-height: 200px;max-width: 100%;overflow: auto;}#sk-container-id-4 input.sk-toggleable__control:checked~label.sk-toggleable__label-arrow:before {content: \"▾\";}#sk-container-id-4 div.sk-estimator input.sk-toggleable__control:checked~label.sk-toggleable__label {background-color: #d4ebff;}#sk-container-id-4 div.sk-label input.sk-toggleable__control:checked~label.sk-toggleable__label {background-color: #d4ebff;}#sk-container-id-4 input.sk-hidden--visually {border: 0;clip: rect(1px 1px 1px 1px);clip: rect(1px, 1px, 1px, 1px);height: 1px;margin: -1px;overflow: hidden;padding: 0;position: absolute;width: 1px;}#sk-container-id-4 div.sk-estimator {font-family: monospace;background-color: #f0f8ff;border: 1px dotted black;border-radius: 0.25em;box-sizing: border-box;margin-bottom: 0.5em;}#sk-container-id-4 div.sk-estimator:hover {background-color: #d4ebff;}#sk-container-id-4 div.sk-parallel-item::after {content: \"\";width: 100%;border-bottom: 1px solid gray;flex-grow: 1;}#sk-container-id-4 div.sk-label:hover label.sk-toggleable__label {background-color: #d4ebff;}#sk-container-id-4 div.sk-serial::before {content: \"\";position: absolute;border-left: 1px solid gray;box-sizing: border-box;top: 0;bottom: 0;left: 50%;z-index: 0;}#sk-container-id-4 div.sk-serial {display: flex;flex-direction: column;align-items: center;background-color: white;padding-right: 0.2em;padding-left: 0.2em;position: relative;}#sk-container-id-4 div.sk-item {position: relative;z-index: 1;}#sk-container-id-4 div.sk-parallel {display: flex;align-items: stretch;justify-content: center;background-color: white;position: relative;}#sk-container-id-4 div.sk-item::before, #sk-container-id-4 div.sk-parallel-item::before {content: \"\";position: absolute;border-left: 1px solid gray;box-sizing: border-box;top: 0;bottom: 0;left: 50%;z-index: -1;}#sk-container-id-4 div.sk-parallel-item {display: flex;flex-direction: column;z-index: 1;position: relative;background-color: white;}#sk-container-id-4 div.sk-parallel-item:first-child::after {align-self: flex-end;width: 50%;}#sk-container-id-4 div.sk-parallel-item:last-child::after {align-self: flex-start;width: 50%;}#sk-container-id-4 div.sk-parallel-item:only-child::after {width: 0;}#sk-container-id-4 div.sk-dashed-wrapped {border: 1px dashed gray;margin: 0 0.4em 0.5em 0.4em;box-sizing: border-box;padding-bottom: 0.4em;background-color: white;}#sk-container-id-4 div.sk-label label {font-family: monospace;font-weight: bold;display: inline-block;line-height: 1.2em;}#sk-container-id-4 div.sk-label-container {text-align: center;}#sk-container-id-4 div.sk-container {/* jupyter's `normalize.less` sets `[hidden] { display: none; }` but bootstrap.min.css set `[hidden] { display: none !important; }` so we also need the `!important` here to be able to override the default hidden behavior on the sphinx rendered scikit-learn.org. See: https://github.com/scikit-learn/scikit-learn/issues/21755 */display: inline-block !important;position: relative;}#sk-container-id-4 div.sk-text-repr-fallback {display: none;}</style><div id=\"sk-container-id-4\" class=\"sk-top-container\"><div class=\"sk-text-repr-fallback\"><pre>GaussianNB()</pre><b>In a Jupyter environment, please rerun this cell to show the HTML representation or trust the notebook. <br />On GitHub, the HTML representation is unable to render, please try loading this page with nbviewer.org.</b></div><div class=\"sk-container\" hidden><div class=\"sk-item\"><div class=\"sk-estimator sk-toggleable\"><input class=\"sk-toggleable__control sk-hidden--visually\" id=\"sk-estimator-id-4\" type=\"checkbox\" checked><label for=\"sk-estimator-id-4\" class=\"sk-toggleable__label sk-toggleable__label-arrow\">GaussianNB</label><div class=\"sk-toggleable__content\"><pre>GaussianNB()</pre></div></div></div></div></div>"
      ],
      "text/plain": [
       "GaussianNB()"
      ]
     },
     "execution_count": 67,
     "metadata": {},
     "output_type": "execute_result"
    }
   ],
   "source": [
    "# Naive Bayes Model\n",
    "\n",
    "from sklearn.naive_bayes import GaussianNB\n",
    "gnb = GaussianNB()\n",
    "gnb.fit(x_train, y_train)"
   ]
  },
  {
   "cell_type": "code",
   "execution_count": 69,
   "id": "6e5ebb63",
   "metadata": {},
   "outputs": [],
   "source": [
    "gnb_preds = gnb.predict(x_test)"
   ]
  },
  {
   "cell_type": "code",
   "execution_count": 70,
   "id": "59c8cb7c",
   "metadata": {},
   "outputs": [
    {
     "data": {
      "text/plain": [
       "0.7083333333333334"
      ]
     },
     "execution_count": 70,
     "metadata": {},
     "output_type": "execute_result"
    }
   ],
   "source": [
    "accuracy_score(y_test, gnb_preds)"
   ]
  },
  {
   "cell_type": "code",
   "execution_count": 71,
   "id": "28aba655",
   "metadata": {},
   "outputs": [
    {
     "name": "stdout",
     "output_type": "stream",
     "text": [
      "              precision    recall  f1-score   support\n",
      "\n",
      "           0       0.82      0.63      0.72      1748\n",
      "           1       0.61      0.81      0.70      1252\n",
      "\n",
      "    accuracy                           0.71      3000\n",
      "   macro avg       0.72      0.72      0.71      3000\n",
      "weighted avg       0.74      0.71      0.71      3000\n",
      "\n"
     ]
    }
   ],
   "source": [
    "print(classification_report(y_test, gnb_preds))"
   ]
  },
  {
   "cell_type": "code",
   "execution_count": 72,
   "id": "47b2ceaa",
   "metadata": {},
   "outputs": [
    {
     "data": {
      "text/plain": [
       "0.6138972809667673"
      ]
     },
     "execution_count": 72,
     "metadata": {},
     "output_type": "execute_result"
    }
   ],
   "source": [
    "gnb_precision = precision_score(y_test, gnb_preds)\n",
    "gnb_precision"
   ]
  },
  {
   "cell_type": "code",
   "execution_count": 73,
   "id": "c72413ad",
   "metadata": {},
   "outputs": [
    {
     "data": {
      "text/plain": [
       "0.8115015974440895"
      ]
     },
     "execution_count": 73,
     "metadata": {},
     "output_type": "execute_result"
    }
   ],
   "source": [
    "gnb_recall = recall_score(y_test, gnb_preds)\n",
    "gnb_recall"
   ]
  },
  {
   "cell_type": "code",
   "execution_count": 74,
   "id": "62bf7109",
   "metadata": {},
   "outputs": [
    {
     "data": {
      "text/plain": [
       "0.6990024079807361"
      ]
     },
     "execution_count": 74,
     "metadata": {},
     "output_type": "execute_result"
    }
   ],
   "source": [
    "gnb_f1 = f1_score(y_test, gnb_preds)\n",
    "gnb_f1"
   ]
  },
  {
   "cell_type": "code",
   "execution_count": 75,
   "id": "5625b47d",
   "metadata": {},
   "outputs": [
    {
     "data": {
      "text/plain": [
       "array([[1109,  639],\n",
       "       [ 236, 1016]], dtype=int64)"
      ]
     },
     "execution_count": 75,
     "metadata": {},
     "output_type": "execute_result"
    }
   ],
   "source": [
    "gnb_confusion_matrix = confusion_matrix(y_test, gnb_preds)\n",
    "gnb_confusion_matrix"
   ]
  },
  {
   "cell_type": "code",
   "execution_count": 76,
   "id": "cb135f5f",
   "metadata": {},
   "outputs": [
    {
     "data": {
      "text/plain": [
       "<sklearn.metrics._plot.confusion_matrix.ConfusionMatrixDisplay at 0x29e96525c30>"
      ]
     },
     "execution_count": 76,
     "metadata": {},
     "output_type": "execute_result"
    },
    {
     "data": {
      "image/png": "[encoded data removed]",
      "text/plain": [
       "<Figure size 640x480 with 2 Axes>"
      ]
     },
     "metadata": {},
     "output_type": "display_data"
    }
   ],
   "source": [
    "gnb_cm_disp = ConfusionMatrixDisplay(confusion_matrix = gnb_confusion_matrix)\n",
    "gnb_cm_disp.plot()"
   ]
  },
  {
   "cell_type": "code",
   "execution_count": 77,
   "id": "6df038d1",
   "metadata": {},
   "outputs": [
    {
     "data": {
      "text/plain": [
       "<sklearn.metrics._plot.roc_curve.RocCurveDisplay at 0x29e964a3220>"
      ]
     },
     "execution_count": 77,
     "metadata": {},
     "output_type": "execute_result"
    },
    {
     "data": {
      "image/png": "[encoded data removed]",
      "text/plain": [
       "<Figure size 640x480 with 1 Axes>"
      ]
     },
     "metadata": {},
     "output_type": "display_data"
    }
   ],
   "source": [
    "RocCurveDisplay.from_predictions(y_test, gnb_preds)"
   ]
  },
  {
   "cell_type": "code",
   "execution_count": 102,
   "id": "68fa9109",
   "metadata": {},
   "outputs": [
    {
     "data": {
      "text/plain": [
       "0.7229704783559121"
      ]
     },
     "execution_count": 102,
     "metadata": {},
     "output_type": "execute_result"
    }
   ],
   "source": [
    "gnb_roc_auc_score = roc_auc_score(y_test, gnb_preds)\n",
    "gnb_roc_auc_score"
   ]
  },
  {
   "cell_type": "code",
   "execution_count": 78,
   "id": "a4488f9e",
   "metadata": {},
   "outputs": [
    {
     "data": {
      "text/html": [
       "<style>#sk-container-id-5 {color: black;background-color: white;}#sk-container-id-5 pre{padding: 0;}#sk-container-id-5 div.sk-toggleable {background-color: white;}#sk-container-id-5 label.sk-toggleable__label {cursor: pointer;display: block;width: 100%;margin-bottom: 0;padding: 0.3em;box-sizing: border-box;text-align: center;}#sk-container-id-5 label.sk-toggleable__label-arrow:before {content: \"▸\";float: left;margin-right: 0.25em;color: #696969;}#sk-container-id-5 label.sk-toggleable__label-arrow:hover:before {color: black;}#sk-container-id-5 div.sk-estimator:hover label.sk-toggleable__label-arrow:before {color: black;}#sk-container-id-5 div.sk-toggleable__content {max-height: 0;max-width: 0;overflow: hidden;text-align: left;background-color: #f0f8ff;}#sk-container-id-5 div.sk-toggleable__content pre {margin: 0.2em;color: black;border-radius: 0.25em;background-color: #f0f8ff;}#sk-container-id-5 input.sk-toggleable__control:checked~div.sk-toggleable__content {max-height: 200px;max-width: 100%;overflow: auto;}#sk-container-id-5 input.sk-toggleable__control:checked~label.sk-toggleable__label-arrow:before {content: \"▾\";}#sk-container-id-5 div.sk-estimator input.sk-toggleable__control:checked~label.sk-toggleable__label {background-color: #d4ebff;}#sk-container-id-5 div.sk-label input.sk-toggleable__control:checked~label.sk-toggleable__label {background-color: #d4ebff;}#sk-container-id-5 input.sk-hidden--visually {border: 0;clip: rect(1px 1px 1px 1px);clip: rect(1px, 1px, 1px, 1px);height: 1px;margin: -1px;overflow: hidden;padding: 0;position: absolute;width: 1px;}#sk-container-id-5 div.sk-estimator {font-family: monospace;background-color: #f0f8ff;border: 1px dotted black;border-radius: 0.25em;box-sizing: border-box;margin-bottom: 0.5em;}#sk-container-id-5 div.sk-estimator:hover {background-color: #d4ebff;}#sk-container-id-5 div.sk-parallel-item::after {content: \"\";width: 100%;border-bottom: 1px solid gray;flex-grow: 1;}#sk-container-id-5 div.sk-label:hover label.sk-toggleable__label {background-color: #d4ebff;}#sk-container-id-5 div.sk-serial::before {content: \"\";position: absolute;border-left: 1px solid gray;box-sizing: border-box;top: 0;bottom: 0;left: 50%;z-index: 0;}#sk-container-id-5 div.sk-serial {display: flex;flex-direction: column;align-items: center;background-color: white;padding-right: 0.2em;padding-left: 0.2em;position: relative;}#sk-container-id-5 div.sk-item {position: relative;z-index: 1;}#sk-container-id-5 div.sk-parallel {display: flex;align-items: stretch;justify-content: center;background-color: white;position: relative;}#sk-container-id-5 div.sk-item::before, #sk-container-id-5 div.sk-parallel-item::before {content: \"\";position: absolute;border-left: 1px solid gray;box-sizing: border-box;top: 0;bottom: 0;left: 50%;z-index: -1;}#sk-container-id-5 div.sk-parallel-item {display: flex;flex-direction: column;z-index: 1;position: relative;background-color: white;}#sk-container-id-5 div.sk-parallel-item:first-child::after {align-self: flex-end;width: 50%;}#sk-container-id-5 div.sk-parallel-item:last-child::after {align-self: flex-start;width: 50%;}#sk-container-id-5 div.sk-parallel-item:only-child::after {width: 0;}#sk-container-id-5 div.sk-dashed-wrapped {border: 1px dashed gray;margin: 0 0.4em 0.5em 0.4em;box-sizing: border-box;padding-bottom: 0.4em;background-color: white;}#sk-container-id-5 div.sk-label label {font-family: monospace;font-weight: bold;display: inline-block;line-height: 1.2em;}#sk-container-id-5 div.sk-label-container {text-align: center;}#sk-container-id-5 div.sk-container {/* jupyter's `normalize.less` sets `[hidden] { display: none; }` but bootstrap.min.css set `[hidden] { display: none !important; }` so we also need the `!important` here to be able to override the default hidden behavior on the sphinx rendered scikit-learn.org. See: https://github.com/scikit-learn/scikit-learn/issues/21755 */display: inline-block !important;position: relative;}#sk-container-id-5 div.sk-text-repr-fallback {display: none;}</style><div id=\"sk-container-id-5\" class=\"sk-top-container\"><div class=\"sk-text-repr-fallback\"><pre>KNeighborsClassifier()</pre><b>In a Jupyter environment, please rerun this cell to show the HTML representation or trust the notebook. <br />On GitHub, the HTML representation is unable to render, please try loading this page with nbviewer.org.</b></div><div class=\"sk-container\" hidden><div class=\"sk-item\"><div class=\"sk-estimator sk-toggleable\"><input class=\"sk-toggleable__control sk-hidden--visually\" id=\"sk-estimator-id-5\" type=\"checkbox\" checked><label for=\"sk-estimator-id-5\" class=\"sk-toggleable__label sk-toggleable__label-arrow\">KNeighborsClassifier</label><div class=\"sk-toggleable__content\"><pre>KNeighborsClassifier()</pre></div></div></div></div></div>"
      ],
      "text/plain": [
       "KNeighborsClassifier()"
      ]
     },
     "execution_count": 78,
     "metadata": {},
     "output_type": "execute_result"
    }
   ],
   "source": [
    "# K - NN\n",
    "\n",
    "from sklearn.preprocessing import MinMaxScaler\n",
    "mm = MinMaxScaler()\n",
    "mm.fit(x_train)\n",
    "tr_xtrain = mm.transform(x_train)\n",
    "tr_xtest = mm.transform(x_test)\n",
    "\n",
    "\n",
    "from sklearn.neighbors import KNeighborsClassifier\n",
    "knn = KNeighborsClassifier()\n",
    "knn.fit(tr_xtrain, y_train)"
   ]
  },
  {
   "cell_type": "code",
   "execution_count": 79,
   "id": "f51ac77c",
   "metadata": {},
   "outputs": [],
   "source": [
    "knn_preds = knn.predict(tr_xtest)"
   ]
  },
  {
   "cell_type": "code",
   "execution_count": 80,
   "id": "0bc76a4f",
   "metadata": {},
   "outputs": [
    {
     "data": {
      "text/plain": [
       "0.8086666666666666"
      ]
     },
     "execution_count": 80,
     "metadata": {},
     "output_type": "execute_result"
    }
   ],
   "source": [
    "accuracy_score(y_test, knn_preds)"
   ]
  },
  {
   "cell_type": "code",
   "execution_count": 81,
   "id": "279ff665",
   "metadata": {},
   "outputs": [
    {
     "name": "stdout",
     "output_type": "stream",
     "text": [
      "              precision    recall  f1-score   support\n",
      "\n",
      "           0       0.76      0.98      0.86      1748\n",
      "           1       0.95      0.57      0.71      1252\n",
      "\n",
      "    accuracy                           0.81      3000\n",
      "   macro avg       0.85      0.78      0.79      3000\n",
      "weighted avg       0.84      0.81      0.80      3000\n",
      "\n"
     ]
    }
   ],
   "source": [
    "print(classification_report(y_test, knn_preds))"
   ]
  },
  {
   "cell_type": "code",
   "execution_count": 82,
   "id": "9f9719a4",
   "metadata": {},
   "outputs": [
    {
     "data": {
      "text/plain": [
       "0.9472295514511874"
      ]
     },
     "execution_count": 82,
     "metadata": {},
     "output_type": "execute_result"
    }
   ],
   "source": [
    "knn_precision = precision_score(y_test, knn_preds)\n",
    "knn_precision"
   ]
  },
  {
   "cell_type": "code",
   "execution_count": 83,
   "id": "de1e561c",
   "metadata": {},
   "outputs": [
    {
     "data": {
      "text/plain": [
       "0.5734824281150159"
      ]
     },
     "execution_count": 83,
     "metadata": {},
     "output_type": "execute_result"
    }
   ],
   "source": [
    "knn_recall = recall_score(y_test, knn_preds)\n",
    "knn_recall"
   ]
  },
  {
   "cell_type": "code",
   "execution_count": 84,
   "id": "1751bfdd",
   "metadata": {},
   "outputs": [
    {
     "data": {
      "text/plain": [
       "0.7144278606965174"
      ]
     },
     "execution_count": 84,
     "metadata": {},
     "output_type": "execute_result"
    }
   ],
   "source": [
    "knn_f1 = f1_score(y_test, knn_preds)\n",
    "knn_f1"
   ]
  },
  {
   "cell_type": "code",
   "execution_count": 85,
   "id": "88d0995c",
   "metadata": {},
   "outputs": [
    {
     "data": {
      "text/plain": [
       "array([[1708,   40],\n",
       "       [ 534,  718]], dtype=int64)"
      ]
     },
     "execution_count": 85,
     "metadata": {},
     "output_type": "execute_result"
    }
   ],
   "source": [
    "knn_confusion_matrix = confusion_matrix(y_test, knn_preds)\n",
    "knn_confusion_matrix"
   ]
  },
  {
   "cell_type": "code",
   "execution_count": 86,
   "id": "abaa280e",
   "metadata": {},
   "outputs": [
    {
     "data": {
      "text/plain": [
       "<sklearn.metrics._plot.confusion_matrix.ConfusionMatrixDisplay at 0x29e967c6950>"
      ]
     },
     "execution_count": 86,
     "metadata": {},
     "output_type": "execute_result"
    },
    {
     "data": {
      "image/png": "[encoded data removed]",
      "text/plain": [
       "<Figure size 640x480 with 2 Axes>"
      ]
     },
     "metadata": {},
     "output_type": "display_data"
    }
   ],
   "source": [
    "knn_cm_disp = ConfusionMatrixDisplay(confusion_matrix = knn_confusion_matrix)\n",
    "knn_cm_disp.plot()"
   ]
  },
  {
   "cell_type": "code",
   "execution_count": 87,
   "id": "60632c25",
   "metadata": {},
   "outputs": [
    {
     "data": {
      "text/plain": [
       "<sklearn.metrics._plot.roc_curve.RocCurveDisplay at 0x29e967ab460>"
      ]
     },
     "execution_count": 87,
     "metadata": {},
     "output_type": "execute_result"
    },
    {
     "data": {
      "image/png": "[encoded data removed]",
      "text/plain": [
       "<Figure size 640x480 with 1 Axes>"
      ]
     },
     "metadata": {},
     "output_type": "display_data"
    }
   ],
   "source": [
    "RocCurveDisplay.from_predictions(y_test, knn_preds)"
   ]
  },
  {
   "cell_type": "code",
   "execution_count": 103,
   "id": "85c22bfd",
   "metadata": {},
   "outputs": [
    {
     "data": {
      "text/plain": [
       "0.775299566460254"
      ]
     },
     "execution_count": 103,
     "metadata": {},
     "output_type": "execute_result"
    }
   ],
   "source": [
    "knn_roc_auc_score = roc_auc_score(y_test, knn_preds)\n",
    "knn_roc_auc_score"
   ]
  },
  {
   "cell_type": "code",
   "execution_count": 90,
   "id": "e01f81bd",
   "metadata": {},
   "outputs": [
    {
     "data": {
      "text/html": [
       "<style>#sk-container-id-7 {color: black;background-color: white;}#sk-container-id-7 pre{padding: 0;}#sk-container-id-7 div.sk-toggleable {background-color: white;}#sk-container-id-7 label.sk-toggleable__label {cursor: pointer;display: block;width: 100%;margin-bottom: 0;padding: 0.3em;box-sizing: border-box;text-align: center;}#sk-container-id-7 label.sk-toggleable__label-arrow:before {content: \"▸\";float: left;margin-right: 0.25em;color: #696969;}#sk-container-id-7 label.sk-toggleable__label-arrow:hover:before {color: black;}#sk-container-id-7 div.sk-estimator:hover label.sk-toggleable__label-arrow:before {color: black;}#sk-container-id-7 div.sk-toggleable__content {max-height: 0;max-width: 0;overflow: hidden;text-align: left;background-color: #f0f8ff;}#sk-container-id-7 div.sk-toggleable__content pre {margin: 0.2em;color: black;border-radius: 0.25em;background-color: #f0f8ff;}#sk-container-id-7 input.sk-toggleable__control:checked~div.sk-toggleable__content {max-height: 200px;max-width: 100%;overflow: auto;}#sk-container-id-7 input.sk-toggleable__control:checked~label.sk-toggleable__label-arrow:before {content: \"▾\";}#sk-container-id-7 div.sk-estimator input.sk-toggleable__control:checked~label.sk-toggleable__label {background-color: #d4ebff;}#sk-container-id-7 div.sk-label input.sk-toggleable__control:checked~label.sk-toggleable__label {background-color: #d4ebff;}#sk-container-id-7 input.sk-hidden--visually {border: 0;clip: rect(1px 1px 1px 1px);clip: rect(1px, 1px, 1px, 1px);height: 1px;margin: -1px;overflow: hidden;padding: 0;position: absolute;width: 1px;}#sk-container-id-7 div.sk-estimator {font-family: monospace;background-color: #f0f8ff;border: 1px dotted black;border-radius: 0.25em;box-sizing: border-box;margin-bottom: 0.5em;}#sk-container-id-7 div.sk-estimator:hover {background-color: #d4ebff;}#sk-container-id-7 div.sk-parallel-item::after {content: \"\";width: 100%;border-bottom: 1px solid gray;flex-grow: 1;}#sk-container-id-7 div.sk-label:hover label.sk-toggleable__label {background-color: #d4ebff;}#sk-container-id-7 div.sk-serial::before {content: \"\";position: absolute;border-left: 1px solid gray;box-sizing: border-box;top: 0;bottom: 0;left: 50%;z-index: 0;}#sk-container-id-7 div.sk-serial {display: flex;flex-direction: column;align-items: center;background-color: white;padding-right: 0.2em;padding-left: 0.2em;position: relative;}#sk-container-id-7 div.sk-item {position: relative;z-index: 1;}#sk-container-id-7 div.sk-parallel {display: flex;align-items: stretch;justify-content: center;background-color: white;position: relative;}#sk-container-id-7 div.sk-item::before, #sk-container-id-7 div.sk-parallel-item::before {content: \"\";position: absolute;border-left: 1px solid gray;box-sizing: border-box;top: 0;bottom: 0;left: 50%;z-index: -1;}#sk-container-id-7 div.sk-parallel-item {display: flex;flex-direction: column;z-index: 1;position: relative;background-color: white;}#sk-container-id-7 div.sk-parallel-item:first-child::after {align-self: flex-end;width: 50%;}#sk-container-id-7 div.sk-parallel-item:last-child::after {align-self: flex-start;width: 50%;}#sk-container-id-7 div.sk-parallel-item:only-child::after {width: 0;}#sk-container-id-7 div.sk-dashed-wrapped {border: 1px dashed gray;margin: 0 0.4em 0.5em 0.4em;box-sizing: border-box;padding-bottom: 0.4em;background-color: white;}#sk-container-id-7 div.sk-label label {font-family: monospace;font-weight: bold;display: inline-block;line-height: 1.2em;}#sk-container-id-7 div.sk-label-container {text-align: center;}#sk-container-id-7 div.sk-container {/* jupyter's `normalize.less` sets `[hidden] { display: none; }` but bootstrap.min.css set `[hidden] { display: none !important; }` so we also need the `!important` here to be able to override the default hidden behavior on the sphinx rendered scikit-learn.org. See: https://github.com/scikit-learn/scikit-learn/issues/21755 */display: inline-block !important;position: relative;}#sk-container-id-7 div.sk-text-repr-fallback {display: none;}</style><div id=\"sk-container-id-7\" class=\"sk-top-container\"><div class=\"sk-text-repr-fallback\"><pre>SVC()</pre><b>In a Jupyter environment, please rerun this cell to show the HTML representation or trust the notebook. <br />On GitHub, the HTML representation is unable to render, please try loading this page with nbviewer.org.</b></div><div class=\"sk-container\" hidden><div class=\"sk-item\"><div class=\"sk-estimator sk-toggleable\"><input class=\"sk-toggleable__control sk-hidden--visually\" id=\"sk-estimator-id-7\" type=\"checkbox\" checked><label for=\"sk-estimator-id-7\" class=\"sk-toggleable__label sk-toggleable__label-arrow\">SVC</label><div class=\"sk-toggleable__content\"><pre>SVC()</pre></div></div></div></div></div>"
      ],
      "text/plain": [
       "SVC()"
      ]
     },
     "execution_count": 90,
     "metadata": {},
     "output_type": "execute_result"
    }
   ],
   "source": [
    "# SVM\n",
    "\n",
    "from sklearn.preprocessing import MinMaxScaler\n",
    "mm = MinMaxScaler()\n",
    "mm.fit(x_train)\n",
    "tr_xtrain = mm.transform(x_train)\n",
    "tr_xtest = mm.transform(x_test)\n",
    "\n",
    "from sklearn.svm import SVC\n",
    "sv = SVC()\n",
    "sv.fit(tr_xtrain, y_train)"
   ]
  },
  {
   "cell_type": "code",
   "execution_count": 91,
   "id": "dae18d02",
   "metadata": {},
   "outputs": [],
   "source": [
    "sv_preds = sv.predict(tr_xtest)"
   ]
  },
  {
   "cell_type": "code",
   "execution_count": 92,
   "id": "9b7413e5",
   "metadata": {},
   "outputs": [
    {
     "data": {
      "text/plain": [
       "0.912"
      ]
     },
     "execution_count": 92,
     "metadata": {},
     "output_type": "execute_result"
    }
   ],
   "source": [
    "accuracy_score(y_test, sv_preds)"
   ]
  },
  {
   "cell_type": "code",
   "execution_count": 93,
   "id": "735d5bfb",
   "metadata": {},
   "outputs": [
    {
     "name": "stdout",
     "output_type": "stream",
     "text": [
      "              precision    recall  f1-score   support\n",
      "\n",
      "           0       0.89      0.96      0.93      1748\n",
      "           1       0.94      0.84      0.89      1252\n",
      "\n",
      "    accuracy                           0.91      3000\n",
      "   macro avg       0.92      0.90      0.91      3000\n",
      "weighted avg       0.91      0.91      0.91      3000\n",
      "\n"
     ]
    }
   ],
   "source": [
    "print(classification_report(y_test, sv_preds))"
   ]
  },
  {
   "cell_type": "code",
   "execution_count": 94,
   "id": "f52df3e9",
   "metadata": {},
   "outputs": [
    {
     "data": {
      "text/plain": [
       "0.9410714285714286"
      ]
     },
     "execution_count": 94,
     "metadata": {},
     "output_type": "execute_result"
    }
   ],
   "source": [
    "sv_precision = precision_score(y_test, sv_preds)\n",
    "sv_precision"
   ]
  },
  {
   "cell_type": "code",
   "execution_count": 95,
   "id": "3d0ee570",
   "metadata": {},
   "outputs": [
    {
     "data": {
      "text/plain": [
       "0.84185303514377"
      ]
     },
     "execution_count": 95,
     "metadata": {},
     "output_type": "execute_result"
    }
   ],
   "source": [
    "sv_recall = recall_score(y_test, sv_preds)\n",
    "sv_recall"
   ]
  },
  {
   "cell_type": "code",
   "execution_count": 96,
   "id": "645b123b",
   "metadata": {},
   "outputs": [
    {
     "data": {
      "text/plain": [
       "0.8887015177065766"
      ]
     },
     "execution_count": 96,
     "metadata": {},
     "output_type": "execute_result"
    }
   ],
   "source": [
    "sv_f1 = f1_score(y_test, sv_preds)\n",
    "sv_f1"
   ]
  },
  {
   "cell_type": "code",
   "execution_count": 97,
   "id": "d2efbdb7",
   "metadata": {},
   "outputs": [
    {
     "data": {
      "text/plain": [
       "array([[1682,   66],\n",
       "       [ 198, 1054]], dtype=int64)"
      ]
     },
     "execution_count": 97,
     "metadata": {},
     "output_type": "execute_result"
    }
   ],
   "source": [
    "sv_confusion_matrix = confusion_matrix(y_test, sv_preds)\n",
    "sv_confusion_matrix"
   ]
  },
  {
   "cell_type": "code",
   "execution_count": 98,
   "id": "9a7a97e5",
   "metadata": {},
   "outputs": [
    {
     "data": {
      "text/plain": [
       "<sklearn.metrics._plot.confusion_matrix.ConfusionMatrixDisplay at 0x29ef1fe03d0>"
      ]
     },
     "execution_count": 98,
     "metadata": {},
     "output_type": "execute_result"
    },
    {
     "data": {
      "image/png": "[encoded data removed]",
      "text/plain": [
       "<Figure size 640x480 with 2 Axes>"
      ]
     },
     "metadata": {},
     "output_type": "display_data"
    }
   ],
   "source": [
    "sv_cm_disp = ConfusionMatrixDisplay(confusion_matrix = sv_confusion_matrix)\n",
    "sv_cm_disp.plot()"
   ]
  },
  {
   "cell_type": "code",
   "execution_count": 99,
   "id": "34b8a1e4",
   "metadata": {},
   "outputs": [
    {
     "data": {
      "text/plain": [
       "<sklearn.metrics._plot.roc_curve.RocCurveDisplay at 0x29e966416c0>"
      ]
     },
     "execution_count": 99,
     "metadata": {},
     "output_type": "execute_result"
    },
    {
     "data": {
      "image/png": "[encoded data removed]",
      "text/plain": [
       "<Figure size 640x480 with 1 Axes>"
      ]
     },
     "metadata": {},
     "output_type": "display_data"
    }
   ],
   "source": [
    "RocCurveDisplay.from_predictions(y_test, sv_preds)"
   ]
  },
  {
   "cell_type": "code",
   "execution_count": 104,
   "id": "d5126cd0",
   "metadata": {},
   "outputs": [
    {
     "data": {
      "text/plain": [
       "0.9020477990364159"
      ]
     },
     "execution_count": 104,
     "metadata": {},
     "output_type": "execute_result"
    }
   ],
   "source": [
    "sv_roc_auc_score = roc_auc_score(y_test, sv_preds)\n",
    "sv_roc_auc_score"
   ]
  },
  {
   "cell_type": "code",
   "execution_count": 107,
   "id": "a2c13b53",
   "metadata": {},
   "outputs": [
    {
     "data": {
      "image/png": "[encoded data removed]",
      "text/plain": [
       "<Figure size 640x480 with 1 Axes>"
      ]
     },
     "metadata": {},
     "output_type": "display_data"
    }
   ],
   "source": [
    "# Comparative ROC Curve for 5 models\n",
    "\n",
    "from sklearn.metrics import roc_curve\n",
    " \n",
    "fpr1 , tpr1, thresholds1 = roc_curve(y_test, dt_preds)\n",
    "\n",
    "fpr2 , tpr2, thresholds2 = roc_curve(y_test, rf_preds)\n",
    "\n",
    "fpr3 , tpr3, thresholds3 = roc_curve(y_test, gnb_preds)\n",
    "\n",
    "fpr4 , tpr4, thresholds4 = roc_curve(y_test, knn_preds)\n",
    "\n",
    "fpr5 , tpr5, thresholds5 = roc_curve(y_test, sv_preds)\n",
    "\n",
    "\n",
    "\n",
    "plt.plot([0,1],[0,1])\n",
    "plt.plot(fpr1, tpr1, label= \"Decision Tree\")\n",
    "plt.plot(fpr2, tpr2, label= \"Random Forest\")\n",
    "plt.plot(fpr3, tpr3, label= \"KNN\")\n",
    "plt.plot(fpr4, tpr4, label= \"Naive Bayes\")\n",
    "plt.plot(fpr5, tpr5, label= \"SVM\")\n",
    "plt.legend()\n",
    "plt.xlabel(\"FalsePositiveRate\")\n",
    "plt.ylabel(\"TruePositiveRate\")\n",
    "plt.title('Comaparative Receiver Operating Characteristic')\n",
    "plt.show()"
   ]
  },
  {
   "cell_type": "code",
   "execution_count": 108,
   "id": "3b98a0cf",
   "metadata": {},
   "outputs": [
    {
     "data": {
      "text/html": [
       "<style>#sk-container-id-8 {color: black;background-color: white;}#sk-container-id-8 pre{padding: 0;}#sk-container-id-8 div.sk-toggleable {background-color: white;}#sk-container-id-8 label.sk-toggleable__label {cursor: pointer;display: block;width: 100%;margin-bottom: 0;padding: 0.3em;box-sizing: border-box;text-align: center;}#sk-container-id-8 label.sk-toggleable__label-arrow:before {content: \"▸\";float: left;margin-right: 0.25em;color: #696969;}#sk-container-id-8 label.sk-toggleable__label-arrow:hover:before {color: black;}#sk-container-id-8 div.sk-estimator:hover label.sk-toggleable__label-arrow:before {color: black;}#sk-container-id-8 div.sk-toggleable__content {max-height: 0;max-width: 0;overflow: hidden;text-align: left;background-color: #f0f8ff;}#sk-container-id-8 div.sk-toggleable__content pre {margin: 0.2em;color: black;border-radius: 0.25em;background-color: #f0f8ff;}#sk-container-id-8 input.sk-toggleable__control:checked~div.sk-toggleable__content {max-height: 200px;max-width: 100%;overflow: auto;}#sk-container-id-8 input.sk-toggleable__control:checked~label.sk-toggleable__label-arrow:before {content: \"▾\";}#sk-container-id-8 div.sk-estimator input.sk-toggleable__control:checked~label.sk-toggleable__label {background-color: #d4ebff;}#sk-container-id-8 div.sk-label input.sk-toggleable__control:checked~label.sk-toggleable__label {background-color: #d4ebff;}#sk-container-id-8 input.sk-hidden--visually {border: 0;clip: rect(1px 1px 1px 1px);clip: rect(1px, 1px, 1px, 1px);height: 1px;margin: -1px;overflow: hidden;padding: 0;position: absolute;width: 1px;}#sk-container-id-8 div.sk-estimator {font-family: monospace;background-color: #f0f8ff;border: 1px dotted black;border-radius: 0.25em;box-sizing: border-box;margin-bottom: 0.5em;}#sk-container-id-8 div.sk-estimator:hover {background-color: #d4ebff;}#sk-container-id-8 div.sk-parallel-item::after {content: \"\";width: 100%;border-bottom: 1px solid gray;flex-grow: 1;}#sk-container-id-8 div.sk-label:hover label.sk-toggleable__label {background-color: #d4ebff;}#sk-container-id-8 div.sk-serial::before {content: \"\";position: absolute;border-left: 1px solid gray;box-sizing: border-box;top: 0;bottom: 0;left: 50%;z-index: 0;}#sk-container-id-8 div.sk-serial {display: flex;flex-direction: column;align-items: center;background-color: white;padding-right: 0.2em;padding-left: 0.2em;position: relative;}#sk-container-id-8 div.sk-item {position: relative;z-index: 1;}#sk-container-id-8 div.sk-parallel {display: flex;align-items: stretch;justify-content: center;background-color: white;position: relative;}#sk-container-id-8 div.sk-item::before, #sk-container-id-8 div.sk-parallel-item::before {content: \"\";position: absolute;border-left: 1px solid gray;box-sizing: border-box;top: 0;bottom: 0;left: 50%;z-index: -1;}#sk-container-id-8 div.sk-parallel-item {display: flex;flex-direction: column;z-index: 1;position: relative;background-color: white;}#sk-container-id-8 div.sk-parallel-item:first-child::after {align-self: flex-end;width: 50%;}#sk-container-id-8 div.sk-parallel-item:last-child::after {align-self: flex-start;width: 50%;}#sk-container-id-8 div.sk-parallel-item:only-child::after {width: 0;}#sk-container-id-8 div.sk-dashed-wrapped {border: 1px dashed gray;margin: 0 0.4em 0.5em 0.4em;box-sizing: border-box;padding-bottom: 0.4em;background-color: white;}#sk-container-id-8 div.sk-label label {font-family: monospace;font-weight: bold;display: inline-block;line-height: 1.2em;}#sk-container-id-8 div.sk-label-container {text-align: center;}#sk-container-id-8 div.sk-container {/* jupyter's `normalize.less` sets `[hidden] { display: none; }` but bootstrap.min.css set `[hidden] { display: none !important; }` so we also need the `!important` here to be able to override the default hidden behavior on the sphinx rendered scikit-learn.org. See: https://github.com/scikit-learn/scikit-learn/issues/21755 */display: inline-block !important;position: relative;}#sk-container-id-8 div.sk-text-repr-fallback {display: none;}</style><div id=\"sk-container-id-8\" class=\"sk-top-container\"><div class=\"sk-text-repr-fallback\"><pre>RandomizedSearchCV(cv=StratifiedKFold(n_splits=5, random_state=None, shuffle=False),\n",
       "                   estimator=DecisionTreeClassifier(random_state=1),\n",
       "                   param_distributions={&#x27;criterion&#x27;: [&#x27;gini&#x27;, &#x27;entropy&#x27;],\n",
       "                                        &#x27;max_depth&#x27;: range(5, 10),\n",
       "                                        &#x27;max_features&#x27;: [None, &#x27;sqrt&#x27;],\n",
       "                                        &#x27;min_samples_split&#x27;: [10, 20],\n",
       "                                        &#x27;splitter&#x27;: [&#x27;best&#x27;, &#x27;random&#x27;]},\n",
       "                   scoring=&#x27;accuracy&#x27;)</pre><b>In a Jupyter environment, please rerun this cell to show the HTML representation or trust the notebook. <br />On GitHub, the HTML representation is unable to render, please try loading this page with nbviewer.org.</b></div><div class=\"sk-container\" hidden><div class=\"sk-item sk-dashed-wrapped\"><div class=\"sk-label-container\"><div class=\"sk-label sk-toggleable\"><input class=\"sk-toggleable__control sk-hidden--visually\" id=\"sk-estimator-id-8\" type=\"checkbox\" ><label for=\"sk-estimator-id-8\" class=\"sk-toggleable__label sk-toggleable__label-arrow\">RandomizedSearchCV</label><div class=\"sk-toggleable__content\"><pre>RandomizedSearchCV(cv=StratifiedKFold(n_splits=5, random_state=None, shuffle=False),\n",
       "                   estimator=DecisionTreeClassifier(random_state=1),\n",
       "                   param_distributions={&#x27;criterion&#x27;: [&#x27;gini&#x27;, &#x27;entropy&#x27;],\n",
       "                                        &#x27;max_depth&#x27;: range(5, 10),\n",
       "                                        &#x27;max_features&#x27;: [None, &#x27;sqrt&#x27;],\n",
       "                                        &#x27;min_samples_split&#x27;: [10, 20],\n",
       "                                        &#x27;splitter&#x27;: [&#x27;best&#x27;, &#x27;random&#x27;]},\n",
       "                   scoring=&#x27;accuracy&#x27;)</pre></div></div></div><div class=\"sk-parallel\"><div class=\"sk-parallel-item\"><div class=\"sk-item\"><div class=\"sk-label-container\"><div class=\"sk-label sk-toggleable\"><input class=\"sk-toggleable__control sk-hidden--visually\" id=\"sk-estimator-id-9\" type=\"checkbox\" ><label for=\"sk-estimator-id-9\" class=\"sk-toggleable__label sk-toggleable__label-arrow\">estimator: DecisionTreeClassifier</label><div class=\"sk-toggleable__content\"><pre>DecisionTreeClassifier(random_state=1)</pre></div></div></div><div class=\"sk-serial\"><div class=\"sk-item\"><div class=\"sk-estimator sk-toggleable\"><input class=\"sk-toggleable__control sk-hidden--visually\" id=\"sk-estimator-id-10\" type=\"checkbox\" ><label for=\"sk-estimator-id-10\" class=\"sk-toggleable__label sk-toggleable__label-arrow\">DecisionTreeClassifier</label><div class=\"sk-toggleable__content\"><pre>DecisionTreeClassifier(random_state=1)</pre></div></div></div></div></div></div></div></div></div></div>"
      ],
      "text/plain": [
       "RandomizedSearchCV(cv=StratifiedKFold(n_splits=5, random_state=None, shuffle=False),\n",
       "                   estimator=DecisionTreeClassifier(random_state=1),\n",
       "                   param_distributions={'criterion': ['gini', 'entropy'],\n",
       "                                        'max_depth': range(5, 10),\n",
       "                                        'max_features': [None, 'sqrt'],\n",
       "                                        'min_samples_split': [10, 20],\n",
       "                                        'splitter': ['best', 'random']},\n",
       "                   scoring='accuracy')"
      ]
     },
     "execution_count": 108,
     "metadata": {},
     "output_type": "execute_result"
    }
   ],
   "source": [
    "#DecisionTree: Pre-Pruning\n",
    "from sklearn.tree import DecisionTreeClassifier\n",
    "model =  DecisionTreeClassifier(random_state=1)\n",
    "\n",
    "params = {'criterion':['gini','entropy'],\n",
    "          'splitter':['best','random'],\n",
    "          'max_depth':range(5,10),\n",
    "          'min_samples_split':[10,20],\n",
    "          'max_features':[None, 'sqrt'],\n",
    "          }\n",
    "\n",
    "\n",
    "from sklearn.model_selection import RandomizedSearchCV, StratifiedKFold\n",
    "skf = StratifiedKFold(n_splits = 5)\n",
    "\n",
    "rcv = RandomizedSearchCV(model, param_distributions = params, cv = skf, scoring = 'accuracy')\n",
    "rcv.fit(x_train, y_train)"
   ]
  },
  {
   "cell_type": "code",
   "execution_count": 109,
   "id": "b9341cf8",
   "metadata": {},
   "outputs": [
    {
     "data": {
      "text/plain": [
       "0.8924285714285715"
      ]
     },
     "execution_count": 109,
     "metadata": {},
     "output_type": "execute_result"
    }
   ],
   "source": [
    "rcv.best_score_"
   ]
  },
  {
   "cell_type": "code",
   "execution_count": 110,
   "id": "9e1d0ae6",
   "metadata": {},
   "outputs": [
    {
     "data": {
      "text/plain": [
       "{'splitter': 'best',\n",
       " 'min_samples_split': 10,\n",
       " 'max_features': None,\n",
       " 'max_depth': 9,\n",
       " 'criterion': 'gini'}"
      ]
     },
     "execution_count": 110,
     "metadata": {},
     "output_type": "execute_result"
    }
   ],
   "source": [
    "rcv.best_params_"
   ]
  },
  {
   "cell_type": "code",
   "execution_count": 146,
   "id": "b2663126",
   "metadata": {},
   "outputs": [
    {
     "data": {
      "text/html": [
       "<style>#sk-container-id-17 {color: black;background-color: white;}#sk-container-id-17 pre{padding: 0;}#sk-container-id-17 div.sk-toggleable {background-color: white;}#sk-container-id-17 label.sk-toggleable__label {cursor: pointer;display: block;width: 100%;margin-bottom: 0;padding: 0.3em;box-sizing: border-box;text-align: center;}#sk-container-id-17 label.sk-toggleable__label-arrow:before {content: \"▸\";float: left;margin-right: 0.25em;color: #696969;}#sk-container-id-17 label.sk-toggleable__label-arrow:hover:before {color: black;}#sk-container-id-17 div.sk-estimator:hover label.sk-toggleable__label-arrow:before {color: black;}#sk-container-id-17 div.sk-toggleable__content {max-height: 0;max-width: 0;overflow: hidden;text-align: left;background-color: #f0f8ff;}#sk-container-id-17 div.sk-toggleable__content pre {margin: 0.2em;color: black;border-radius: 0.25em;background-color: #f0f8ff;}#sk-container-id-17 input.sk-toggleable__control:checked~div.sk-toggleable__content {max-height: 200px;max-width: 100%;overflow: auto;}#sk-container-id-17 input.sk-toggleable__control:checked~label.sk-toggleable__label-arrow:before {content: \"▾\";}#sk-container-id-17 div.sk-estimator input.sk-toggleable__control:checked~label.sk-toggleable__label {background-color: #d4ebff;}#sk-container-id-17 div.sk-label input.sk-toggleable__control:checked~label.sk-toggleable__label {background-color: #d4ebff;}#sk-container-id-17 input.sk-hidden--visually {border: 0;clip: rect(1px 1px 1px 1px);clip: rect(1px, 1px, 1px, 1px);height: 1px;margin: -1px;overflow: hidden;padding: 0;position: absolute;width: 1px;}#sk-container-id-17 div.sk-estimator {font-family: monospace;background-color: #f0f8ff;border: 1px dotted black;border-radius: 0.25em;box-sizing: border-box;margin-bottom: 0.5em;}#sk-container-id-17 div.sk-estimator:hover {background-color: #d4ebff;}#sk-container-id-17 div.sk-parallel-item::after {content: \"\";width: 100%;border-bottom: 1px solid gray;flex-grow: 1;}#sk-container-id-17 div.sk-label:hover label.sk-toggleable__label {background-color: #d4ebff;}#sk-container-id-17 div.sk-serial::before {content: \"\";position: absolute;border-left: 1px solid gray;box-sizing: border-box;top: 0;bottom: 0;left: 50%;z-index: 0;}#sk-container-id-17 div.sk-serial {display: flex;flex-direction: column;align-items: center;background-color: white;padding-right: 0.2em;padding-left: 0.2em;position: relative;}#sk-container-id-17 div.sk-item {position: relative;z-index: 1;}#sk-container-id-17 div.sk-parallel {display: flex;align-items: stretch;justify-content: center;background-color: white;position: relative;}#sk-container-id-17 div.sk-item::before, #sk-container-id-17 div.sk-parallel-item::before {content: \"\";position: absolute;border-left: 1px solid gray;box-sizing: border-box;top: 0;bottom: 0;left: 50%;z-index: -1;}#sk-container-id-17 div.sk-parallel-item {display: flex;flex-direction: column;z-index: 1;position: relative;background-color: white;}#sk-container-id-17 div.sk-parallel-item:first-child::after {align-self: flex-end;width: 50%;}#sk-container-id-17 div.sk-parallel-item:last-child::after {align-self: flex-start;width: 50%;}#sk-container-id-17 div.sk-parallel-item:only-child::after {width: 0;}#sk-container-id-17 div.sk-dashed-wrapped {border: 1px dashed gray;margin: 0 0.4em 0.5em 0.4em;box-sizing: border-box;padding-bottom: 0.4em;background-color: white;}#sk-container-id-17 div.sk-label label {font-family: monospace;font-weight: bold;display: inline-block;line-height: 1.2em;}#sk-container-id-17 div.sk-label-container {text-align: center;}#sk-container-id-17 div.sk-container {/* jupyter's `normalize.less` sets `[hidden] { display: none; }` but bootstrap.min.css set `[hidden] { display: none !important; }` so we also need the `!important` here to be able to override the default hidden behavior on the sphinx rendered scikit-learn.org. See: https://github.com/scikit-learn/scikit-learn/issues/21755 */display: inline-block !important;position: relative;}#sk-container-id-17 div.sk-text-repr-fallback {display: none;}</style><div id=\"sk-container-id-17\" class=\"sk-top-container\"><div class=\"sk-text-repr-fallback\"><pre>GridSearchCV(cv=StratifiedKFold(n_splits=5, random_state=None, shuffle=False),\n",
       "             estimator=Pipeline(steps=[(&#x27;mm&#x27;, MinMaxScaler()),\n",
       "                                       (&#x27;model&#x27;, KNeighborsClassifier())]),\n",
       "             param_grid={&#x27;model__n_neighbors&#x27;: [5, 7, 11, 19],\n",
       "                         &#x27;model__weights&#x27;: [&#x27;uniform&#x27;, &#x27;distance&#x27;]},\n",
       "             scoring=&#x27;accuracy&#x27;)</pre><b>In a Jupyter environment, please rerun this cell to show the HTML representation or trust the notebook. <br />On GitHub, the HTML representation is unable to render, please try loading this page with nbviewer.org.</b></div><div class=\"sk-container\" hidden><div class=\"sk-item sk-dashed-wrapped\"><div class=\"sk-label-container\"><div class=\"sk-label sk-toggleable\"><input class=\"sk-toggleable__control sk-hidden--visually\" id=\"sk-estimator-id-40\" type=\"checkbox\" ><label for=\"sk-estimator-id-40\" class=\"sk-toggleable__label sk-toggleable__label-arrow\">GridSearchCV</label><div class=\"sk-toggleable__content\"><pre>GridSearchCV(cv=StratifiedKFold(n_splits=5, random_state=None, shuffle=False),\n",
       "             estimator=Pipeline(steps=[(&#x27;mm&#x27;, MinMaxScaler()),\n",
       "                                       (&#x27;model&#x27;, KNeighborsClassifier())]),\n",
       "             param_grid={&#x27;model__n_neighbors&#x27;: [5, 7, 11, 19],\n",
       "                         &#x27;model__weights&#x27;: [&#x27;uniform&#x27;, &#x27;distance&#x27;]},\n",
       "             scoring=&#x27;accuracy&#x27;)</pre></div></div></div><div class=\"sk-parallel\"><div class=\"sk-parallel-item\"><div class=\"sk-item\"><div class=\"sk-label-container\"><div class=\"sk-label sk-toggleable\"><input class=\"sk-toggleable__control sk-hidden--visually\" id=\"sk-estimator-id-41\" type=\"checkbox\" ><label for=\"sk-estimator-id-41\" class=\"sk-toggleable__label sk-toggleable__label-arrow\">estimator: Pipeline</label><div class=\"sk-toggleable__content\"><pre>Pipeline(steps=[(&#x27;mm&#x27;, MinMaxScaler()), (&#x27;model&#x27;, KNeighborsClassifier())])</pre></div></div></div><div class=\"sk-serial\"><div class=\"sk-item\"><div class=\"sk-serial\"><div class=\"sk-item\"><div class=\"sk-estimator sk-toggleable\"><input class=\"sk-toggleable__control sk-hidden--visually\" id=\"sk-estimator-id-42\" type=\"checkbox\" ><label for=\"sk-estimator-id-42\" class=\"sk-toggleable__label sk-toggleable__label-arrow\">MinMaxScaler</label><div class=\"sk-toggleable__content\"><pre>MinMaxScaler()</pre></div></div></div><div class=\"sk-item\"><div class=\"sk-estimator sk-toggleable\"><input class=\"sk-toggleable__control sk-hidden--visually\" id=\"sk-estimator-id-43\" type=\"checkbox\" ><label for=\"sk-estimator-id-43\" class=\"sk-toggleable__label sk-toggleable__label-arrow\">KNeighborsClassifier</label><div class=\"sk-toggleable__content\"><pre>KNeighborsClassifier()</pre></div></div></div></div></div></div></div></div></div></div></div></div>"
      ],
      "text/plain": [
       "GridSearchCV(cv=StratifiedKFold(n_splits=5, random_state=None, shuffle=False),\n",
       "             estimator=Pipeline(steps=[('mm', MinMaxScaler()),\n",
       "                                       ('model', KNeighborsClassifier())]),\n",
       "             param_grid={'model__n_neighbors': [5, 7, 11, 19],\n",
       "                         'model__weights': ['uniform', 'distance']},\n",
       "             scoring='accuracy')"
      ]
     },
     "execution_count": 146,
     "metadata": {},
     "output_type": "execute_result"
    }
   ],
   "source": [
    "#KNN - Tuning\n",
    "\n",
    "from sklearn.pipeline import Pipeline\n",
    "\n",
    "mysteps = [('mm', MinMaxScaler()), ('model', KNeighborsClassifier())]\n",
    "\n",
    "mypipe = Pipeline(steps = mysteps )\n",
    "\n",
    "params = {'model__n_neighbors':[5,7,11,19],\n",
    "         'model__weights':['uniform','distance']}\n",
    "\n",
    "skf = StratifiedKFold(n_splits = 5)\n",
    "\n",
    "from sklearn.model_selection import GridSearchCV\n",
    "model = KNeighborsClassifier()\n",
    "\n",
    "gcv = GridSearchCV(mypipe, param_grid = params, cv = skf,scoring = 'accuracy')\n",
    "gcv.fit(x_train, y_train)"
   ]
  },
  {
   "cell_type": "code",
   "execution_count": 147,
   "id": "f8ed82ca",
   "metadata": {},
   "outputs": [
    {
     "data": {
      "text/plain": [
       "0.805"
      ]
     },
     "execution_count": 147,
     "metadata": {},
     "output_type": "execute_result"
    }
   ],
   "source": [
    "gcv.best_score_"
   ]
  },
  {
   "cell_type": "code",
   "execution_count": 148,
   "id": "1f35ec5c",
   "metadata": {},
   "outputs": [
    {
     "data": {
      "text/plain": [
       "{'model__n_neighbors': 5, 'model__weights': 'distance'}"
      ]
     },
     "execution_count": 148,
     "metadata": {},
     "output_type": "execute_result"
    }
   ],
   "source": [
    "gcv.best_params_"
   ]
  },
  {
   "cell_type": "code",
   "execution_count": 152,
   "id": "0b78870f",
   "metadata": {},
   "outputs": [],
   "source": [
    "dt2 = DecisionTreeClassifier(splitter= 'best', min_samples_split= 10,max_features= None,max_depth= 9,criterion= 'gini')\n",
    "dt2.fit(x_train, y_train)\n",
    "\n",
    "dt2_preds = dt2.predict(tr_xtest)\n",
    "\n",
    "#----------------------------------------------------\n",
    "\n",
    "mm = MinMaxScaler()\n",
    "mm.fit(x_train)\n",
    "tr_xtrain = mm.transform(x_train)\n",
    "tr_xtest = mm.transform(x_test)\n",
    "\n",
    "\n",
    "from sklearn.neighbors import KNeighborsClassifier\n",
    "knn2 = KNeighborsClassifier(n_neighbors= 5, weights='distance')\n",
    "knn2.fit(tr_xtrain, y_train)\n",
    "\n",
    "knn2_preds = knn2.predict(tr_xtest)"
   ]
  },
  {
   "cell_type": "code",
   "execution_count": 153,
   "id": "746a0ada",
   "metadata": {},
   "outputs": [
    {
     "data": {
      "text/plain": [
       "0.9495238095238095"
      ]
     },
     "execution_count": 153,
     "metadata": {},
     "output_type": "execute_result"
    }
   ],
   "source": [
    "precision_score(y_test, dt2_preds)"
   ]
  },
  {
   "cell_type": "code",
   "execution_count": 154,
   "id": "5726eeae",
   "metadata": {},
   "outputs": [
    {
     "data": {
      "text/plain": [
       "0.9478487614080835"
      ]
     },
     "execution_count": 154,
     "metadata": {},
     "output_type": "execute_result"
    }
   ],
   "source": [
    "precision_score(y_test, knn2_preds)"
   ]
  },
  {
   "cell_type": "code",
   "execution_count": 161,
   "id": "5151172e",
   "metadata": {},
   "outputs": [
    {
     "name": "stdout",
     "output_type": "stream",
     "text": [
      "Decision Tree:\n",
      "               precision    recall  f1-score   support\n",
      "\n",
      "           0       0.76      0.98      0.86      1748\n",
      "           1       0.95      0.58      0.72      1252\n",
      "\n",
      "    accuracy                           0.81      3000\n",
      "   macro avg       0.86      0.78      0.79      3000\n",
      "weighted avg       0.84      0.81      0.80      3000\n",
      "\n",
      "\n",
      "-------------------------------------------------------------------------------------\n",
      "\n",
      "KNN:\n",
      "               precision    recall  f1-score   support\n",
      "\n",
      "           0       0.76      0.98      0.86      1748\n",
      "           1       0.95      0.58      0.72      1252\n",
      "\n",
      "    accuracy                           0.81      3000\n",
      "   macro avg       0.86      0.78      0.79      3000\n",
      "weighted avg       0.84      0.81      0.80      3000\n",
      "\n"
     ]
    }
   ],
   "source": [
    "print(\"Decision Tree:\\n\", classification_report(y_test, knn2_preds))\n",
    "print(\"\\n-------------------------------------------------------------------------------------\\n\")\n",
    "print(\"KNN:\\n\", classification_report(y_test, knn2_preds))"
   ]
  }
 ],
 "metadata": {
  "kernelspec": {
   "display_name": "Python 3 (ipykernel)",
   "language": "python",
   "name": "python3"
  },
  "language_info": {
   "codemirror_mode": {
    "name": "ipython",
    "version": 3
   },
   "file_extension": ".py",
   "mimetype": "text/x-python",
   "name": "python",
   "nbconvert_exporter": "python",
   "pygments_lexer": "ipython3",
   "version": "3.10.9"
  }
 },
 "nbformat": 4,
 "nbformat_minor": 5
}
